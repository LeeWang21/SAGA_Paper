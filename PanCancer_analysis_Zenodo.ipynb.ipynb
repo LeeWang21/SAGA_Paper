{
 "cells": [
  {
   "cell_type": "code",
   "execution_count": null,
   "id": "18d501aa-7a8b-4928-8bc7-3e4c7127dee6",
   "metadata": {},
   "outputs": [],
   "source": [
    "import scanpy as sc\n",
    "import pandas as pd\n",
    "import numpy as np\n",
    "import seaborn as sns\n",
    "from matplotlib import pyplot as plt"
   ]
  },
  {
   "cell_type": "code",
   "execution_count": null,
   "id": "eeab9203-87d6-4e4f-b81a-f734147e8639",
   "metadata": {},
   "outputs": [],
   "source": [
    "import matplotlib as mpl\n",
    "\n",
    "mpl.rcParams['svg.fonttype'] = 'none'   \n",
    "mpl.rcParams['pdf.fonttype'] = 42       "
   ]
  },
  {
   "cell_type": "code",
   "execution_count": null,
   "id": "e85c2706-4fdf-40da-8abf-c80b8307a9aa",
   "metadata": {},
   "outputs": [],
   "source": [
    "wd = \"/public/home/liwang/project/xu_lab/Nature_QiangShi_2025_CMs\""
   ]
  },
  {
   "cell_type": "code",
   "execution_count": null,
   "id": "724a5142-1601-49c2-8fec-3c393131e2e8",
   "metadata": {},
   "outputs": [],
   "source": [
    "sc.__version__"
   ]
  },
  {
   "cell_type": "markdown",
   "id": "8221696c-c8ef-4f2b-8b07-12452b43d475",
   "metadata": {},
   "source": [
    "# Nature_QiangShi_2025_CMs"
   ]
  },
  {
   "cell_type": "code",
   "execution_count": null,
   "id": "08c94f37-ef8d-463a-9f3d-8866bb652db9",
   "metadata": {},
   "outputs": [],
   "source": [
    "PanCancer_AnnData = sc.read_h5ad(f\"{wd}/data/PanCancer_igt_s9_fine_counts.h5ad\")"
   ]
  },
  {
   "cell_type": "code",
   "execution_count": null,
   "id": "2fbce16d-68ef-43a1-afb5-8c8dc63eef09",
   "metadata": {},
   "outputs": [],
   "source": [
    "PanCancer_AnnData"
   ]
  },
  {
   "cell_type": "code",
   "execution_count": null,
   "id": "1080d375-970b-4ebb-a980-967936860009",
   "metadata": {},
   "outputs": [],
   "source": [
    "# normalization\n",
    "PanCancer_AnnData.layers['counts'] = PanCancer_AnnData.X.copy()\n",
    "sc.pp.normalize_total(PanCancer_AnnData, target_sum=1e4)\n",
    "sc.pp.log1p(PanCancer_AnnData)"
   ]
  },
  {
   "cell_type": "code",
   "execution_count": null,
   "id": "562e493a-1755-48a3-b7e2-beede5eb1f17",
   "metadata": {},
   "outputs": [],
   "source": [
    "PanCancer_AnnData[1:10].X.max()"
   ]
  },
  {
   "cell_type": "code",
   "execution_count": null,
   "id": "dd6a61c4-dc73-4cc0-8834-279e2d6bc28a",
   "metadata": {},
   "outputs": [],
   "source": [
    "PanCancer_AnnData"
   ]
  },
  {
   "cell_type": "code",
   "execution_count": null,
   "id": "0034bbdd-82a8-4147-8199-ced46265a6fe",
   "metadata": {},
   "outputs": [],
   "source": [
    "SAGA_complex = [\"TRRAP\", \"SGF29\", \"KAT2A\", \"KAT2B\", \"TADA2B\", \"TADA3\", \n",
    "                \"SUPT20H\", \"SUPT3H\", \"SUPT7L\", \"TADA1\", \"TAF5L\", \"TAF6L\", \"TAF9B\", \"TAF10\", \"TAF12\", \n",
    "                \"SF3B3\", \"SF3B5\", \n",
    "                \"ATXN7\", \"ATXN7L3\", \"ENY2\", \"USP22\"]"
   ]
  },
  {
   "cell_type": "code",
   "execution_count": null,
   "id": "be5a3af1-a234-4ee3-a277-289ae204ffdb",
   "metadata": {},
   "outputs": [],
   "source": [
    "for CancerType in PanCancer_AnnData.obs['cancerType'].cat.categories:\n",
    "    CancerType_AnnData = PanCancer_AnnData[PanCancer_AnnData.obs['cancerType'] == CancerType]\n",
    "    sc.pl.dotplot(CancerType_AnnData, var_names = SAGA_complex, groupby='majorCluster', title=CancerType)"
   ]
  },
  {
   "cell_type": "code",
   "execution_count": null,
   "id": "ca6b4251-37ea-4b25-8fca-24fbfd53c98e",
   "metadata": {},
   "outputs": [],
   "source": [
    "for CancerType in PanCancer_AnnData.obs['cancerType'].cat.categories:\n",
    "    CancerType_AnnData = PanCancer_AnnData[PanCancer_AnnData.obs['cancerType'] == CancerType]\n",
    "    sc.pl.dotplot(CancerType_AnnData, var_names = SAGA_complex, groupby='majorCluster', standard_scale='var', title=CancerType)"
   ]
  },
  {
   "cell_type": "code",
   "execution_count": null,
   "id": "3cd650ee-b92d-4574-afe5-4a787bb5bab3",
   "metadata": {},
   "outputs": [],
   "source": [
    "sc.pl.umap(PanCancer_AnnData[PanCancer_AnnData.obs['cancerType'] == 'CRC'], color = 'majorCluster')"
   ]
  },
  {
   "cell_type": "code",
   "execution_count": null,
   "id": "3a8b3337-eb50-4537-8582-777a09902051",
   "metadata": {},
   "outputs": [],
   "source": [
    "sc.pl.umap(PanCancer_AnnData[PanCancer_AnnData.obs['cancerType'] == 'CRC'], color = 'KAT2A')"
   ]
  },
  {
   "cell_type": "code",
   "execution_count": null,
   "id": "db407214-0694-4894-be6d-b450ddae989c",
   "metadata": {},
   "outputs": [],
   "source": [
    "sc.pl.umap(PanCancer_AnnData[PanCancer_AnnData.obs['cancerType'] == 'CRC'], color = 'SUPT20H')"
   ]
  },
  {
   "cell_type": "code",
   "execution_count": null,
   "id": "199bf207-2d00-487c-9a60-63af57c5413e",
   "metadata": {},
   "outputs": [],
   "source": [
    "sc.pl.umap(PanCancer_AnnData[PanCancer_AnnData.obs['cancerType'] == 'CRC'], color = 'SGF29')"
   ]
  },
  {
   "cell_type": "code",
   "execution_count": null,
   "id": "0e5d8b64-0e69-4e15-b84e-b0f46dfc0242",
   "metadata": {},
   "outputs": [],
   "source": [
    "# SAGA_complex score\n",
    "Complex_Score_Dict = {}\n",
    "for CancerType in PanCancer_AnnData.obs['cancerType'].cat.categories:\n",
    "    if CancerType == \"LYM\": # remove Hematologic cancer\n",
    "        continue\n",
    "        \n",
    "    #subste CancerType\n",
    "    CancerType_AnnData = PanCancer_AnnData[PanCancer_AnnData.obs['cancerType'] == CancerType].copy()\n",
    "    CancerType_SAGA_AnnData = CancerType_AnnData[:,SAGA_complex]\n",
    "\n",
    "    #Cell SAGA_Zscore\n",
    "    CancerType_SAGA_Zscore = (CancerType_SAGA_AnnData\n",
    "                              .to_df()\n",
    "                              .transform(func=lambda x: (x - x.mean()) / x.std(), axis=0)\n",
    "                              .apply(func='mean', axis=1)\n",
    "                              .rename(\"SAGA_Zscore\"))\n",
    "\n",
    "    # merge metadata\n",
    "    df = pd.concat([CancerType_SAGA_AnnData.obs[[\"cancerType\", \"majorCluster\"]].reset_index(drop=True),\n",
    "                    CancerType_SAGA_Zscore.reset_index(drop=True)], axis=1)\n",
    "\n",
    "    # Cluster SAGA_Zscore\n",
    "    df = df.groupby(['cancerType', 'majorCluster'], observed=True)['SAGA_Zscore'].mean().reset_index()\n",
    "    \n",
    "\n",
    "    Complex_Score_Dict[CancerType] = df"
   ]
  },
  {
   "cell_type": "code",
   "execution_count": null,
   "id": "35c6b6d3-4d63-42c8-935b-411c362c532d",
   "metadata": {},
   "outputs": [],
   "source": [
    "# concat all solid tumor\n",
    "PanCancer_SAGA_ZScore_df = pd.concat(Complex_Score_Dict.values(), ignore_index=True)\n",
    "\n",
    "PanCancer_SAGA_ZScore_df['SAGA_Zscore_minmax'] = (PanCancer_SAGA_ZScore_df.groupby('cancerType', observed=True)['SAGA_Zscore']\n",
    "                                  .transform(lambda x: (x - x.min()) / (x.max() - x.min())))\n",
    "\n",
    "PanCancer_SAGA_ZScore_df.to_csv(f\"{wd}/objects/PanCancer_SAGA_ZScore_df.csv\", index_label = 'index')"
   ]
  },
  {
   "cell_type": "code",
   "execution_count": null,
   "id": "ec751b90-4c2d-4b23-92eb-84896d877292",
   "metadata": {},
   "outputs": [],
   "source": [
    "PanCancer_SAGA_ZScore_df = pd.read_csv(f\"{wd}/objects/PanCancer_SAGA_ZScore_df.csv\", index_col = 'index')"
   ]
  },
  {
   "cell_type": "code",
   "execution_count": null,
   "id": "80eeb870-51df-432f-bd75-94ae27689da0",
   "metadata": {},
   "outputs": [],
   "source": [
    "PanCancer_SAGA_ZScore_df.head()"
   ]
  },
  {
   "cell_type": "code",
   "execution_count": null,
   "id": "e876e3ca-e04f-46a1-a8e8-2514cb85046a",
   "metadata": {},
   "outputs": [],
   "source": []
  },
  {
   "cell_type": "code",
   "execution_count": null,
   "id": "f27c09ed-3ae4-4b32-8e0a-529ead50dc2a",
   "metadata": {},
   "outputs": [],
   "source": []
  },
  {
   "cell_type": "code",
   "execution_count": null,
   "id": "1c6a7733-ea54-4ec0-8a0c-df936cf33f1f",
   "metadata": {},
   "outputs": [],
   "source": [
    "\n",
    "df = PanCancer_SAGA_ZScore_df.copy()\n",
    "\n",
    "# order\n",
    "df[\"cancerType\"] = pd.Categorical(df[\"cancerType\"], categories=CancerType_order, ordered=True)\n",
    "df[\"majorCluster\"] = pd.Categorical(df[\"majorCluster\"], categories=MajorCluster_order, ordered=True)\n",
    "\n",
    "# plot\n",
    "fig = plt.figure(figsize=(14, 4))\n",
    "ax = sns.scatterplot(\n",
    "    data=df,\n",
    "    x=\"cancerType\", \n",
    "    y=\"majorCluster\", \n",
    "    size=\"SAGA_Zscore_minmax\", \n",
    "    hue=\"SAGA_Zscore_minmax\",\n",
    "    sizes=(20, 200),       \n",
    "    palette=\"Reds\",     \n",
    "    edgecolor=\"none\"\n",
    ")\n",
    "\n",
    "# modify\n",
    "plt.xticks(rotation=90, fontsize=10)\n",
    "plt.yticks(fontsize=10)\n",
    "plt.xlabel(\"MajorCluster\", fontsize=12, weight=\"bold\")\n",
    "plt.ylabel(\"CancerType\", fontsize=12, weight=\"bold\")\n",
    "\n",
    "# \n",
    "handles, labels = ax.get_legend_handles_labels()\n",
    "# \n",
    "ax.legend([],[],frameon=False)\n",
    "\n",
    "# \n",
    "norm = plt.Normalize(df[\"SAGA_Zscore_minmax\"].min(), df[\"SAGA_Zscore_minmax\"].max())\n",
    "sm = plt.cm.ScalarMappable(cmap=\"Reds\", norm=norm)\n",
    "sm.set_array([])\n",
    "cbar = ax.figure.colorbar(sm, ax=ax)\n",
    "cbar.set_label(\"SAGA_Zscore_minmax\", fontsize=12)\n",
    "\n",
    "plt.tight_layout()\n",
    "plt.show()\n",
    "\n",
    "fig.savefig(f\"{wd}/figures/PanCancer_SAGA_Complex_ZScore_Dotplot2.pdf\")"
   ]
  },
  {
   "cell_type": "code",
   "execution_count": null,
   "id": "836f5726-c37a-4f84-b2c8-c3b4142e6282",
   "metadata": {},
   "outputs": [],
   "source": []
  },
  {
   "cell_type": "code",
   "execution_count": null,
   "id": "c8b03fde-f345-4ed2-96af-8654ffea3799",
   "metadata": {},
   "outputs": [],
   "source": [
    "PanCancer_AnnData = sc.read_h5ad(f\"{wd}/data/PanCancer_igt_s9_fine_counts.h5ad\", backed='r')\n",
    "CancerType_AnnData = PanCancer_AnnData[PanCancer_AnnData.obs['cancerType'] == 'CRC'].to_memory()\n",
    "\n",
    "CancerType_AnnData.isbacked"
   ]
  },
  {
   "cell_type": "code",
   "execution_count": null,
   "id": "d37f9892-84cf-4ee3-bc12-f5449acb91ad",
   "metadata": {},
   "outputs": [],
   "source": [
    "# normalization\n",
    "CancerType_AnnData.layers['counts'] = CancerType_AnnData.X.copy()\n",
    "sc.pp.normalize_total(CancerType_AnnData, target_sum=1e4)\n",
    "sc.pp.log1p(CancerType_AnnData)"
   ]
  },
  {
   "cell_type": "code",
   "execution_count": null,
   "id": "79e59db0-40b9-4382-bc67-db6b5b3ddfa3",
   "metadata": {},
   "outputs": [],
   "source": [
    "SAGA_complex = [\"TRRAP\", \"SGF29\", \"KAT2A\", \"KAT2B\", \"TADA2B\", \"TADA3\", \n",
    "                \"SUPT20H\", \"SUPT3H\", \"SUPT7L\", \"TADA1\", \"TAF5L\", \"TAF6L\", \"TAF9B\", \"TAF10\", \"TAF12\", \n",
    "                \"SF3B3\", \"SF3B5\", \n",
    "                \"ATXN7\", \"ATXN7L3\", \"ENY2\", \"USP22\"]\n",
    "\n",
    "\n",
    "MajorCluster_order = ['Epithelial', 'Endothelial', 'Stromal', 'ILC', 'CD8T', 'CD4T', 'Myeloid', 'B']"
   ]
  },
  {
   "cell_type": "code",
   "execution_count": null,
   "id": "66d8f49b-038d-496d-9366-733f78a909ab",
   "metadata": {},
   "outputs": [],
   "source": [
    "fig = plt.figure(figsize = (12,8), dpi=300)\n",
    "fig = sc.pl.dotplot(CancerType_AnnData, var_names = SAGA_complex, groupby='majorCluster', categories_order = MajorCluster_order, standard_scale='var', title='CRC', return_fig = True)\n",
    "fig.savefig(f\"{wd}/figures/CRC_SAGA_Complex_Exp_Dotplot.pdf\")"
   ]
  },
  {
   "cell_type": "code",
   "execution_count": null,
   "id": "e5ca7ee3-52f8-4c2a-a7a9-f6839fe42117",
   "metadata": {},
   "outputs": [],
   "source": []
  },
  {
   "cell_type": "code",
   "execution_count": null,
   "id": "22d14ee7-eb5d-46b2-9f16-d5c60409df3a",
   "metadata": {},
   "outputs": [],
   "source": []
  },
  {
   "cell_type": "code",
   "execution_count": null,
   "id": "1ba38177-0841-48dd-a809-fc426c818dca",
   "metadata": {},
   "outputs": [],
   "source": []
  },
  {
   "cell_type": "code",
   "execution_count": null,
   "id": "0c8b13dc-513e-4553-8b57-83afb39024fe",
   "metadata": {},
   "outputs": [],
   "source": []
  },
  {
   "cell_type": "code",
   "execution_count": null,
   "id": "72e7e01d-4e40-4046-a1ff-55d4bdc9b06d",
   "metadata": {},
   "outputs": [],
   "source": []
  },
  {
   "cell_type": "code",
   "execution_count": null,
   "id": "5dc9f456-1684-46ee-8440-5c047ffc329e",
   "metadata": {},
   "outputs": [],
   "source": []
  },
  {
   "cell_type": "code",
   "execution_count": null,
   "id": "bfec277d-1a6c-40be-ab2a-32fe5db2e163",
   "metadata": {},
   "outputs": [],
   "source": []
  }
 ],
 "metadata": {
  "@deathbeds/jupyterlab-fonts": {
   "fontLicenses": {
    "Anonymous Pro Bold": {
     "holders": [
      "Copyright (c) 2009, Mark Simonson (http://www.ms-studio.com, mark@marksimonson.com), with Reserved Font Name Anonymous Pro Minus."
     ],
     "name": "SIL Open Font License 1.1",
     "spdx": "OFL-1.1",
     "text": "Copyright (c) 2009, Mark Simonson (http://www.ms-studio.com, mark@marksimonson.com),\nwith Reserved Font Name Anonymous Pro Minus.\n\nThis Font Software is licensed under the SIL Open Font License, Version 1.1.\nThis license is copied below, and is also available with a FAQ at:\nhttp://scripts.sil.org/OFL\n\n\n-----------------------------------------------------------\nSIL OPEN FONT LICENSE Version 1.1 - 26 February 2007\n-----------------------------------------------------------\n\nPREAMBLE\nThe goals of the Open Font License (OFL) are to stimulate worldwide\ndevelopment of collaborative font projects, to support the font creation\nefforts of academic and linguistic communities, and to provide a free and\nopen framework in which fonts may be shared and improved in partnership\nwith others.\n\nThe OFL allows the licensed fonts to be used, studied, modified and\nredistributed freely as long as they are not sold by themselves. The\nfonts, including any derivative works, can be bundled, embedded,\nredistributed and/or sold with any software provided that any reserved\nnames are not used by derivative works. The fonts and derivatives,\nhowever, cannot be released under any other type of license. The\nrequirement for fonts to remain under this license does not apply\nto any document created using the fonts or their derivatives.\n\nDEFINITIONS\n\"Font Software\" refers to the set of files released by the Copyright\nHolder(s) under this license and clearly marked as such. This may\ninclude source files, build scripts and documentation.\n\n\"Reserved Font Name\" refers to any names specified as such after the\ncopyright statement(s).\n\n\"Original Version\" refers to the collection of Font Software components as\ndistributed by the Copyright Holder(s).\n\n\"Modified Version\" refers to any derivative made by adding to, deleting,\nor substituting -- in part or in whole -- any of the components of the\nOriginal Version, by changing formats or by porting the Font Software to a\nnew environment.\n\n\"Author\" refers to any designer, engineer, programmer, technical\nwriter or other person who contributed to the Font Software.\n\nPERMISSION & CONDITIONS\nPermission is hereby granted, free of charge, to any person obtaining\na copy of the Font Software, to use, study, copy, merge, embed, modify,\nredistribute, and sell modified and unmodified copies of the Font\nSoftware, subject to the following conditions:\n\n1) Neither the Font Software nor any of its individual components,\nin Original or Modified Versions, may be sold by itself.\n\n2) Original or Modified Versions of the Font Software may be bundled,\nredistributed and/or sold with any software, provided that each copy\ncontains the above copyright notice and this license. These can be\nincluded either as stand-alone text files, human-readable headers or\nin the appropriate machine-readable metadata fields within text or\nbinary files as long as those fields can be easily viewed by the user.\n\n3) No Modified Version of the Font Software may use the Reserved Font\nName(s) unless explicit written permission is granted by the corresponding\nCopyright Holder. This restriction only applies to the primary font name as\npresented to the users.\n\n4) The name(s) of the Copyright Holder(s) or the Author(s) of the Font\nSoftware shall not be used to promote, endorse or advertise any\nModified Version, except to acknowledge the contribution(s) of the\nCopyright Holder(s) and the Author(s) or with their explicit written\npermission.\n\n5) The Font Software, modified or unmodified, in part or in whole,\nmust be distributed entirely under this license, and must not be\ndistributed under any other license. The requirement for fonts to\nremain under this license does not apply to any document created\nusing the Font Software.\n\nTERMINATION\nThis license becomes null and void if any of the above conditions are\nnot met.\n\nDISCLAIMER\nTHE FONT SOFTWARE IS PROVIDED \"AS IS\", WITHOUT WARRANTY OF ANY KIND,\nEXPRESS OR IMPLIED, INCLUDING BUT NOT LIMITED TO ANY WARRANTIES OF\nMERCHANTABILITY, FITNESS FOR A PARTICULAR PURPOSE AND NONINFRINGEMENT\nOF COPYRIGHT, PATENT, TRADEMARK, OR OTHER RIGHT. IN NO EVENT SHALL THE\nCOPYRIGHT HOLDER BE LIABLE FOR ANY CLAIM, DAMAGES OR OTHER LIABILITY,\nINCLUDING ANY GENERAL, SPECIAL, INDIRECT, INCIDENTAL, OR CONSEQUENTIAL\nDAMAGES, WHETHER IN AN ACTION OF CONTRACT, TORT OR OTHERWISE, ARISING\nFROM, OUT OF THE USE OR INABILITY TO USE THE FONT SOFTWARE OR FROM\nOTHER DEALINGS IN THE FONT SOFTWARE.\n"
    }
   },
   "fonts": {
    "Anonymous Pro Bold": [
     {
      "font-family": "Anonymous Pro Bold",
      "src": "url('data:font/woff2;charset=utf-8;base64,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') format('woff2')"
     }
    ]
   },
   "styles": {
    ":root": {
     "--jp-code-font-family": "'Anonymous Pro Bold'",
     "--jp-code-font-size": "16px"
    }
   }
  },
  "kernelspec": {
   "display_name": "VisiumHD_Python",
   "language": "python",
   "name": "visiumhd_python"
  },
  "language_info": {
   "codemirror_mode": {
    "name": "ipython",
    "version": 3
   },
   "file_extension": ".py",
   "mimetype": "text/x-python",
   "name": "python",
   "nbconvert_exporter": "python",
   "pygments_lexer": "ipython3",
   "version": "3.12.8"
  }
 },
 "nbformat": 4,
 "nbformat_minor": 5
}
