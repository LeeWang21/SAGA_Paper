{
 "cells": [
  {
   "cell_type": "code",
   "execution_count": null,
   "id": "ef488316-1a1d-4c8f-9be8-5c21fd8b2bae",
   "metadata": {},
   "outputs": [],
   "source": [
    "library(\"Seurat\")\n",
    "library(\"tidyverse\")\n",
    "library('harmony')\n",
    "library('presto')\n",
    "library(\"scDblFinder\")\n",
    "library('miloR')\n",
    "library(\"cowplot\")\n",
    "library(\"viridis\")\n",
    "library('cetcolor')"
   ]
  },
  {
   "cell_type": "code",
   "execution_count": null,
   "id": "67d237c2-af09-422c-9f6d-e267d046e77d",
   "metadata": {},
   "outputs": [],
   "source": [
    "library('msigdbr')\n",
    "library('fgsea')"
   ]
  },
  {
   "cell_type": "code",
   "execution_count": null,
   "id": "f6fad896-d521-4d82-84bc-314c66ef03a0",
   "metadata": {},
   "outputs": [],
   "source": [
    "sessionInfo()"
   ]
  },
  {
   "cell_type": "code",
   "execution_count": null,
   "id": "bde135a7-7e5b-46e0-bfc4-0d9da55f9b82",
   "metadata": {},
   "outputs": [],
   "source": [
    "library('ggpubr')"
   ]
  },
  {
   "cell_type": "code",
   "execution_count": null,
   "id": "b45adc78-79b7-4251-855b-91db2261b9ca",
   "metadata": {},
   "outputs": [],
   "source": [
    "wd <- \"/public/home/liwang/project/xu_lab/Qinyue_xuguotai_CD45_20241216\""
   ]
  },
  {
   "cell_type": "code",
   "execution_count": null,
   "id": "1b92007b-5181-4ce7-a29d-1bab79f13e74",
   "metadata": {},
   "outputs": [],
   "source": [
    "\n",
    "# ltc_palettes package\n",
    "main_celltype_colors <- c('CD8T' = '#9b2226', 'CD4T' = '#D55D4C', 'gdT' = '#ca6702', 'NKT' = '#ee9b00', 'NK' = '#C2C1E0',\n",
    "                          'Macrophage' = '#005F73', 'Monocyte' = '#0a9396', 'cDC1' = '#94d2bd', 'cDC2' = '#66679C', 'Neutrophil' = '#e9d8a6',\n",
    "                          'mregDC' = '#B2CAEE', 'pDC' = '#D17C7D', 'Basophil' = '#F3BAA5', 'B_Cell' = '#67ADB7')\n",
    "\n",
    "#'NK' = '#f897a1'"
   ]
  },
  {
   "cell_type": "code",
   "execution_count": null,
   "id": "40fec89f-ff57-4b16-af47-a339968b83c3",
   "metadata": {},
   "outputs": [],
   "source": [
    "imm_subcelltype_colors <- c(Memory_B = \"#2d6037\", Naive_B = \"#64AE59\", Plasma_B = \"#839098\", CD8T_Tn = \"#ECA8A9\",\n",
    "                            GZMK_CD8_Tem = \"#74AED4\", CD8T_Tstem = \"#67ADB7\",CXCR6_CD4_Trm = \"#E4A6BD\", ISG15_Teffector = '#B3B2B3',\n",
    "                            MAIT = \"#F3D8E1\", FOXP3_CD4_Treg = \"#009170\", CXCL13_CD4_Tex = \"#78A040\", IFITM3_CD8_Teffector = '#839098',\n",
    "                            CD8T_Teffector = \"#2E75AB\", CD8T_Ttd = \"#009393\",FGFBP2_NK = \"#B06E3C\", XCL1_NK = \"#5AA2DA\",\n",
    "                            NKT = \"#FBD8A2\", ILC = \"#B84848\", Mast = \"#6567A0\", Undetermined = \"#87C3EC\",\n",
    "                            pDC = \"#BDE6FA\", cDC1 = \"#D7EFFB\", cDC2 = \"#6EB1DE\", LAMP3_DC = \"#92C2DD\", Neutrophil = \"#4A94C6\",\n",
    "                            PPARG_Mono = \"#FADED2\", CD16_Mono = \"#FAC7B3\", PPARG_Macro = \"#F0A29B\", SPP1_Macro = \"#B389B9\",\n",
    "                            LGMN_Macro = \"#CC7892\", FABP4_Macro = \"#E2A2B3\", CD14_Mono = \"#F3C6C1\", MIF_Macro = \"#89558D\")\n",
    "\n",
    "#c('CD8T_Tn', 'CD8T_Tstem', 'CD8T_Teffector', 'CD8T_Ttd')"
   ]
  },
  {
   "cell_type": "code",
   "execution_count": null,
   "id": "8d3c4975-0d79-4c57-b3cd-71b3268882cc",
   "metadata": {},
   "outputs": [],
   "source": [
    "transparent_bg <- theme(panel.background = element_rect(fill = NA, colour = NA),\n",
    "                        plot.background = element_rect(fill = NA, colour = NA),\n",
    "                        legend.box.background = element_rect(fill = NA, colour = NA),\n",
    "                        legend.background = element_rect(fill = NA, colour = NA),\n",
    "                        strip.background = element_rect(fill = NA, colour = NA))"
   ]
  },
  {
   "cell_type": "code",
   "execution_count": null,
   "id": "6d510d62-3d75-490c-96f0-97ccfe37fe3a",
   "metadata": {},
   "outputs": [],
   "source": []
  },
  {
   "cell_type": "code",
   "execution_count": null,
   "id": "908d1339-7e37-4d39-a028-a5b1b024f6f1",
   "metadata": {},
   "outputs": [],
   "source": [
    "sgRNA_color <- c('sgNT' = 'gray', 'sgC' = '#ee6378', 'sgS' = '#b63f53')"
   ]
  },
  {
   "cell_type": "code",
   "execution_count": null,
   "id": "ca7b4553-a0c9-4582-85a8-56ff5ec9c270",
   "metadata": {},
   "outputs": [],
   "source": [
    "sgRNA_color <- c('sgNT' = '#808080', 'sgC' = '#FF8080', 'sgS' = '#FF0000')"
   ]
  },
  {
   "cell_type": "markdown",
   "id": "f5947a2a-61a0-499d-8576-85b4350c585e",
   "metadata": {},
   "source": [
    "# scRNA Integrated analysis"
   ]
  },
  {
   "cell_type": "markdown",
   "id": "010b912b-55bd-46fa-895b-20300a92270f",
   "metadata": {},
   "source": [
    "## Data Load"
   ]
  },
  {
   "cell_type": "code",
   "execution_count": null,
   "id": "d9dd9ee3-027f-4a15-97a4-8514ed3d23d2",
   "metadata": {},
   "outputs": [],
   "source": [
    "##load the B16F10 data from filtered_feature_bc_matrix (10x platform)\n",
    "Cd45_samples <-c(\"NT\", \"C\", \"S\")\n",
    "\n",
    "#\n",
    "for (sample in Cd45_samples) {\n",
    "    print(paste0(wd, '/data/', sample,\"/filtered_feature_bc_matrix\"))\n",
    "    \n",
    "    assign(paste0(\"Cd45_\", sample, \"_matrix\"), \n",
    "           Read10X(data.dir = paste0(wd, '/data/', sample,\"/filtered_feature_bc_matrix\")))\n",
    "    \n",
    "    assign(paste0(\"Cd45_\", sample), \n",
    "           CreateSeuratObject(get(paste0(\"Cd45_\", sample, \"_matrix\")), project = paste0(\"Cd45_\", sample)))\n",
    "}"
   ]
  },
  {
   "cell_type": "code",
   "execution_count": null,
   "id": "8af4374b-3eb9-4b40-83b4-c471367d01c2",
   "metadata": {},
   "outputs": [],
   "source": [
    "##load the B16F10 data  (BD platform, mm10)\n",
    "Cd45_BD_SeuratObj <- readRDS(paste0(wd, '/data/rhapsodyPipeline_mm10/250115-B16-SMK_1_Seurat.rds'))\n",
    "\n",
    "# subset the cells belong to SampleTag10_mm, SampleTag11_mm, SampleTag12_mm\n",
    "Cd45_BD_SeuratObj <- subset(Cd45_BD_SeuratObj, subset = Sample_Tag %in% c('SampleTag10_mm', 'SampleTag11_mm', 'SampleTag12_mm'))\n",
    "Cd45_BD_SeuratObj$`orig.ident` <- Cd45_BD_SeuratObj$`Sample_Tag`\n",
    "Cd45_BD_SeuratObj$`Sample_Tag` <- NULL\n",
    "Cd45_BD_SeuratObj$`Sample_Name` <- NULL"
   ]
  },
  {
   "cell_type": "code",
   "execution_count": null,
   "id": "7ba82e07-7e30-4cb3-bac1-476b3fbc0ce6",
   "metadata": {},
   "outputs": [],
   "source": [
    "Cd45_BD_SeuratObj"
   ]
  },
  {
   "cell_type": "code",
   "execution_count": null,
   "id": "2af131d3-e426-404e-a027-5a9598fdf0a4",
   "metadata": {},
   "outputs": [],
   "source": [
    "##load the MC38 data from filtered_feature_bc_matrix (10x platform)\n",
    "Cd45_samples <-c(\"HXF_CC\", \"HXF_NT\", \"JFF_NT\", \"JFF_CC\")\n",
    "\n",
    "#\n",
    "for (sample in Cd45_samples) {\n",
    "    print(paste0(wd, '/data/', sample,\"/filtered_feature_bc_matrix\"))\n",
    "    \n",
    "    assign(paste0(\"Cd45_\", sample, \"_matrix\"), \n",
    "           Read10X(data.dir = paste0(wd, '/data/', sample,\"/filtered_feature_bc_matrix\")))\n",
    "    \n",
    "    assign(paste0(\"Cd45_\", sample), \n",
    "           CreateSeuratObject(get(paste0(\"Cd45_\", sample, \"_matrix\")), project = paste0(\"Cd45_\", sample)))\n",
    "}"
   ]
  },
  {
   "cell_type": "code",
   "execution_count": null,
   "id": "39c7f3b6-4192-4609-be00-d2fa094e94b0",
   "metadata": {},
   "outputs": [],
   "source": [
    "ls()"
   ]
  },
  {
   "cell_type": "code",
   "execution_count": null,
   "id": "b9f80533-00d3-443d-b18a-f973c32a026a",
   "metadata": {},
   "outputs": [],
   "source": [
    "Cd45_NT;\n",
    "Cd45_C;\n",
    "Cd45_S;\n",
    "Cd45_BD_SeuratObj;\n",
    "Cd45_HXF_NT;\n",
    "Cd45_HXF_CC;\n",
    "Cd45_JFF_NT;\n",
    "Cd45_JFF_CC;"
   ]
  },
  {
   "cell_type": "code",
   "execution_count": null,
   "id": "7f07ae46-3b55-4857-a1e5-df7f637666b3",
   "metadata": {},
   "outputs": [],
   "source": [
    "# merge all into one object \n",
    "SAGA_TIL_SeuratObj_List <- list(Cd45_NT, Cd45_C, Cd45_S, Cd45_BD_SeuratObj, Cd45_HXF_NT, Cd45_HXF_CC, Cd45_JFF_NT, Cd45_JFF_CC)\n",
    "common_genes <- Reduce(intersect, lapply(SAGA_TIL_SeuratObj_List, rownames))\n",
    "SAGA_TIL_SeuratObj_List <- lapply(SAGA_TIL_SeuratObj_List, function(x) x[common_genes, ])\n",
    "\n",
    "SAGA_TIL_SeuratObj <- merge(SAGA_TIL_SeuratObj_List[[1]], y = SAGA_TIL_SeuratObj_List[-1])"
   ]
  },
  {
   "cell_type": "code",
   "execution_count": null,
   "id": "d8d47da6-3422-4947-b240-87f87646b7c0",
   "metadata": {},
   "outputs": [],
   "source": [
    "SAGA_TIL_SeuratObj$orig.ident %>% unique()"
   ]
  },
  {
   "cell_type": "code",
   "execution_count": null,
   "id": "4d8212d4-f9f5-4079-baf1-68b6682c1f1b",
   "metadata": {},
   "outputs": [],
   "source": [
    "head(SAGA_TIL_SeuratObj[[]])"
   ]
  },
  {
   "cell_type": "code",
   "execution_count": null,
   "id": "5e1c144d-3ab7-493c-a1e5-702b36bf09e9",
   "metadata": {},
   "outputs": [],
   "source": [
    "# harmonize the metadata\n",
    "\n",
    "SAGA_TIL_Metadata <- SAGA_TIL_SeuratObj[[]] %>% \n",
    "    mutate(sgRNA = case_match(orig.ident,\n",
    "                              c(\"Cd45_NT\", \"SampleTag10_mm\", \"Cd45_HXF_NT\", \"Cd45_JFF_NT\") ~ \"sgNT\",\n",
    "                              c(\"Cd45_C\", \"SampleTag11_mm\", \"Cd45_HXF_CC\", \"Cd45_JFF_CC\") ~ \"sgC\",\n",
    "                              c(\"Cd45_S\", \"SampleTag12_mm\") ~ \"sgS\")) %>%\n",
    "    mutate(CellLine = case_match(orig.ident,\n",
    "                                 c(\"Cd45_NT\", \"Cd45_C\", \"Cd45_S\", \"SampleTag10_mm\", \"SampleTag11_mm\", \"SampleTag12_mm\") ~ \"B16F10\",\n",
    "                                 c(\"Cd45_HXF_NT\", \"Cd45_JFF_NT\", \"Cd45_HXF_CC\", \"Cd45_JFF_CC\") ~ \"MC38\")) %>%\n",
    "    mutate(ExperimentID = case_match(orig.ident,\n",
    "                                     c(\"Cd45_NT\", \"Cd45_C\", \"Cd45_S\") ~ \"Experiment1\",\n",
    "                                     c(\"SampleTag10_mm\", \"SampleTag11_mm\", \"SampleTag12_mm\") ~ \"Experiment2\",\n",
    "                                     c(\"Cd45_HXF_NT\", \"Cd45_HXF_CC\") ~ \"Experiment3\",\n",
    "                                     c(\"Cd45_JFF_NT\", \"Cd45_JFF_CC\") ~ \"Experiment4\")) %>%\n",
    "    mutate(Platform = case_match(orig.ident,\n",
    "                                 c(\"Cd45_NT\", \"Cd45_C\", \"Cd45_S\", \"Cd45_HXF_NT\", \"Cd45_JFF_NT\", \"Cd45_HXF_CC\", \"Cd45_JFF_CC\") ~ \"10x\",\n",
    "                                 c(\"SampleTag10_mm\", \"SampleTag11_mm\", \"SampleTag12_mm\") ~ \"BD\")) %>%\n",
    "    mutate(Operator = case_match(orig.ident,\n",
    "                                 c(\"Cd45_NT\", \"Cd45_C\", \"Cd45_S\", \"SampleTag10_mm\", \"SampleTag11_mm\", \"SampleTag12_mm\") ~ \"QY\",\n",
    "                                 c(\"Cd45_HXF_NT\", \"Cd45_HXF_CC\") ~ \"HXF\",\n",
    "                                 c(\"Cd45_JFF_NT\", \"Cd45_JFF_CC\") ~ \"JFF\")) %>%\n",
    "    unite(Sample, c('CellLine', 'sgRNA', 'ExperimentID'), remove = F) %>%\n",
    "    mutate(sgRNA = factor(sgRNA, levels = c('sgNT', 'sgC', 'sgS')))\n",
    "    \n",
    "\n",
    "SAGA_TIL_SeuratObj <- AddMetaData(object = SAGA_TIL_SeuratObj, metadata = SAGA_TIL_Metadata)"
   ]
  },
  {
   "cell_type": "code",
   "execution_count": null,
   "id": "61af8c2a-5d4d-48b1-bc0e-4be2c0a1a820",
   "metadata": {},
   "outputs": [],
   "source": [
    "SAGA_TIL_SeuratObj$Sample %>% unique()"
   ]
  },
  {
   "cell_type": "code",
   "execution_count": null,
   "id": "2d296e23-74be-4614-a461-57f6c3eb57f3",
   "metadata": {},
   "outputs": [],
   "source": [
    "dim(SAGA_TIL_SeuratObj)"
   ]
  },
  {
   "cell_type": "code",
   "execution_count": null,
   "id": "f677083e-1442-4dc4-96fd-09b01477bd1c",
   "metadata": {},
   "outputs": [],
   "source": []
  },
  {
   "cell_type": "markdown",
   "id": "d044c0de-c47c-4a2e-8d62-4df83fbd9c1f",
   "metadata": {},
   "source": [
    "## Delete doublet cell"
   ]
  },
  {
   "cell_type": "code",
   "execution_count": null,
   "id": "877b50ca-012d-46b9-ac50-13be9e0b19c8",
   "metadata": {},
   "outputs": [],
   "source": [
    "SAGA_TIL_SeuratObj$nCount_RNA %>% summary()"
   ]
  },
  {
   "cell_type": "code",
   "execution_count": null,
   "id": "97f3abb2-3f3b-43ca-acaf-a2c21f1de6c8",
   "metadata": {},
   "outputs": [],
   "source": [
    "#remove cells with a very low coverage (e.g. <200 reads)\n",
    "SAGA_TIL_SeuratObj <- subset(SAGA_TIL_SeuratObj, subset = nCount_RNA > 200)"
   ]
  },
  {
   "cell_type": "code",
   "execution_count": null,
   "id": "ef5724de-ec20-4a84-b0d9-2160640ffbb1",
   "metadata": {},
   "outputs": [],
   "source": [
    "SAGA_TIL_SeuratObj_List <- SplitObject(object = SAGA_TIL_SeuratObj, split.by = 'Sample')"
   ]
  },
  {
   "cell_type": "code",
   "execution_count": null,
   "id": "f553b6b6-38fc-41d4-9046-7c93ddfcacc2",
   "metadata": {},
   "outputs": [],
   "source": [
    "### determine the multiplets using scDblFinder (the dataset does not contain any empty drops, but hasn't been further filtered; be necessary to remove cells with a very low coverage (e.g. <200 reads) to avoid errors)\n",
    "\n",
    "\n",
    "SAGA_TIL_sce_List <- lapply(X = SAGA_TIL_SeuratObj_List, FUN = function (x) {\n",
    "    \n",
    "    x <- as.SingleCellExperiment( x, assay = \"RNA\")\n",
    "    \n",
    "    set.seed(1234)\n",
    "    x <- scDblFinder(x)\n",
    "\n",
    "})"
   ]
  },
  {
   "cell_type": "code",
   "execution_count": null,
   "id": "9c304e2f-1a5f-49fe-b63b-714720c0407e",
   "metadata": {},
   "outputs": [],
   "source": [
    "saveRDS(SAGA_TIL_sce_List, paste0(wd, '/objects_v2/SAGA_TIL_sce_List.rds'))"
   ]
  },
  {
   "cell_type": "code",
   "execution_count": null,
   "id": "ea7922a2-5959-4ac0-9241-70cecb107373",
   "metadata": {},
   "outputs": [],
   "source": [
    "### subset the singlet\n",
    "SAGA_TIL_singlet_list <- lapply(X = SAGA_TIL_sce_List, FUN = function (x) {\n",
    "    \n",
    "    print(table(x$scDblFinder.class))\n",
    "    x <- rownames(subset(colData(x), scDblFinder.class == \"singlet\"))\n",
    "    \n",
    "})\n",
    "\n",
    "### subset the singlet\n",
    "for ( i in seq_along(SAGA_TIL_SeuratObj_List)) {\n",
    "    SAGA_TIL_SeuratObj_List[[i]] <- subset(SAGA_TIL_SeuratObj_List[[i]], cells = SAGA_TIL_singlet_list[[names(SAGA_TIL_SeuratObj_List[i])]])\n",
    "}"
   ]
  },
  {
   "cell_type": "code",
   "execution_count": null,
   "id": "96806da6-c49f-46ec-9225-bfa330901066",
   "metadata": {},
   "outputs": [],
   "source": [
    "n_cells <- 0\n",
    "for ( i in SAGA_TIL_SeuratObj_List) {\n",
    "    n_cells <- nrow(i[[]]) + n_cells\n",
    "}\n",
    "\n",
    "n_cells"
   ]
  },
  {
   "cell_type": "code",
   "execution_count": null,
   "id": "0ee02145-7101-40ee-8759-2bae5703b523",
   "metadata": {},
   "outputs": [],
   "source": [
    "# merge all into one object\n",
    "SAGA_TIL_SeuratObj <- merge(x = SAGA_TIL_SeuratObj_List[[1]], y = SAGA_TIL_SeuratObj_List[-1])"
   ]
  },
  {
   "cell_type": "code",
   "execution_count": null,
   "id": "a3b79795-0dc5-4d16-9dd7-ebfb886f08e4",
   "metadata": {},
   "outputs": [],
   "source": [
    "SAGA_TIL_SeuratObj %>% dim()"
   ]
  },
  {
   "cell_type": "markdown",
   "id": "db55722b-fb7a-4bf1-bc37-c283855158a3",
   "metadata": {},
   "source": [
    "## Quality control"
   ]
  },
  {
   "cell_type": "code",
   "execution_count": null,
   "id": "8bd5b3fa-989e-4490-b5ad-bed7621d70c6",
   "metadata": {},
   "outputs": [],
   "source": [
    "# data qc: calculate pMT, pHB\n",
    "\n",
    "SAGA_TIL_SeuratObj <- PercentageFeatureSet(SAGA_TIL_SeuratObj, pattern = \"^mt-\", col.name = \"pMT\")\n",
    "SAGA_TIL_SeuratObj <- PercentageFeatureSet(SAGA_TIL_SeuratObj, pattern = \"^Hba|^Hbb\", col.name = \"pHB\")"
   ]
  },
  {
   "cell_type": "code",
   "execution_count": null,
   "id": "9d0b685e-a524-4e22-b32d-75f6d5cccc0c",
   "metadata": {},
   "outputs": [],
   "source": [
    "options(repr.plot.height = 10, repr.plot.width = 10)\n",
    "VlnPlot(object = SAGA_TIL_SeuratObj, features = c('pMT', 'pHB'), pt.size = 0, ncol = 1, group.by = 'Sample')"
   ]
  },
  {
   "cell_type": "code",
   "execution_count": null,
   "id": "4a131aca-7575-414a-a92c-c859a9973cb8",
   "metadata": {},
   "outputs": [],
   "source": [
    "options(repr.plot.height = 10, repr.plot.width = 10)\n",
    "VlnPlot(object = SAGA_TIL_SeuratObj, features = c('nCount_RNA', 'nFeature_RNA'), pt.size = 0, ncol = 1, group.by = 'Sample') +\n",
    "    geom_hline(yintercept = 1000, linetype = \"dashed\", color = \"red\")"
   ]
  },
  {
   "cell_type": "code",
   "execution_count": null,
   "id": "f0600a08-dc4a-41a5-b75a-9da2197e37d1",
   "metadata": {},
   "outputs": [],
   "source": [
    "#qc parameters\n",
    "nFeature_lower <- 200        # the lower bound is set as 200\n",
    "nFeature_upper <- 6500\n",
    "nCount_lower <- 1000\n",
    "nCount_upper <- Inf\n",
    "pMT_lower <- 0\n",
    "pMT_upper <- 10\n",
    "pHB_lower <- 0\n",
    "pHB_upper <- 5"
   ]
  },
  {
   "cell_type": "code",
   "execution_count": null,
   "id": "5c23d85d-f4f5-4f1c-a5ca-c22e9c15adb8",
   "metadata": {},
   "outputs": [],
   "source": [
    "# filter based on n_feature, n_count, pMT, pHB\n",
    "\n",
    "SAGA_TIL_SeuratObj <- subset(SAGA_TIL_SeuratObj, subset = nFeature_RNA > nFeature_lower & nFeature_RNA < nFeature_upper & nCount_RNA > nCount_lower & nCount_RNA < nCount_upper & pMT < pMT_upper & pHB < pHB_upper)"
   ]
  },
  {
   "cell_type": "code",
   "execution_count": null,
   "id": "2ba3f6a6-3fa0-4c9a-89a6-d64e30517746",
   "metadata": {},
   "outputs": [],
   "source": [
    "dim(SAGA_TIL_SeuratObj)"
   ]
  },
  {
   "cell_type": "code",
   "execution_count": null,
   "id": "7fc21690-2c8f-4287-91d8-7d5961b87d50",
   "metadata": {},
   "outputs": [],
   "source": [
    "SAGA_TIL_SeuratObj"
   ]
  },
  {
   "cell_type": "code",
   "execution_count": null,
   "id": "8d0ba84f-4561-41e8-8a33-c5dfe57af58f",
   "metadata": {},
   "outputs": [],
   "source": [
    "saveRDS(SAGA_TIL_SeuratObj, paste0(wd, '/objects_v2/SAGA_TIL_SeuratObj.rds'))"
   ]
  },
  {
   "cell_type": "markdown",
   "id": "25b6449a-2ee1-42a4-a8fd-80435473013e",
   "metadata": {},
   "source": [
    "## Cell line subset and integration"
   ]
  },
  {
   "cell_type": "code",
   "execution_count": null,
   "id": "2577cdcb-cbb8-408f-bf33-b3398d804323",
   "metadata": {},
   "outputs": [],
   "source": [
    "SAGA_TIL_SeuratObj <- readRDS(paste0(wd, '/objects_v2/SAGA_TIL_SeuratObj.rds'))"
   ]
  },
  {
   "cell_type": "code",
   "execution_count": null,
   "id": "7cdcf497-d6b3-4304-ae7c-b54a88ee322d",
   "metadata": {},
   "outputs": [],
   "source": [
    "#SAGA_TIL_B16_SeuratObj <- subset(SAGA_TIL_SeuratObj, subset = CellLine == 'B16F10' & Maincluster_res0.3 != 'Unknown' & Maincluster_res0.3 != 'Stromal' & Maincluster_res0.3 != 'Low_Quality')\n",
    "#SAGA_TIL_MC38_SeuratObj <- subset(SAGA_TIL_SeuratObj, subset = CellLine == 'MC38' & Maincluster_res0.3 != 'Unknown' & Maincluster_res0.3 != 'Stromal' & Maincluster_res0.3 != 'Low_Quality')"
   ]
  },
  {
   "cell_type": "code",
   "execution_count": null,
   "id": "42027f4f-bb85-46de-83f7-b73aa12dc687",
   "metadata": {},
   "outputs": [],
   "source": [
    "SAGA_TIL_B16_SeuratObj <- subset(SAGA_TIL_SeuratObj, subset = CellLine == 'B16F10')\n",
    "SAGA_TIL_MC38_SeuratObj <- subset(SAGA_TIL_SeuratObj, subset = CellLine == 'MC38')"
   ]
  },
  {
   "cell_type": "markdown",
   "id": "a79a4a2c-c487-4817-a0a0-06ff8e39a350",
   "metadata": {},
   "source": [
    "### B16F10"
   ]
  },
  {
   "cell_type": "code",
   "execution_count": null,
   "id": "29250631-d958-40c4-8cc0-ae957cd29a31",
   "metadata": {},
   "outputs": [],
   "source": [
    "#normalization\n",
    "SAGA_TIL_B16_SeuratObj <- SAGA_TIL_B16_SeuratObj %>% NormalizeData(verbose = FALSE)"
   ]
  },
  {
   "cell_type": "code",
   "execution_count": null,
   "id": "5bba84f7-bea5-4826-a4f6-ed1fdf00d883",
   "metadata": {},
   "outputs": [],
   "source": [
    "# find variable genes in each sample\n",
    "seurat_list <- SplitObject(SAGA_TIL_B16_SeuratObj, split.by = \"Sample\")\n",
    "\n",
    "\n",
    "seurat_list <- lapply(seurat_list, function(obj) {\n",
    "  obj <- NormalizeData(obj)\n",
    "  obj <- FindVariableFeatures(obj, selection.method = \"vst\", nfeatures = 2000)\n",
    "  return(obj)\n",
    "})\n",
    "\n",
    "# \n",
    "fvf_features <- SelectIntegrationFeatures(object.list = seurat_list, nfeatures = 2000)\n",
    "\n",
    "# \n",
    "VariableFeatures(SAGA_TIL_B16_SeuratObj) <- fvf_features"
   ]
  },
  {
   "cell_type": "code",
   "execution_count": null,
   "id": "3cba04ee-3688-4057-962e-e6ff7fbf0c50",
   "metadata": {},
   "outputs": [],
   "source": [
    "#run scale_data\n",
    "SAGA_TIL_B16_SeuratObj <- ScaleData(SAGA_TIL_B16_SeuratObj, verbose = T)"
   ]
  },
  {
   "cell_type": "code",
   "execution_count": null,
   "id": "d0088c8b-575d-4549-ac20-db26df8c7460",
   "metadata": {},
   "outputs": [],
   "source": [
    "SAGA_TIL_B16_SeuratObj"
   ]
  },
  {
   "cell_type": "code",
   "execution_count": null,
   "id": "d524bbfb-da33-425b-84e5-48bc4b09b91a",
   "metadata": {},
   "outputs": [],
   "source": [
    "SAGA_TIL_B16_SeuratObj <- RunPCA(SAGA_TIL_B16_SeuratObj, features = as.character(VariableFeatures(SAGA_TIL_B16_SeuratObj)), npcs = 50, verbose = FALSE)"
   ]
  },
  {
   "cell_type": "code",
   "execution_count": null,
   "id": "3d5f55cd-89f9-4137-8772-bc088212f0c4",
   "metadata": {},
   "outputs": [],
   "source": [
    "# run harmony\n",
    "options(repr.plot.height = 8, repr.plot.width = 8)\n",
    "SAGA_TIL_B16_SeuratObj <- RunHarmony(object = SAGA_TIL_B16_SeuratObj, group.by.vars = 'Sample', max.iter.harmony = 20, plot_convergence = T)"
   ]
  },
  {
   "cell_type": "code",
   "execution_count": null,
   "id": "b6b28d46-500e-4d83-b2dc-f150b528f451",
   "metadata": {},
   "outputs": [],
   "source": [
    "# UMAP\n",
    "SAGA_TIL_B16_SeuratObj <- RunUMAP(SAGA_TIL_B16_SeuratObj, dims = 1:50, reduction = \"harmony\", verbose = F )"
   ]
  },
  {
   "cell_type": "code",
   "execution_count": null,
   "id": "fdc05875-74a8-4cc6-8bf0-023025a3c281",
   "metadata": {},
   "outputs": [],
   "source": [
    "options(repr.plot.height = 8, repr.plot.width = 10)\n",
    "DimPlot(object = SAGA_TIL_B16_SeuratObj, reduction = 'umap', group.by = 'Sample')"
   ]
  },
  {
   "cell_type": "code",
   "execution_count": null,
   "id": "a04de692-6eaa-4ac8-9938-9269bcc26ffb",
   "metadata": {},
   "outputs": [],
   "source": [
    "options(repr.plot.height = 8, repr.plot.width = 10)\n",
    "DimPlot(object = SAGA_TIL_B16_SeuratObj, reduction = 'umap', group.by = 'CellLine')"
   ]
  },
  {
   "cell_type": "markdown",
   "id": "4e977f25-1350-45ac-a0ab-23d231fe3375",
   "metadata": {},
   "source": [
    "### MC38"
   ]
  },
  {
   "cell_type": "code",
   "execution_count": null,
   "id": "29258d22-d97b-4d51-a237-5af49c2be163",
   "metadata": {},
   "outputs": [],
   "source": [
    "#normalization\n",
    "SAGA_TIL_MC38_SeuratObj <- SAGA_TIL_MC38_SeuratObj %>% NormalizeData(verbose = FALSE)"
   ]
  },
  {
   "cell_type": "code",
   "execution_count": null,
   "id": "7ad0b32d-4859-4db7-9478-e3ce79337cdc",
   "metadata": {},
   "outputs": [],
   "source": [
    "# find variable genes in each sample\n",
    "seurat_list <- SplitObject(SAGA_TIL_MC38_SeuratObj, split.by = \"Sample\")\n",
    "\n",
    "\n",
    "seurat_list <- lapply(seurat_list, function(obj) {\n",
    "  obj <- NormalizeData(obj)\n",
    "  obj <- FindVariableFeatures(obj, selection.method = \"vst\", nfeatures = 2000)\n",
    "  return(obj)\n",
    "})\n",
    "\n",
    "# \n",
    "fvf_features <- SelectIntegrationFeatures(object.list = seurat_list, nfeatures = 2000)\n",
    "\n",
    "# \n",
    "VariableFeatures(SAGA_TIL_MC38_SeuratObj) <- fvf_features"
   ]
  },
  {
   "cell_type": "code",
   "execution_count": null,
   "id": "af0013df-aa5f-4a73-97d8-e8630d3dc193",
   "metadata": {},
   "outputs": [],
   "source": [
    "#run scale_data\n",
    "SAGA_TIL_MC38_SeuratObj <- ScaleData(SAGA_TIL_MC38_SeuratObj, verbose = T)"
   ]
  },
  {
   "cell_type": "code",
   "execution_count": null,
   "id": "7985b108-9de7-4165-af57-1c34808451da",
   "metadata": {},
   "outputs": [],
   "source": [
    "SAGA_TIL_MC38_SeuratObj"
   ]
  },
  {
   "cell_type": "code",
   "execution_count": null,
   "id": "cebb312b-ee48-4618-93f0-a899d86f43f0",
   "metadata": {},
   "outputs": [],
   "source": [
    "SAGA_TIL_MC38_SeuratObj <- RunPCA(SAGA_TIL_MC38_SeuratObj, features = as.character(VariableFeatures(SAGA_TIL_MC38_SeuratObj)), npcs = 50, verbose = FALSE)"
   ]
  },
  {
   "cell_type": "code",
   "execution_count": null,
   "id": "e7f7000b-6b38-43d4-a4da-a547ecc26afa",
   "metadata": {},
   "outputs": [],
   "source": [
    "# run harmony\n",
    "options(repr.plot.height = 8, repr.plot.width = 8)\n",
    "SAGA_TIL_MC38_SeuratObj <- RunHarmony(object = SAGA_TIL_MC38_SeuratObj, group.by.vars = 'Sample', max.iter.harmony = 20, plot_convergence = T)"
   ]
  },
  {
   "cell_type": "code",
   "execution_count": null,
   "id": "93964575-ff80-418b-a1c0-f74674bd194c",
   "metadata": {},
   "outputs": [],
   "source": [
    "# UMAP\n",
    "SAGA_TIL_MC38_SeuratObj <- RunUMAP(SAGA_TIL_MC38_SeuratObj, dims = 1:50, reduction = \"harmony\", verbose = F )"
   ]
  },
  {
   "cell_type": "code",
   "execution_count": null,
   "id": "984fc1f7-9491-41a8-be75-ce39654afb27",
   "metadata": {},
   "outputs": [],
   "source": [
    "options(repr.plot.height = 8, repr.plot.width = 10)\n",
    "DimPlot(object = SAGA_TIL_MC38_SeuratObj, reduction = 'umap', group.by = 'Sample')"
   ]
  },
  {
   "cell_type": "code",
   "execution_count": null,
   "id": "12123962-6d45-4003-9f6a-f6533d1431e1",
   "metadata": {},
   "outputs": [],
   "source": [
    "options(repr.plot.height = 8, repr.plot.width = 10)\n",
    "DimPlot(object = SAGA_TIL_MC38_SeuratObj, reduction = 'umap', group.by = 'CellLine')"
   ]
  },
  {
   "cell_type": "code",
   "execution_count": null,
   "id": "ea3d3ab0-36a3-4b42-beb2-477e8490dea5",
   "metadata": {},
   "outputs": [],
   "source": []
  },
  {
   "cell_type": "code",
   "execution_count": null,
   "id": "a96a1903-1947-48bd-92fc-95c27c635d82",
   "metadata": {},
   "outputs": [],
   "source": [
    "saveRDS(SAGA_TIL_B16_SeuratObj, paste0(wd, '/objects_v2/SAGA_TIL_B16_SeuratObj.rds'))\n",
    "saveRDS(SAGA_TIL_MC38_SeuratObj, paste0(wd, '/objects_v2/SAGA_TIL_MC38_SeuratObj.rds'))"
   ]
  },
  {
   "cell_type": "code",
   "execution_count": null,
   "id": "77c7a957-9f8d-47ee-a3cc-e9c6cf788da7",
   "metadata": {},
   "outputs": [],
   "source": []
  },
  {
   "cell_type": "markdown",
   "id": "9880a01a-acea-418f-a846-de1974e0ab65",
   "metadata": {},
   "source": [
    "## Clustering and annotation"
   ]
  },
  {
   "cell_type": "markdown",
   "id": "5c5b2b31-6c52-4787-a6d4-0ac0aa2a585f",
   "metadata": {},
   "source": [
    "### B16F10"
   ]
  },
  {
   "cell_type": "code",
   "execution_count": null,
   "id": "391cf551-eb8f-4bfd-af33-5596a771586d",
   "metadata": {},
   "outputs": [],
   "source": [
    "SAGA_TIL_B16_SeuratObj"
   ]
  },
  {
   "cell_type": "code",
   "execution_count": null,
   "id": "e15ff430-ff15-488f-b465-c4335e95af94",
   "metadata": {},
   "outputs": [],
   "source": [
    "# FindNeighbors\n",
    "SAGA_TIL_B16_SeuratObj <- FindNeighbors(SAGA_TIL_B16_SeuratObj, dims = 1:50, reduction = \"harmony\", verbose = F)"
   ]
  },
  {
   "cell_type": "code",
   "execution_count": null,
   "id": "1b5a1e8c-842a-434d-ba6c-e3263535b39a",
   "metadata": {},
   "outputs": [],
   "source": [
    "# FindClusters\n",
    "options(repr.plot.height = 8, repr.plot.width = 8)\n",
    "for (i in c(0.1, 0.2, 0.3, 0.4, 0.5, 0.6, 0.7, 0.8, 0.9, 1)) {\n",
    "  SAGA_TIL_B16_SeuratObj <- FindClusters(SAGA_TIL_B16_SeuratObj, resolution = i, verbose = F)\n",
    "  print(DimPlot(SAGA_TIL_B16_SeuratObj, reduction = \"umap\", label = T) + labs(title = paste0(\"resolution: \", i)))\n",
    "}"
   ]
  },
  {
   "cell_type": "code",
   "execution_count": null,
   "id": "489c58a7-2bb6-4050-b153-fc01cd797288",
   "metadata": {},
   "outputs": [],
   "source": [
    "options(repr.plot.width = 28, repr.plot.height = 42)\n",
    "mainmarkers <- c('Cd3g', 'Cd4', 'Cd8a', # Conventional T\n",
    "                 'Trdc','Trdv1','Trgv9', #gdT\n",
    "                 'Trac', 'Klrb1c', #NKT\n",
    "                 'Nkg7', 'Ncr1',#Nk\n",
    "                 'Cd79a', \"Ms4a1\", #B\n",
    "                 'Jchain', 'Ighg1', #Plasma\n",
    "                 \"Xcr1\", \"Cadm1\", 'Clec9a', 'Cd24a', #cDC1\n",
    "                 'Itgax', 'H2-DMb2', #cDC2\n",
    "                 \"Fscn1\", \"Ccr7\", \"Cacnb3\", #mDC\n",
    "                 \"Siglech\", \"Ccr9\", \"Pacsin1\", #pDC\n",
    "                 \"S100a8\", 'S100a9', 'Csf3r', #Neutrophil\n",
    "                 \"Il6\", \"Fcer1a\", \"Cpa3\", \"Ms4a2\", \"Gata2\", #Basophil\n",
    "                 'Csf1r', #Mono_Mac\n",
    "                 \"Ly6c2\", \"Ccr2\" , \"Cd14\", \"Sell\", \"Trem1\", #Classical Mono\n",
    "                 'Cx3cr1', \"Itgal\", \"Ace\", \"Fcgr3\", \"Nr4a1\", \"F13a1\", #NonClassical Mono\n",
    "                 'Mafb', 'C1qb', #Mac\n",
    "                 'Mki67') #Prolif.\n",
    "\n",
    "FeaturePlot(object = SAGA_TIL_B16_SeuratObj, features = mainmarkers[1:25], order = F) *\n",
    "    theme(plot.title = element_text(size = 25))"
   ]
  },
  {
   "cell_type": "code",
   "execution_count": null,
   "id": "bb19f181-28d8-4624-a968-a1496ed7320c",
   "metadata": {},
   "outputs": [],
   "source": [
    "options(repr.plot.width = 28, repr.plot.height = 42)\n",
    "mainmarkers <- c('Cd3g', 'Cd4', 'Cd8a', # Conventional T\n",
    "                 'Trdc','Trdv1','Trgv9', #gdT\n",
    "                 'Trac', 'Klrb1c', #NKT\n",
    "                 'Nkg7', 'Ncr1',#Nk\n",
    "                 'Cd79a', \"Ms4a1\", #B\n",
    "                 'Jchain', 'Ighg1', #Plasma\n",
    "                 \"Xcr1\", \"Cadm1\", 'Clec9a', 'Cd24a', #cDC1\n",
    "                 'Itgax', 'H2-DMb2', #cDC2\n",
    "                 \"Fscn1\", \"Ccr7\", \"Cacnb3\", #mDC\n",
    "                 \"Siglech\", \"Ccr9\", \"Pacsin1\", #pDC\n",
    "                 \"S100a8\", 'S100a9', 'Csf3r', #Neutrophil\n",
    "                 \"Il6\", \"Fcer1a\", \"Cpa3\", \"Ms4a2\", \"Gata2\", #Basophil\n",
    "                 'Csf1r', #Mono_Mac\n",
    "                 \"Ly6c2\", \"Ccr2\" , \"Cd14\", \"Sell\", \"Trem1\", #Classical Mono\n",
    "                 'Cx3cr1', \"Itgal\", \"Ace\", \"Fcgr3\", \"Nr4a1\", \"F13a1\", #NonClassical Mono\n",
    "                 'Mafb', 'C1qb', #Mac\n",
    "                 'Mki67') #Prolif.\n",
    "\n",
    "FeaturePlot(object = SAGA_TIL_B16_SeuratObj, features = mainmarkers[26:length(mainmarkers)], order = F) *\n",
    "    theme(plot.title = element_text(size = 25))"
   ]
  },
  {
   "cell_type": "code",
   "execution_count": null,
   "id": "070d5460-db9e-41db-a1d2-650db853cb92",
   "metadata": {},
   "outputs": [],
   "source": []
  },
  {
   "cell_type": "code",
   "execution_count": null,
   "id": "d4bbc636-775e-483b-98b5-583c1f605253",
   "metadata": {},
   "outputs": [],
   "source": [
    "# fine-grain subclustering "
   ]
  },
  {
   "cell_type": "code",
   "execution_count": null,
   "id": "111947e8-9d6d-4d98-b6d4-7782d275aa75",
   "metadata": {},
   "outputs": [],
   "source": [
    "# get the multiple_subcluster for c0_res0.3\n",
    "Idents(SAGA_TIL_B16_SeuratObj) <- SAGA_TIL_B16_SeuratObj$`RNA_snn_res.0.3`\n",
    "SAGA_TIL_B16_SeuratObj <- FindSubCluster(object = SAGA_TIL_B16_SeuratObj, cluster = '0', subcluster.name = 'RNA_snn_res.0.3_subclus', graph.name = 'RNA_snn', resolution = 0.1)\n"
   ]
  },
  {
   "cell_type": "code",
   "execution_count": null,
   "id": "c4f3afc2-5577-4f1b-9d60-e9ce2d469348",
   "metadata": {},
   "outputs": [],
   "source": [
    "# get the multiple_subcluster for c0_1_res0.3\n",
    "Idents(SAGA_TIL_B16_SeuratObj) <- SAGA_TIL_B16_SeuratObj$'RNA_snn_res.0.3_subclus'\n",
    "SAGA_TIL_B16_SeuratObj <- FindSubCluster(object = SAGA_TIL_B16_SeuratObj, cluster = '0_1', subcluster.name = 'RNA_snn_res.0.3_subclus', graph.name = 'RNA_snn', resolution = 0.2)\n"
   ]
  },
  {
   "cell_type": "code",
   "execution_count": null,
   "id": "c1e3e494-d2ba-4a61-b08d-4e43e149f509",
   "metadata": {},
   "outputs": [],
   "source": [
    "# get the multiple_subcluster for c4_res0.3\n",
    "Idents(SAGA_TIL_B16_SeuratObj) <- SAGA_TIL_B16_SeuratObj$'RNA_snn_res.0.3_subclus'\n",
    "SAGA_TIL_B16_SeuratObj <- FindSubCluster(object = SAGA_TIL_B16_SeuratObj, cluster = '4', subcluster.name = 'RNA_snn_res.0.3_subclus', graph.name = 'RNA_snn', resolution = 0.1)\n"
   ]
  },
  {
   "cell_type": "code",
   "execution_count": null,
   "id": "1587aee0-96d8-4be8-a5ed-707fc87699b2",
   "metadata": {},
   "outputs": [],
   "source": [
    "# get the multiple_subcluster for c5_res0.3\n",
    "Idents(SAGA_TIL_B16_SeuratObj) <- SAGA_TIL_B16_SeuratObj$'RNA_snn_res.0.3_subclus'\n",
    "SAGA_TIL_B16_SeuratObj <- FindSubCluster(object = SAGA_TIL_B16_SeuratObj, cluster = '5', subcluster.name = 'RNA_snn_res.0.3_subclus', graph.name = 'RNA_snn', resolution = 0.1)\n"
   ]
  },
  {
   "cell_type": "code",
   "execution_count": null,
   "id": "7bad8831-7e04-4c89-9efe-6728d6854e8a",
   "metadata": {},
   "outputs": [],
   "source": [
    "options(repr.plot.width = 15, repr.plot.height = 15)\n",
    "DimPlot(SAGA_TIL_B16_SeuratObj, reduction = \"umap\", label = T, label.size = 8, repel = T,group.by = 'RNA_snn_res.0.3_subclus')"
   ]
  },
  {
   "cell_type": "code",
   "execution_count": null,
   "id": "bfe2ecd8-2171-4b00-af05-80a0244d0dad",
   "metadata": {},
   "outputs": [],
   "source": [
    "#find Mainmarkers_B16_res0.3_presto with wilcox test in presto\n",
    "Mainmarkers_B16_res0.3_presto <- wilcoxauc(X = SAGA_TIL_B16_SeuratObj, group_by = 'RNA_snn_res.0.3_subclus')"
   ]
  },
  {
   "cell_type": "code",
   "execution_count": null,
   "id": "3f1d248d-ee08-4835-9699-72adda33ed91",
   "metadata": {},
   "outputs": [],
   "source": [
    "Mainmarkers_B16_res0.3_presto %>% filter(group=='0_1_2', pct_in > 10) %>% arrange(desc(logFC)) %>% slice_max(logFC, n = 60)"
   ]
  },
  {
   "cell_type": "code",
   "execution_count": null,
   "id": "d910a4e1-2a47-406f-b666-a96a0386883b",
   "metadata": {},
   "outputs": [],
   "source": [
    "# Mannual annotation\n",
    "options(repr.plot.height = 10, repr.plot.width = 20)\n",
    "mainmarkers <- c('Cd3g', 'Cd4', 'Cd8a', # Conventional T\n",
    "                 'Trdc','Trdv1','Trgv9', #gdT\n",
    "                 'Trac', 'Klrb1c', #NKT\n",
    "                 'Nkg7', 'Ncr1',#Nk\n",
    "                 'Cd79a', \"Ms4a1\", #B\n",
    "                 'Jchain', 'Ighg1', #Plasma\n",
    "                 \"Xcr1\", \"Cadm1\", 'Clec9a', 'Cd24a', #cDC1\n",
    "                 'Itgax', 'H2-DMb2', #cDC2\n",
    "                 \"Fscn1\", \"Ccr7\", \"Cacnb3\", #mDC\n",
    "                 \"Siglech\", \"Ccr9\", \"Pacsin1\", #pDC\n",
    "                 \"S100a8\", 'S100a9', 'Csf3r', #Neutrophil\n",
    "                 \"Il6\", \"Fcer1a\", \"Cpa3\", \"Ms4a2\", \"Gata2\", #Basophil\n",
    "                 'Csf1r', #Mono_Mac\n",
    "                 \"Ly6c2\", \"Ccr2\" , \"Cd14\", \"Sell\", \"Trem1\", #Classical Mono\n",
    "                 'Cx3cr1', \"Itgal\", \"Ace\", \"Fcgr3\", \"Nr4a1\", \"F13a1\", #NonClassical Mono\n",
    "                 'Mafb', 'C1qb', #Mac\n",
    "                 'Mki67', #Prolif.\n",
    "                 'Col3a1', 'Dcn')\n",
    "\n",
    "DotPlot(object = SAGA_TIL_B16_SeuratObj, features = mainmarkers, group.by = 'RNA_snn_res.0.3_subclus') +\n",
    "    coord_flip()"
   ]
  },
  {
   "cell_type": "code",
   "execution_count": null,
   "id": "9e1c76c6-c8d2-40cc-b928-ab9762bebdb4",
   "metadata": {},
   "outputs": [],
   "source": [
    "options(repr.plot.width = 15, repr.plot.height = 15)\n",
    "DimPlot(SAGA_TIL_B16_SeuratObj, reduction = \"umap\", label = T, label.size = 8, repel = T,group.by = 'RNA_snn_res.0.3_subclus')"
   ]
  },
  {
   "cell_type": "code",
   "execution_count": null,
   "id": "39770b79-bb3a-4beb-9bfe-121cad0cb6aa",
   "metadata": {},
   "outputs": [],
   "source": [
    "as.character(SAGA_TIL_B16_SeuratObj$`RNA_snn_res.0.3_subclus`) %>% unique() %>% length()"
   ]
  },
  {
   "cell_type": "code",
   "execution_count": null,
   "id": "a241d340-024a-4b45-9ec4-e5a4061389fe",
   "metadata": {},
   "outputs": [],
   "source": [
    "##maincluster RNA_snn_res.0.3\n",
    "options(repr.plot.height = 10, repr.plot.width = 12)\n",
    "\n",
    "\n",
    "maincluster_anno <- c('0_0' = 'CD8T', '0_1_0' = 'CD4T', '0_1_1' = 'CD8T', '0_1_2' = 'CD4T', '0_2' = 'CD8T',\n",
    "                      '1' = 'Monocyte', '2' = 'NK', '3' = 'Monocyte', '4_0' = 'NKT', '4_1' = 'CD8T', '4_2' = 'NKT', '4_3' = 'NKT',\n",
    "                      '5_0' = 'CD8T', '5_1' = 'CD8T', '5_2' = 'NK', '5_3' = 'CD8T',\n",
    "                      '6' = 'cDC2', '7' = 'CD4T', '8' = 'Macrophage',\n",
    "                      '9' = 'mregDC', '10' = 'cDC1', '11' = 'pDC', '12' = 'Neutrophil', '13' = 'B_Cell', '14' = 'gdT', '15' = 'Basophil')\n",
    "\n",
    "\n",
    "\n",
    "\n",
    "SAGA_TIL_B16_SeuratObj$Maincluster_res0.3 <- maincluster_anno[ as.character(SAGA_TIL_B16_SeuratObj$`RNA_snn_res.0.3_subclus`) ]\n",
    "\n",
    "\n",
    "DimPlot(SAGA_TIL_B16_SeuratObj, label = T, pt.size = 0.5, label.size = 5, repel = T, reduction = 'umap', group.by = 'Maincluster_res0.3') +\n",
    "    theme(plot.title = element_text(size = 30),\n",
    "          legend.text = element_text(size = 20),\n",
    "          legend.key.size = unit(0.5, \"inches\")) +\n",
    "    guides(colour = guide_legend(override.aes = list(size = 5)))"
   ]
  },
  {
   "cell_type": "code",
   "execution_count": null,
   "id": "1438ec28-54a0-4336-92b6-43b9c773be32",
   "metadata": {},
   "outputs": [],
   "source": [
    "SAGA_TIL_B16_SeuratObj <- subset(SAGA_TIL_B16_SeuratObj, subset = CellLine == 'B16F10' & Maincluster_res0.3 != 'Unknown' & Maincluster_res0.3 != 'Stromal' & Maincluster_res0.3 != 'Low_Quality')"
   ]
  },
  {
   "cell_type": "code",
   "execution_count": null,
   "id": "87d9c7e3-0275-48e6-8a8a-11f93c3e9814",
   "metadata": {},
   "outputs": [],
   "source": [
    "options(repr.plot.height = 10, repr.plot.width = 12)\n",
    "DimPlot(SAGA_TIL_B16_SeuratObj, label = T, pt.size = 0.5, label.size = 5, repel = T, reduction = 'umap', group.by = 'Maincluster_res0.3') +\n",
    "    scale_color_manual(values = main_celltype_colors, limits = c('CD8T', 'CD4T', 'gdT', 'NKT', 'NK', 'B_Cell', 'cDC1', 'cDC2', 'mregDC', 'pDC', 'Monocyte', 'Macrophage','Neutrophil', 'Basophil')) +\n",
    "    theme_classic(base_size = 25, base_family = 'Helvetica', base_line_size = 0.5, base_rect_size = 0) +\n",
    "    transparent_bg +\n",
    "    theme(legend.position = 'right',\n",
    "          axis.text = element_text(colour = 'black'),\n",
    "          axis.text.x = element_text(angle = 0),\n",
    "          axis.title.x = element_text(margin = margin(15,0,0,0)),\n",
    "          axis.title.y = element_text(margin = margin(0,15,0,0)))"
   ]
  },
  {
   "cell_type": "code",
   "execution_count": null,
   "id": "e9146a4e-dad9-4f07-9f10-17ae2e02cd05",
   "metadata": {},
   "outputs": [],
   "source": [
    "options(repr.plot.height = 6, repr.plot.width = 12)\n",
    "mainmarkers <- c('Cd3g', 'Cd4', 'Cd8a', # Conventional T\n",
    "                 'Trdc','Trdv1','Trgv9', #gdT\n",
    "                 'Trac', 'Klrb1c', #NKT\n",
    "                 'Nkg7', 'Ncr1',#Nk\n",
    "                 'Cd79a', \"Ms4a1\", #B\n",
    "                 'Jchain', 'Ighg1', #Plasma\n",
    "                 \"Xcr1\", \"Cadm1\", 'Clec9a', 'Cd24a', #cDC1\n",
    "                 'Itgax', 'H2-DMb2', #cDC2\n",
    "                 \"Fscn1\", \"Ccr7\", \"Cacnb3\", #mDC\n",
    "                 \"Siglech\", \"Ccr9\", \"Pacsin1\", #pDC\n",
    "                 'Csf1r', #Mono_Mac\n",
    "                 \"Ly6c2\", \"Ccr2\" , \"Cd14\", \"Trem1\", #Classical Mono\n",
    "                 'Cx3cr1', \"Itgal\", \"Ace\", \"Fcgr3\", #NonClassical Mono\n",
    "                 'Mafb', 'C1qb', #Mac\n",
    "                 \"S100a8\", 'S100a9', 'Csf3r', #Neutrophil\n",
    "                 \"Il6\", \"Fcer1a\", \"Cpa3\", \"Ms4a2\", \"Gata2\", #Basophil\n",
    "                 'Mki67' #Prolif.\n",
    "                )\n",
    "\n",
    "DotPlot(SAGA_TIL_B16_SeuratObj, features = mainmarkers, group.by = 'Maincluster_res0.3', scale = T) + \n",
    "    scale_color_gradient(low = '#fde9eb', high = '#db2531') + #FF0000 #db2531\n",
    "#    scale_size_area(max_size = 1) +\n",
    "    xlab(label = NULL) +\n",
    "    ylab(label = NULL) +\n",
    "    theme_classic(base_size = 20, base_family = 'Helvetica', base_line_size = 0.5, base_rect_size = 0) +\n",
    "    transparent_bg +\n",
    "    theme(legend.position = 'right',\n",
    "          axis.text = element_text(colour = 'black'),\n",
    "          axis.text.x = element_text(angle = 90),\n",
    "          axis.title.x = element_text(margin = margin(15,0,0,0)),\n",
    "          axis.title.y = element_text(margin = margin(0,15,0,0)))\n",
    "\n",
    "ggsave(filename = paste0(wd, '/figures_v2', '/', 'SAGA_TIL_B16_MarkerGene_DotPlot.pdf'), device = 'pdf', width = 15, height = 6, bg = 'transparent')"
   ]
  },
  {
   "cell_type": "code",
   "execution_count": null,
   "id": "f8e45687-4a4e-462d-8d78-cf8820562465",
   "metadata": {},
   "outputs": [],
   "source": [
    "SAGA_TIL_B16_SeuratObj"
   ]
  },
  {
   "cell_type": "code",
   "execution_count": null,
   "id": "69837fab-718a-474a-a96d-8f3438055b40",
   "metadata": {},
   "outputs": [],
   "source": [
    "saveRDS(SAGA_TIL_B16_SeuratObj, paste0(wd, '/objects_v2/SAGA_TIL_B16_SeuratObj.rds'))"
   ]
  },
  {
   "cell_type": "markdown",
   "id": "45856972-aa43-4bef-a6b6-2dc709ca9491",
   "metadata": {},
   "source": [
    "### MC38"
   ]
  },
  {
   "cell_type": "code",
   "execution_count": null,
   "id": "e216fb23-2208-4f1c-994b-07ce56f2e08f",
   "metadata": {},
   "outputs": [],
   "source": [
    "SAGA_TIL_MC38_SeuratObj"
   ]
  },
  {
   "cell_type": "code",
   "execution_count": null,
   "id": "16f51ecb-bf26-41b8-b4b5-9b47b24e1333",
   "metadata": {},
   "outputs": [],
   "source": [
    "# FindNeighbors\n",
    "SAGA_TIL_MC38_SeuratObj <- FindNeighbors(SAGA_TIL_MC38_SeuratObj, dims = 1:50, reduction = \"harmony\", verbose = F)"
   ]
  },
  {
   "cell_type": "code",
   "execution_count": null,
   "id": "a1fbe5bb-b669-423d-8c8a-1af445bd0871",
   "metadata": {},
   "outputs": [],
   "source": [
    "# FindClusters\n",
    "options(repr.plot.height = 8, repr.plot.width = 8)\n",
    "for (i in c(0.1, 0.2, 0.3, 0.4, 0.5, 0.6, 0.7, 0.8, 0.9, 1)) {\n",
    "  SAGA_TIL_MC38_SeuratObj <- FindClusters(SAGA_TIL_MC38_SeuratObj, resolution = i, verbose = F)\n",
    "  print(DimPlot(SAGA_TIL_MC38_SeuratObj, reduction = \"umap\", label = T) + labs(title = paste0(\"resolution: \", i)))\n",
    "}"
   ]
  },
  {
   "cell_type": "code",
   "execution_count": null,
   "id": "bffaf8fc-24dc-4a38-9c94-4883b3722dcb",
   "metadata": {},
   "outputs": [],
   "source": [
    "saveRDS(SAGA_TIL_MC38_SeuratObj, paste0(wd, '/objects_v2/SAGA_TIL_MC38_SeuratObj.rds'))"
   ]
  },
  {
   "cell_type": "code",
   "execution_count": null,
   "id": "b08b0cb9-6d69-4660-bb02-29d689809140",
   "metadata": {},
   "outputs": [],
   "source": [
    "options(repr.plot.width = 28, repr.plot.height = 42)\n",
    "mainmarkers <- c('Cd3g', 'Cd4', 'Cd8a', # Conventional T\n",
    "                 'Trdc','Trdv1','Trgv9', #gdT\n",
    "                 'Trac', 'Klrb1c', #NKT\n",
    "                 'Nkg7', 'Ncr1',#Nk\n",
    "                 'Cd79a', \"Ms4a1\", #B\n",
    "                 'Jchain', 'Ighg1', #Plasma\n",
    "                 \"Xcr1\", \"Cadm1\", 'Clec9a', 'Cd24a', #cDC1\n",
    "                 'Itgax', 'H2-DMb2', #cDC2\n",
    "                 \"Fscn1\", \"Ccr7\", \"Cacnb3\", #mDC\n",
    "                 \"Siglech\", \"Ccr9\", \"Pacsin1\", #pDC\n",
    "                 \"S100a8\", 'S100a9', 'Csf3r', #Neutrophil\n",
    "                 \"Il6\", \"Fcer1a\", \"Cpa3\", \"Ms4a2\", \"Gata2\", #Basophil\n",
    "                 'Csf1r', #Mono_Mac\n",
    "                 \"Ly6c2\", \"Ccr2\" , \"Cd14\", \"Sell\", \"Trem1\", #Classical Mono\n",
    "                 'Cx3cr1', \"Itgal\", \"Ace\", \"Fcgr3\", \"Nr4a1\", \"F13a1\", #NonClassical Mono\n",
    "                 'Mafb', 'C1qb', #Mac\n",
    "                 'Mki67') #Prolif.\n",
    "\n",
    "FeaturePlot(object = SAGA_TIL_MC38_SeuratObj, features = mainmarkers[1:25], order = F) *\n",
    "    theme(plot.title = element_text(size = 25))"
   ]
  },
  {
   "cell_type": "code",
   "execution_count": null,
   "id": "b253d3bd-4f0f-4239-8318-d4a75f9fddf4",
   "metadata": {},
   "outputs": [],
   "source": [
    "options(repr.plot.width = 28, repr.plot.height = 42)\n",
    "mainmarkers <- c('Cd3g', 'Cd4', 'Cd8a', # Conventional T\n",
    "                 'Trdc','Trdv1','Trgv9', #gdT\n",
    "                 'Trac', 'Klrb1c', #NKT\n",
    "                 'Nkg7', 'Ncr1',#Nk\n",
    "                 'Cd79a', \"Ms4a1\", #B\n",
    "                 'Jchain', 'Ighg1', #Plasma\n",
    "                 \"Xcr1\", \"Cadm1\", 'Clec9a', 'Cd24a', #cDC1\n",
    "                 'Itgax', 'H2-DMb2', #cDC2\n",
    "                 \"Fscn1\", \"Ccr7\", \"Cacnb3\", #mDC\n",
    "                 \"Siglech\", \"Ccr9\", \"Pacsin1\", #pDC\n",
    "                 \"S100a8\", 'S100a9', 'Csf3r', #Neutrophil\n",
    "                 \"Il6\", \"Fcer1a\", \"Cpa3\", \"Ms4a2\", \"Gata2\", #Basophil\n",
    "                 'Csf1r', #Mono_Mac\n",
    "                 \"Ly6c2\", \"Ccr2\" , \"Cd14\", \"Sell\", \"Trem1\", #Classical Mono\n",
    "                 'Cx3cr1', \"Itgal\", \"Ace\", \"Fcgr3\", \"Nr4a1\", \"F13a1\", #NonClassical Mono\n",
    "                 'Mafb', 'C1qb', #Mac\n",
    "                 'Mki67') #Prolif.\n",
    "\n",
    "FeaturePlot(object = SAGA_TIL_MC38_SeuratObj, features = mainmarkers[26:length(mainmarkers)], order = F) *\n",
    "    theme(plot.title = element_text(size = 25))"
   ]
  },
  {
   "cell_type": "code",
   "execution_count": null,
   "id": "1ea5eb42-c421-4cd0-bc65-5a93fc1e3baa",
   "metadata": {},
   "outputs": [],
   "source": []
  },
  {
   "cell_type": "code",
   "execution_count": null,
   "id": "ea8716f6-5ae2-4d0f-84ab-e4c201a54ad7",
   "metadata": {},
   "outputs": [],
   "source": [
    "# fine-grain subclustering "
   ]
  },
  {
   "cell_type": "code",
   "execution_count": null,
   "id": "714d3642-88ca-4337-935e-fd21dc3f41ba",
   "metadata": {},
   "outputs": [],
   "source": [
    "# get the multiple_subcluster for c6_res0.3\n",
    "Idents(SAGA_TIL_MC38_SeuratObj) <- SAGA_TIL_MC38_SeuratObj$`RNA_snn_res.0.3`\n",
    "SAGA_TIL_MC38_SeuratObj <- FindSubCluster(object = SAGA_TIL_MC38_SeuratObj, cluster = '6', subcluster.name = 'RNA_snn_res.0.3_subclus', graph.name = 'RNA_snn', resolution = 0.1)\n"
   ]
  },
  {
   "cell_type": "code",
   "execution_count": null,
   "id": "2f3b8b96-9fbd-4ea3-80eb-c7c32ff8fefd",
   "metadata": {},
   "outputs": [],
   "source": [
    "# get the multiple_subcluster for c7_res0.3\n",
    "Idents(SAGA_TIL_MC38_SeuratObj) <- SAGA_TIL_MC38_SeuratObj$'RNA_snn_res.0.3_subclus'\n",
    "SAGA_TIL_MC38_SeuratObj <- FindSubCluster(object = SAGA_TIL_MC38_SeuratObj, cluster = '7', subcluster.name = 'RNA_snn_res.0.3_subclus', graph.name = 'RNA_snn', resolution = 0.1)\n"
   ]
  },
  {
   "cell_type": "code",
   "execution_count": null,
   "id": "1a44d809-c09f-492d-bde3-e61189fa96d6",
   "metadata": {},
   "outputs": [],
   "source": [
    "# get the multiple_subcluster for c8_res0.3\n",
    "Idents(SAGA_TIL_MC38_SeuratObj) <- SAGA_TIL_MC38_SeuratObj$'RNA_snn_res.0.3_subclus'\n",
    "SAGA_TIL_MC38_SeuratObj <- FindSubCluster(object = SAGA_TIL_MC38_SeuratObj, cluster = '8', subcluster.name = 'RNA_snn_res.0.3_subclus', graph.name = 'RNA_snn', resolution = 0.1)\n"
   ]
  },
  {
   "cell_type": "code",
   "execution_count": null,
   "id": "b7f75e7e-4ed1-4d92-bebd-86d617e365dc",
   "metadata": {},
   "outputs": [],
   "source": [
    "options(repr.plot.width = 15, repr.plot.height = 15)\n",
    "DimPlot(SAGA_TIL_MC38_SeuratObj, reduction = \"umap\", label = T, label.size = 8, repel = T,group.by = 'RNA_snn_res.0.3_subclus')"
   ]
  },
  {
   "cell_type": "code",
   "execution_count": null,
   "id": "1b917a9e-44c8-4149-88e1-b1e2a51b9021",
   "metadata": {},
   "outputs": [],
   "source": [
    "#find Mainmarkers_MC38_res0.3_presto with wilcox test in presto\n",
    "Mainmarkers_MC38_res0.3_presto <- wilcoxauc(X = SAGA_TIL_MC38_SeuratObj, group_by = 'RNA_snn_res.0.3_subclus')"
   ]
  },
  {
   "cell_type": "code",
   "execution_count": null,
   "id": "fe56c91d-b346-4507-9675-5fe8485011fb",
   "metadata": {},
   "outputs": [],
   "source": [
    "Mainmarkers_MC38_res0.3_presto %>% filter(group=='6_2', pct_in > 10) %>% arrange(desc(logFC)) %>% slice_max(logFC, n = 60)"
   ]
  },
  {
   "cell_type": "code",
   "execution_count": null,
   "id": "467ed6da-c176-40e1-bb71-9f520a5433f4",
   "metadata": {},
   "outputs": [],
   "source": [
    "# Loss of ADAR1 in tumours overcomes resistance to immune checkpoint blockade\n",
    "options(repr.plot.height = 8, repr.plot.width = 20)\n",
    "\n",
    "mainmarkers <- c('Itgam', 'Adgre1', 'C1qa', 'Apoe', #universe\n",
    "                 'Cxcl9', 'H2-Aa', 'Cd74', 'Cd86', #M1\n",
    "                 'Mrc1', 'Folr2', 'Sepp1', 'Maf', #M2\n",
    "                 'Arg1', 'Nos2', 'Pf4', 'Fabp5', 'Il1rn') #MDSC\n",
    "\n",
    "\n",
    "DotPlot(object = SAGA_TIL_MC38_SeuratObj, features = mainmarkers, group.by = 'RNA_snn_res.0.3_subclus') +\n",
    "#    scale_y_discrete(limits = factor(seq(0,21))) +\n",
    "    coord_flip()"
   ]
  },
  {
   "cell_type": "code",
   "execution_count": null,
   "id": "09f6c7cd-e261-4284-92ad-0ddcd8d7cbc7",
   "metadata": {},
   "outputs": [],
   "source": [
    "# Mannual annotation\n",
    "options(repr.plot.height = 10, repr.plot.width = 20)\n",
    "mainmarkers <- c('Cd3g', 'Cd4', 'Cd8a', # Conventional T\n",
    "                 'Trdc','Trdv1','Trgv9', #gdT\n",
    "                 'Trac', 'Klrb1c', #NKT\n",
    "                 'Nkg7', 'Ncr1',#Nk\n",
    "                 'Cd79a', \"Ms4a1\", #B\n",
    "                 'Jchain', 'Ighg1', #Plasma\n",
    "                 \"Xcr1\", \"Cadm1\", 'Clec9a', 'Cd24a', #cDC1\n",
    "                 'Itgax', 'H2-DMb2', #cDC2\n",
    "                 \"Fscn1\", \"Ccr7\", \"Cacnb3\", #mDC\n",
    "                 \"Siglech\", \"Ccr9\", \"Pacsin1\", #pDC\n",
    "                 \"S100a8\", 'S100a9', 'Csf3r', #Neutrophil\n",
    "                 \"Il6\", \"Fcer1a\", \"Cpa3\", \"Ms4a2\", \"Gata2\", #Basophil\n",
    "                 'Csf1r', #Mono_Mac\n",
    "                 \"Ly6c2\", \"Ccr2\" , \"Cd14\", \"Sell\", \"Trem1\", #Classical Mono\n",
    "                 'Cx3cr1', \"Itgal\", \"Ace\", \"Fcgr3\", \"Nr4a1\", \"F13a1\", #NonClassical Mono\n",
    "                 'Mafb', 'C1qb', #Mac\n",
    "                 'Mki67', #Prolif.\n",
    "                 'Col3a1', 'Dcn')\n",
    "\n",
    "DotPlot(object = SAGA_TIL_MC38_SeuratObj, features = mainmarkers, group.by = 'RNA_snn_res.0.3_subclus') +\n",
    "    coord_flip()"
   ]
  },
  {
   "cell_type": "code",
   "execution_count": null,
   "id": "a0e71349-8812-421f-b633-dccbf6a44628",
   "metadata": {},
   "outputs": [],
   "source": [
    "options(repr.plot.width = 15, repr.plot.height = 15)\n",
    "DimPlot(SAGA_TIL_MC38_SeuratObj, reduction = \"umap\", label = T, label.size = 8, repel = T,group.by = 'RNA_snn_res.0.3_subclus')"
   ]
  },
  {
   "cell_type": "code",
   "execution_count": null,
   "id": "71ddc991-2c80-4bc1-b876-1994b247971d",
   "metadata": {},
   "outputs": [],
   "source": [
    "as.character(SAGA_TIL_MC38_SeuratObj$`RNA_snn_res.0.3_subclus`) %>% unique() %>% length()"
   ]
  },
  {
   "cell_type": "code",
   "execution_count": null,
   "id": "fc5052e4-78ae-4218-9049-ba1770dac48e",
   "metadata": {},
   "outputs": [],
   "source": [
    "##maincluster RNA_snn_res.0.3\n",
    "options(repr.plot.height = 10, repr.plot.width = 12)\n",
    "\n",
    "\n",
    "maincluster_anno <- c('0' = 'Monocyte', '1' = 'Macrophage', '2' = 'Macrophage', '3' = 'Macrophage', '4' = 'Macrophage', '5' = 'Macrophage',\n",
    "                      '6_0' = 'CD8T', '6_1' = 'CD4T', '6_2' = 'CD8T', '6_3' = 'CD8T', '6_4' = 'gdT',\n",
    "                      '7_0' = 'Monocyte', '7_1' = 'Monocyte', '7_2' = 'Neutrophil', '8_0' = 'cDC2', '8_1' = 'cDC1', '8_2' = 'pDC',\n",
    "                      '9' = 'NK', '10' = 'mregDC', '11' = 'Monocyte', '12' = 'Stromal', '13' = 'Basophil')\n",
    "\n",
    "\n",
    "\n",
    "\n",
    "SAGA_TIL_MC38_SeuratObj$Maincluster_res0.3 <- maincluster_anno[ as.character(SAGA_TIL_MC38_SeuratObj$`RNA_snn_res.0.3_subclus`) ]\n",
    "\n",
    "\n",
    "DimPlot(SAGA_TIL_MC38_SeuratObj, label = T, pt.size = 0.5, label.size = 5, repel = T, reduction = 'umap', group.by = 'Maincluster_res0.3') +\n",
    "    theme(plot.title = element_text(size = 30),\n",
    "          legend.text = element_text(size = 20),\n",
    "          legend.key.size = unit(0.5, \"inches\")) +\n",
    "    guides(colour = guide_legend(override.aes = list(size = 5)))"
   ]
  },
  {
   "cell_type": "code",
   "execution_count": null,
   "id": "d4a57ade-5f5d-428d-a889-d717755dac6b",
   "metadata": {},
   "outputs": [],
   "source": [
    "SAGA_TIL_MC38_SeuratObj <- subset(SAGA_TIL_MC38_SeuratObj, subset = CellLine == 'MC38' & Maincluster_res0.3 != 'Unknown' & Maincluster_res0.3 != 'Stromal' & Maincluster_res0.3 != 'Low_Quality')"
   ]
  },
  {
   "cell_type": "code",
   "execution_count": null,
   "id": "709a8d1a-672d-4bb1-961a-60d3f976417c",
   "metadata": {},
   "outputs": [],
   "source": []
  },
  {
   "cell_type": "code",
   "execution_count": null,
   "id": "d0fbd2b1-d597-4ee5-8a7e-03c2f49751c5",
   "metadata": {},
   "outputs": [],
   "source": [
    "options(repr.plot.height = 10, repr.plot.width = 12)\n",
    "DimPlot(SAGA_TIL_MC38_SeuratObj, label = T, pt.size = 0.5, label.size = 5, repel = T, reduction = 'umap', group.by = 'Maincluster_res0.3') +\n",
    "    scale_color_manual(values = main_celltype_colors, limits = c('CD8T', 'CD4T', 'gdT', 'NKT', 'NK', 'B_Cell', 'cDC1', 'cDC2', 'mregDC', 'pDC', 'Monocyte', 'Macrophage','Neutrophil', 'Basophil')) +\n",
    "    theme_classic(base_size = 25, base_family = 'Helvetica', base_line_size = 0.5, base_rect_size = 0) +\n",
    "    transparent_bg +\n",
    "    theme(legend.position = 'right',\n",
    "          axis.text = element_text(colour = 'black'),\n",
    "          axis.text.x = element_text(angle = 0),\n",
    "          axis.title.x = element_text(margin = margin(15,0,0,0)),\n",
    "          axis.title.y = element_text(margin = margin(0,15,0,0)))"
   ]
  },
  {
   "cell_type": "code",
   "execution_count": null,
   "id": "7a596d76-4842-4e1d-a944-8b24d11f2bda",
   "metadata": {},
   "outputs": [],
   "source": [
    "options(repr.plot.height = 6, repr.plot.width = 12)\n",
    "mainmarkers <- c('Cd3g', 'Cd4', 'Cd8a', # Conventional T\n",
    "                 'Trdc','Trdv1','Trgv9', #gdT\n",
    "                 'Trac', 'Klrb1c', #NKT\n",
    "                 'Nkg7', 'Ncr1',#Nk\n",
    "                 'Cd79a', \"Ms4a1\", #B\n",
    "                 'Jchain', 'Ighg1', #Plasma\n",
    "                 \"Xcr1\", \"Cadm1\", 'Clec9a', 'Cd24a', #cDC1\n",
    "                 'Itgax', 'H2-DMb2', #cDC2\n",
    "                 \"Fscn1\", \"Ccr7\", \"Cacnb3\", #mDC\n",
    "                 \"Siglech\", \"Ccr9\", \"Pacsin1\", #pDC\n",
    "                 'Csf1r', #Mono_Mac\n",
    "                 \"Ly6c2\", \"Ccr2\" , \"Cd14\", \"Trem1\", #Classical Mono\n",
    "                 'Cx3cr1', \"Itgal\", \"Ace\", \"Fcgr3\", #NonClassical Mono\n",
    "                 'Mafb', 'C1qb', #Mac\n",
    "                 \"S100a8\", 'S100a9', 'Csf3r', #Neutrophil\n",
    "                 \"Il6\", \"Fcer1a\", \"Cpa3\", \"Ms4a2\", \"Gata2\", #Basophil\n",
    "                 'Mki67' #Prolif.\n",
    "                )\n",
    "\n",
    "\n",
    "DotPlot(SAGA_TIL_MC38_SeuratObj, features = mainmarkers, group.by = 'Maincluster_res0.3', scale = T) + \n",
    "    scale_color_gradient(low = '#fde9eb', high = '#db2531') + #FF0000 #db2531\n",
    "    scale_y_discrete(limits = c('CD8T', 'CD4T', 'gdT', 'NKT', 'NK', 'B_Cell', 'cDC1', 'cDC2', 'mregDC', 'pDC', 'Monocyte', 'Macrophage','Neutrophil', 'Basophil')) +\n",
    "#    scale_size_area(max_size = 1) +\n",
    "    xlab(label = NULL) +\n",
    "    ylab(label = NULL) +\n",
    "    theme_classic(base_size = 20, base_family = 'Helvetica', base_line_size = 0.5, base_rect_size = 0) +\n",
    "    transparent_bg +\n",
    "    theme(legend.position = 'right',\n",
    "          axis.text = element_text(colour = 'black'),\n",
    "          axis.text.x = element_text(angle = 90),\n",
    "          axis.title.x = element_text(margin = margin(15,0,0,0)),\n",
    "          axis.title.y = element_text(margin = margin(0,15,0,0)))\n",
    "\n",
    "ggsave(filename = paste0(wd, '/figures_v2', '/', 'SAGA_TIL_MC38_MarkerGene_DotPlot.pdf'), device = 'pdf', width = 15, height = 6, bg = 'transparent')"
   ]
  },
  {
   "cell_type": "code",
   "execution_count": null,
   "id": "0318d167-28c4-4fc6-bfdb-5a73955425c8",
   "metadata": {},
   "outputs": [],
   "source": [
    "SAGA_TIL_MC38_SeuratObj"
   ]
  },
  {
   "cell_type": "code",
   "execution_count": null,
   "id": "eaabf8e2-cd75-4bc0-a99d-a8d2396adc8d",
   "metadata": {},
   "outputs": [],
   "source": [
    "saveRDS(SAGA_TIL_MC38_SeuratObj, paste0(wd, '/objects_v2/SAGA_TIL_MC38_SeuratObj.rds'))"
   ]
  },
  {
   "cell_type": "code",
   "execution_count": null,
   "id": "ed41a3ec-50be-4afd-9e63-0f7bfb17ec91",
   "metadata": {},
   "outputs": [],
   "source": [
    "SAGA_TIL_MC38_SeuratObj <- readRDS(paste0(wd, '/objects_v2/SAGA_TIL_MC38_SeuratObj.rds'))"
   ]
  },
  {
   "cell_type": "code",
   "execution_count": null,
   "id": "1696146f-4175-4a10-bffa-d2fab426eb89",
   "metadata": {},
   "outputs": [],
   "source": []
  },
  {
   "cell_type": "code",
   "execution_count": null,
   "id": "a36cacc1-45f6-4f40-90d3-eebb09b67eab",
   "metadata": {},
   "outputs": [],
   "source": []
  },
  {
   "cell_type": "markdown",
   "id": "c3d86d08-f0d0-400a-8839-c95a93fef09e",
   "metadata": {},
   "source": [
    "## Differential abundance analysis"
   ]
  },
  {
   "cell_type": "markdown",
   "id": "534cf9ba-72e4-4e93-916c-a9d0300fb78f",
   "metadata": {},
   "source": [
    "### Direct ratio"
   ]
  },
  {
   "cell_type": "code",
   "execution_count": null,
   "id": "c79e9f83-d02a-428e-a541-844f6a7eac3e",
   "metadata": {},
   "outputs": [],
   "source": [
    "options(repr.plot.height = 6, repr.plot.width = 16)\n",
    "SAGA_TIL_B16_SeuratObj$`sgRNA` <-  factor(SAGA_TIL_B16_SeuratObj$`sgRNA`, levels = c('sgNT', 'sgC', 'sgS'))\n",
    "DimPlot(object = SAGA_TIL_B16_SeuratObj, reduction = 'umap', split.by = 'sgRNA', group.by = 'Maincluster_res0.3', pt.size = 0.0001) +\n",
    "    scale_color_manual(values = main_celltype_colors, limits = c('CD8T', 'CD4T', 'gdT', 'NKT', 'NK', 'B_Cell', 'cDC1', 'cDC2', 'mregDC', 'pDC', 'Monocyte', 'Macrophage','Neutrophil', 'Basophil')) +\n",
    "    ggtitle(label = 'B16F10 Cell Line (Experiment1 + Experiment2)')\n",
    "\n",
    "ggsave(filename = paste0(wd, '/figures_v2', '/', 'SAGA_TIL_B16_UMAP.pdf'), device = 'pdf', width = 12, height = 5, bg = 'transparent')\n",
    "ggsave(filename = paste0(wd, '/figures_v2', '/', 'SAGA_TIL_B16_UMAP.png'), device = 'png', width = 12, height = 5, dpi = 300, bg = 'transparent')"
   ]
  },
  {
   "cell_type": "code",
   "execution_count": null,
   "id": "6e040e61-29f4-404e-853e-7672d239cdaf",
   "metadata": {},
   "outputs": [],
   "source": [
    "options(repr.plot.height = 6, repr.plot.width = 16)\n",
    "SAGA_TIL_B16_SeuratObj$`sgRNA` <-  factor(SAGA_TIL_B16_SeuratObj$`sgRNA`, levels = c('sgNT', 'sgC', 'sgS'))\n",
    "DimPlot(object = SAGA_TIL_B16_SeuratObj, reduction = 'umap', split.by = 'sgRNA', group.by = 'ExperimentID', pt.size = 0.0001) +\n",
    "    ggtitle(label = 'B16F10 Cell Line (Experiment1(10x) + Experiment2(BD))')"
   ]
  },
  {
   "cell_type": "code",
   "execution_count": null,
   "id": "3e207e4a-d049-469b-99f6-9ff1df49a815",
   "metadata": {},
   "outputs": [],
   "source": [
    "SAGA_TIL_B16_SeuratObj$`Maincluster_res0.3` %>% unique()"
   ]
  },
  {
   "cell_type": "code",
   "execution_count": null,
   "id": "9408921e-eb14-420e-a8f2-1207a0eed076",
   "metadata": {},
   "outputs": [],
   "source": [
    "#SAGA_TIL_B16_SeuratObj; Proportion\n",
    "options(repr.plot.height = 5, repr.plot.width = 15)\n",
    "\n",
    "cell_types <- c('CD8T', 'CD4T', 'gdT', 'NKT', 'NK', 'B_Cell', 'cDC1', 'cDC2', 'mregDC', 'pDC', 'Monocyte', 'Macrophage','Neutrophil', 'Basophil')\n",
    "SAGA_TIL_B16_SeuratObj$`Maincluster_res0.3` <- factor(SAGA_TIL_B16_SeuratObj$`Maincluster_res0.3`, levels = cell_types)\n",
    "custom_labeller <- function(variable, value) {\n",
    "  # 创建一个名为 variable 的列表，用于更改标签显示名称\n",
    "  labels <- c('CD8T', 'CD4T', 'gdT', 'NKT', 'NK', 'B_Cell', 'cDC1', 'cDC2', 'mregDC', 'pDC', 'Mono.', 'Macro.','Neutro.', 'Baso.')  # 你可以按需要修改\n",
    "  names(labels) <- cell_types  # 对应的分面标签\n",
    "\n",
    "  return(labels[as.character(value)])  # 返回相应的标签\n",
    "}\n",
    "\n",
    "FetchData(SAGA_TIL_B16_SeuratObj, vars = c('sgRNA', 'Maincluster_res0.3')) %>%\n",
    "    group_by(sgRNA, Maincluster_res0.3) %>%\n",
    "    summarise(n_cell_cluster = n()) %>%\n",
    "    mutate(n_cell_total = sum(n_cell_cluster), proportion = n_cell_cluster/n_cell_total * 100) %>%\n",
    "    ggplot(mapping = aes(x = sgRNA, y = proportion, fill = sgRNA)) +\n",
    "    geom_col(position = 'dodge', alpha = 0.5) +\n",
    "    facet_wrap(~ Maincluster_res0.3, nrow = 1, scales = 'fixed', strip.position = \"top\", labeller = custom_labeller) +\n",
    "    scale_x_discrete(labels = NULL) +\n",
    "    scale_fill_manual(values = sgRNA_color) +\n",
    "    xlab(label = NULL) +\n",
    "    ylab(label = 'Proportion Relative to All Immune Cell') +\n",
    "    theme_classic(base_size = 20, base_family = 'Helvetica', base_line_size = 0.5, base_rect_size = 0) +\n",
    "    transparent_bg +\n",
    "    theme(legend.position = c(0.97, 0.5),\n",
    "          axis.text = element_text(colour = 'black'),\n",
    "          axis.text.x = element_text(angle = 0),\n",
    "          axis.title.x = element_text(margin = margin(15,0,0,0)),\n",
    "          axis.title.y = element_text(margin = margin(0,15,0,0)))\n",
    "\n",
    "ggsave(filename = paste0(wd, '/figures_v2', '/', 'SAGA_TIL_B16_Relative_Proportion_BarPlot.pdf'), device = 'pdf', width = 15, height = 5, bg = 'transparent')"
   ]
  },
  {
   "cell_type": "code",
   "execution_count": null,
   "id": "49832ee7-f5af-4cbe-b887-5e1e278713dd",
   "metadata": {},
   "outputs": [],
   "source": []
  },
  {
   "cell_type": "code",
   "execution_count": null,
   "id": "4e1dad47-b0a4-4ba3-abeb-96a1a3cac47d",
   "metadata": {},
   "outputs": [],
   "source": []
  },
  {
   "cell_type": "code",
   "execution_count": null,
   "id": "7c2fc68c-c479-44b9-8935-6dbb73948453",
   "metadata": {},
   "outputs": [],
   "source": [
    "options(repr.plot.height = 6, repr.plot.width = 12)\n",
    "SAGA_TIL_MC38_SeuratObj$`sgRNA` <-  factor(SAGA_TIL_MC38_SeuratObj$`sgRNA`, levels = c('sgNT', 'sgC', 'sgS'))\n",
    "DimPlot(object = SAGA_TIL_MC38_SeuratObj, reduction = 'umap', split.by = 'sgRNA', group.by = 'Maincluster_res0.3') +\n",
    "    scale_color_manual(values = main_celltype_colors, limits = c('CD8T', 'CD4T', 'gdT', 'NKT', 'NK', 'B_Cell', 'cDC1', 'cDC2', 'mregDC', 'pDC', 'Monocyte', 'Macrophage','Neutrophil', 'Basophil')) +\n",
    "    ggtitle(label = 'MC38 Cell Line (Experiment3 + Experiment4)')\n",
    "\n",
    "ggsave(filename = paste0(wd, '/figures_v2', '/', 'SAGA_TIL_MC38_UMAP.pdf'), device = 'pdf', width = 8, height = 5, bg = 'transparent')\n",
    "ggsave(filename = paste0(wd, '/figures_v2', '/', 'SAGA_TIL_MC38_UMAP.png'), device = 'png', width = 8, height = 5, dpi = 300, bg = 'transparent')"
   ]
  },
  {
   "cell_type": "code",
   "execution_count": null,
   "id": "6ca77c81-f3c9-4753-b171-3b733a5b0048",
   "metadata": {},
   "outputs": [],
   "source": [
    "options(repr.plot.height = 6, repr.plot.width = 12)\n",
    "SAGA_TIL_MC38_SeuratObj$`sgRNA` <-  factor(SAGA_TIL_MC38_SeuratObj$`sgRNA`, levels = c('sgNT', 'sgC', 'sgS'))\n",
    "DimPlot(object = SAGA_TIL_MC38_SeuratObj, reduction = 'umap', split.by = 'sgRNA', group.by = 'ExperimentID') +\n",
    "    ggtitle(label = 'MC38 Cell Line (Experiment3(HXF) + Experiment4(JFF))')"
   ]
  },
  {
   "cell_type": "code",
   "execution_count": null,
   "id": "1a06bd20-99ef-44ec-ad59-555baf6d8eec",
   "metadata": {},
   "outputs": [],
   "source": [
    "#SAGA_TIL_MC38_SeuratObj; Proportion\n",
    "options(repr.plot.height = 7, repr.plot.width = 10)\n",
    "FetchData(SAGA_TIL_MC38_SeuratObj, vars = c('sgRNA', 'Maincluster_res0.3')) %>%\n",
    "    group_by(sgRNA, Maincluster_res0.3) %>%\n",
    "    summarise(n_cell_cluster = n()) %>%\n",
    "    mutate(n_cell_total = sum(n_cell_cluster), proportion = n_cell_cluster/n_cell_total * 100) %>%\n",
    "    ggplot(mapping = aes(x = sgRNA, y = proportion, fill = sgRNA)) +\n",
    "    geom_col(position = 'dodge', alpha = 0.5) +\n",
    "    facet_wrap(~ Maincluster_res0.3, nrow = 3, scales = 'free', strip.position = \"top\", labeller = custom_labeller) +\n",
    "    scale_x_discrete(labels = NULL) +\n",
    "    scale_fill_manual(values = sgRNA_color) +\n",
    "    xlab(label = NULL) +\n",
    "    ylab(label = 'Proportion Relative to All Immune Cell') +\n",
    "    theme_classic(base_size = 20, base_family = 'Helvetica', base_line_size = 0.5, base_rect_size = 0) +\n",
    "    transparent_bg +\n",
    "    theme(legend.position = c(0.9, 0.2),\n",
    "          axis.text = element_text(colour = 'black'),\n",
    "          axis.text.x = element_text(angle = 0),\n",
    "          axis.title.x = element_text(margin = margin(15,0,0,0)),\n",
    "          axis.title.y = element_text(margin = margin(0,15,0,0)))\n",
    "\n",
    "ggsave(filename = paste0(wd, '/figures_v2', '/', 'SAGA_TIL_MC38_Relative_Proportion_BarPlot.pdf'), device = 'pdf', width = 10, height = 7, bg = 'transparent')"
   ]
  },
  {
   "cell_type": "code",
   "execution_count": null,
   "id": "86af9014-8d75-479f-9c62-b053fdddf056",
   "metadata": {},
   "outputs": [],
   "source": []
  },
  {
   "cell_type": "markdown",
   "id": "a0d0942d-f74a-4c6e-9895-eb491c93bf77",
   "metadata": {},
   "source": [
    "## Differential state analysis"
   ]
  },
  {
   "cell_type": "markdown",
   "id": "3ffe0b28-3b74-4b3a-a657-a97e7c6e40c6",
   "metadata": {},
   "source": [
    "### Gene"
   ]
  },
  {
   "cell_type": "code",
   "execution_count": null,
   "id": "8789602b-e6a8-4b93-a7db-59861cac1c21",
   "metadata": {},
   "outputs": [],
   "source": [
    "Pro_inflammatory_genes <- c('H2-Ab1', 'Ccl5', 'Cxcl9', 'Cxcl10')\n",
    "Suppressive_genes <- c('Arg1', 'Nos2', 'Cxcl3', 'Cxcl2', 'Csf1r')\n",
    "T_cell_activation_effector_genes <- c('Ltb', 'Klrk1', 'Cd69', 'Ifng', 'Gzmb')\n",
    "\n",
    "SAGA_TIL_B16_SeuratObj$`Celltype_sgRNA` <- paste0(SAGA_TIL_B16_SeuratObj$`Maincluster_res0.3`, '_',SAGA_TIL_B16_SeuratObj$`sgRNA`)\n",
    "\n",
    "cell_types <- c('CD8T', 'CD4T', 'gdT', 'NKT', 'NK', 'B_Cell', 'cDC1', 'cDC2', 'mregDC', 'pDC', 'Monocyte', 'Macrophage','Neutrophil', 'Basophil')\n",
    "sgRNAs <- c(\"sgNT\", \"sgC\", \"sgS\")  # 你想要的顺序\n",
    "\n",
    "desired_order <- unlist(lapply(cell_types, function(ct) paste0(ct, \"_\", sgRNAs)))\n",
    "\n",
    "# 转换为因子并设定顺序\n",
    "SAGA_TIL_B16_SeuratObj$`Celltype_sgRNA` <- factor(\n",
    "  SAGA_TIL_B16_SeuratObj$`Celltype_sgRNA`,\n",
    "  levels = desired_order\n",
    ")\n",
    "\n",
    "options(repr.plot.height = 15, repr.plot.width = 12)                               \n",
    "DotPlot(SAGA_TIL_B16_SeuratObj, features = c(Pro_inflammatory_genes, Suppressive_genes, T_cell_activation_effector_genes), group.by = 'Celltype_sgRNA') +\n",
    "    theme(axis.text = element_text(size = 15, face = \"bold\"), axis.text.x = element_text(angle = 270))"
   ]
  },
  {
   "cell_type": "code",
   "execution_count": null,
   "id": "4b939c86-b2fc-4e8e-bed9-379e545ed7f9",
   "metadata": {},
   "outputs": [],
   "source": [
    "\n",
    "SAGA_TIL_MC38_SeuratObj$`Celltype_sgRNA` <- paste0(SAGA_TIL_MC38_SeuratObj$`Maincluster_res0.3`, '_',SAGA_TIL_MC38_SeuratObj$`sgRNA`)\n",
    "\n",
    "cell_types <- c('CD8T', 'CD4T', 'gdT', 'NKT', 'NK', 'B_Cell', 'cDC1', 'cDC2', 'mregDC', 'pDC', 'Monocyte', 'Macrophage','Neutrophil', 'Basophil')\n",
    "sgRNAs <- c(\"sgNT\", \"sgC\")  # 你想要的顺序\n",
    "\n",
    "desired_order <- unlist(lapply(cell_types, function(ct) paste0(ct, \"_\", sgRNAs)))\n",
    "\n",
    "# 转换为因子并设定顺序\n",
    "SAGA_TIL_MC38_SeuratObj$`Celltype_sgRNA` <- factor(\n",
    "  SAGA_TIL_MC38_SeuratObj$`Celltype_sgRNA`,\n",
    "  levels = desired_order\n",
    ")\n",
    "\n",
    "options(repr.plot.height = 15, repr.plot.width = 12)                               \n",
    "DotPlot(SAGA_TIL_MC38_SeuratObj, features = c(Pro_inflammatory_genes, Suppressive_genes, T_cell_activation_effector_genes), group.by = 'Celltype_sgRNA') +\n",
    "    theme(axis.text = element_text(size = 15, face = \"bold\"), axis.text.x = element_text(angle = 270))"
   ]
  },
  {
   "cell_type": "markdown",
   "id": "3fcf9e21-98e7-4d44-87d1-608539e95742",
   "metadata": {},
   "source": [
    "### Gene set"
   ]
  },
  {
   "cell_type": "markdown",
   "id": "d38b07f8-775d-4e36-b28f-46e57cf72527",
   "metadata": {},
   "source": [
    "#### IFN"
   ]
  },
  {
   "cell_type": "markdown",
   "id": "d79290cf-07ba-41e3-b684-30181b8fc726",
   "metadata": {},
   "source": [
    "##### IFN score"
   ]
  },
  {
   "cell_type": "code",
   "execution_count": null,
   "id": "f12f93d7-29bc-4f31-b44e-875dcb13be4c",
   "metadata": {},
   "outputs": [],
   "source": [
    "OrderGene_GSEA <- function(DEGs_wilcox_df) {\n",
    "    \n",
    "    DEGs_wilcox_df_list<-DEGs_wilcox_df[['avg_log2FC']] # 提取排序值 only about thousands genes (some genes are filtered due to low expression pct in wilcox test)\n",
    "    \n",
    "    if ('gene' %in% colnames(DEGs_wilcox_df)) {\n",
    "        names(DEGs_wilcox_df_list)<-DEGs_wilcox_df[['gene']] #gene列定义为基因名\n",
    "    } else{names(DEGs_wilcox_df_list)<-rownames(DEGs_wilcox_df)} #列名定义为基因名)\n",
    "           \n",
    "    DEGs_wilcox_df_list <- sort(DEGs_wilcox_df_list, decreasing = T) #按排序值进行排序，制作基因列表\n",
    "\n",
    "    return(DEGs_wilcox_df_list)\n",
    "}"
   ]
  },
  {
   "cell_type": "code",
   "execution_count": null,
   "id": "38625fcd-f0a6-4f33-937d-8b5b4a4e16ce",
   "metadata": {},
   "outputs": [],
   "source": [
    "msigdb_Hallmark <- msigdbr(species = 'Mus musculus', category = \"H\")\n",
    "msigdb_Hallmark_list <- msigdb_Hallmark %>% split(x = .$gene_symbol, f = .$gs_name)"
   ]
  },
  {
   "cell_type": "code",
   "execution_count": null,
   "id": "645b6d51-8169-40d0-947c-f8d14b8c59fb",
   "metadata": {},
   "outputs": [],
   "source": [
    "Hallmark_GS_selected <- c('HALLMARK_INTERFERON_ALPHA_RESPONSE', 'HALLMARK_INTERFERON_GAMMA_RESPONSE')"
   ]
  },
  {
   "cell_type": "code",
   "execution_count": null,
   "id": "796ff86f-6caf-4146-ae1d-25cce795f227",
   "metadata": {},
   "outputs": [],
   "source": [
    "for (GS in Hallmark_GS_selected) {\n",
    "    SAGA_TIL_B16_SeuratObj <- AddModuleScore(object = SAGA_TIL_B16_SeuratObj, features = list(msigdb_Hallmark_list[[GS]] %>% unique()), name = paste0(GS, '_'), nbin = 50)\n",
    "    SAGA_TIL_MC38_SeuratObj <- AddModuleScore(object = SAGA_TIL_MC38_SeuratObj, features = list(msigdb_Hallmark_list[[GS]] %>% unique()), name = paste0(GS, '_'), nbin = 50)\n",
    "}"
   ]
  },
  {
   "cell_type": "code",
   "execution_count": null,
   "id": "65821454-3f56-440f-a87f-0781069fdf27",
   "metadata": {},
   "outputs": [],
   "source": []
  },
  {
   "cell_type": "code",
   "execution_count": null,
   "id": "4e183aa0-2b28-462d-bf10-170e45527552",
   "metadata": {},
   "outputs": [],
   "source": [
    "#SAGA_TIL_B16_SeuratObj; HALLMARK_INTERFERON_ALPHA_RESPONSE_1\n",
    "options(repr.plot.width = 20, repr.plot.height = 8)\n",
    "cell_types <- c('CD8T', 'CD4T', 'gdT', 'NKT', 'NK', 'B_Cell', 'cDC1', 'cDC2', 'mregDC', 'pDC', 'Monocyte', 'Macrophage','Neutrophil', 'Basophil')\n",
    "SAGA_TIL_B16_SeuratObj$`Maincluster_res0.3` <- factor(SAGA_TIL_B16_SeuratObj$`Maincluster_res0.3`, levels = cell_types)\n",
    "# 创建一个自定义 labeller\n",
    "custom_labeller <- function(variable, value) {\n",
    "  # 创建一个名为 variable 的列表，用于更改标签显示名称\n",
    "  labels <- c('CD8T', 'CD4T', 'gdT', 'NKT', 'NK', 'B_Cell', 'cDC1', 'cDC2', 'mregDC', 'pDC', 'Mono.', 'Macro.','Neutro.', 'Baso.')  # 你可以按需要修改\n",
    "  names(labels) <- cell_types  # 对应的分面标签\n",
    "\n",
    "  return(labels[as.character(value)])  # 返回相应的标签\n",
    "}\n",
    "\n",
    "\n",
    "FetchData(SAGA_TIL_B16_SeuratObj, vars = c('Maincluster_res0.3', 'sgRNA', 'HALLMARK_INTERFERON_ALPHA_RESPONSE_1', 'HALLMARK_INTERFERON_GAMMA_RESPONSE_1')) %>%\n",
    "    ggplot(mapping = aes(x = sgRNA, y = HALLMARK_INTERFERON_ALPHA_RESPONSE_1, fill = sgRNA)) +\n",
    "    geom_violin(linewidth=0, alpha = 0.5, position = position_dodge(0.85)) +\n",
    "    geom_boxplot(notch=T, width=0.2, linewidth=0.2, alpha = 0.5, position = position_dodge(0.85), outlier.size = 0) +\n",
    "    facet_wrap(~ Maincluster_res0.3, nrow = 1, strip.position = \"top\", labeller = custom_labeller) +\n",
    "    stat_compare_means(mapping = aes(group = sgRNA), label = 'p.signif', method = 'wilcox.test', size = 8, comparisons = list(c(\"sgS\", \"sgNT\"), c(\"sgC\", \"sgNT\"))) +\n",
    "    scale_x_discrete(labels = NULL) +\n",
    "    scale_fill_manual(values = sgRNA_color) +\n",
    "    xlab(label = NULL) +\n",
    "    ylab(label = 'Interferon Alpha Response Score') +\n",
    "    theme_classic(base_size = 25, base_family = 'Helvetica', base_line_size = 0.5, base_rect_size = 0) +\n",
    "    transparent_bg +\n",
    "    theme(legend.position = 'top',\n",
    "          axis.text = element_text(colour = 'black'),\n",
    "          axis.text.x = element_text(angle = 0),\n",
    "          axis.title.x = element_text(margin = margin(15,0,0,0)),\n",
    "          axis.title.y = element_text(margin = margin(0,15,0,0)))\n",
    "\n",
    "ggsave(filename = paste0(wd, '/figures_v2', '/', 'SAGA_TIL_B16_Interferon_Alpha_Response_Score_VlnPlot.pdf'), device = 'pdf', width = 20, height = 9, bg = 'transparent')"
   ]
  },
  {
   "cell_type": "code",
   "execution_count": null,
   "id": "159e1e5e-0529-48c3-abfa-21563d61f55a",
   "metadata": {},
   "outputs": [],
   "source": []
  },
  {
   "cell_type": "code",
   "execution_count": null,
   "id": "43d5d6b1-cb2e-4fda-a91d-50f44879bc86",
   "metadata": {},
   "outputs": [],
   "source": [
    "#SAGA_TIL_B16_SeuratObj; HALLMARK_INTERFERON_GAMMA_RESPONSE_1\n",
    "options(repr.plot.width = 20, repr.plot.height = 8)\n",
    "FetchData(SAGA_TIL_B16_SeuratObj, vars = c('Maincluster_res0.3', 'sgRNA', 'HALLMARK_INTERFERON_ALPHA_RESPONSE_1', 'HALLMARK_INTERFERON_GAMMA_RESPONSE_1')) %>%\n",
    "    ggplot(mapping = aes(x = sgRNA, y = HALLMARK_INTERFERON_GAMMA_RESPONSE_1, fill = sgRNA)) +\n",
    "    geom_violin(linewidth=0, alpha = 0.5, position = position_dodge(0.85)) +\n",
    "    geom_boxplot(notch=T, width=0.2, linewidth=0.2, alpha = 0.5, position = position_dodge(0.85), outlier.size = 0) +\n",
    "    facet_wrap(~ Maincluster_res0.3, nrow = 1, strip.position = \"top\", labeller = custom_labeller) +\n",
    "    stat_compare_means(mapping = aes(group = sgRNA), label = 'p.signif', method = 'wilcox.test', size = 8, comparisons = list(c(\"sgS\", \"sgNT\"), c(\"sgC\", \"sgNT\"))) +\n",
    "    scale_x_discrete(labels = NULL) +\n",
    "    scale_fill_manual(values = sgRNA_color) +\n",
    "    xlab(label = NULL) +\n",
    "    ylab(label = 'Interferon Gamma Response Score') +\n",
    "    theme_classic(base_size = 25, base_family = 'Helvetica', base_line_size = 0.5, base_rect_size = 0) +\n",
    "    transparent_bg +\n",
    "    theme(legend.position = 'top',\n",
    "          axis.text = element_text(colour = 'black'),\n",
    "          axis.text.x = element_text(angle = 0),\n",
    "          axis.title.x = element_text(margin = margin(15,0,0,0)),\n",
    "          axis.title.y = element_text(margin = margin(0,15,0,0)))\n",
    "\n",
    "ggsave(filename = paste0(wd, '/figures_v2', '/', 'SAGA_TIL_B16_Interferon_Gamma_Response_Score_VlnPlot.pdf'), device = 'pdf', width = 20, height = 9, bg = 'transparent')"
   ]
  },
  {
   "cell_type": "code",
   "execution_count": null,
   "id": "72b2d1ff-edff-431b-96c5-2e4a16121497",
   "metadata": {},
   "outputs": [],
   "source": [
    "#SAGA_TIL_MC38_SeuratObj; HALLMARK_INTERFERON_ALPHA_RESPONSE_1\n",
    "options(repr.plot.width = 20, repr.plot.height = 8)\n",
    "cell_types <- c('CD8T', 'CD4T', 'gdT', 'NKT', 'NK', 'B_Cell', 'cDC1', 'cDC2', 'mregDC', 'pDC', 'Monocyte', 'Macrophage','Neutrophil', 'Basophil')\n",
    "SAGA_TIL_MC38_SeuratObj$`Maincluster_res0.3` <- factor(SAGA_TIL_MC38_SeuratObj$`Maincluster_res0.3`, levels = cell_types)\n",
    "\n",
    "\n",
    "FetchData(SAGA_TIL_MC38_SeuratObj, vars = c('Maincluster_res0.3', 'sgRNA', 'HALLMARK_INTERFERON_ALPHA_RESPONSE_1', 'HALLMARK_INTERFERON_GAMMA_RESPONSE_1')) %>%\n",
    "    ggplot(mapping = aes(x = sgRNA, y = HALLMARK_INTERFERON_ALPHA_RESPONSE_1, fill = sgRNA)) +\n",
    "    geom_violin(linewidth=0, alpha = 0.5, position = position_dodge(0.85)) +\n",
    "    geom_boxplot(notch=F, width=0.2, linewidth=0.2, alpha = 0.5, position = position_dodge(0.85), outlier.size = 0) +\n",
    "    facet_wrap(~ Maincluster_res0.3, nrow = 1, strip.position = \"top\", labeller = custom_labeller) +\n",
    "    stat_compare_means(mapping = aes(group = sgRNA), label = 'p.signif', method = 'wilcox.test', size = 8, comparisons = list(c(\"sgC\", \"sgNT\"))) +\n",
    "    scale_x_discrete(labels = NULL) +\n",
    "    scale_fill_manual(values = sgRNA_color) +\n",
    "    xlab(label = NULL) +\n",
    "    ylab(label = 'Interferon Alpha Response Score') +\n",
    "    theme_classic(base_size = 25, base_family = 'Helvetica', base_line_size = 0.5, base_rect_size = 0) +\n",
    "    transparent_bg +\n",
    "    theme(legend.position = 'top',\n",
    "          axis.text = element_text(colour = 'black'),\n",
    "          axis.text.x = element_text(angle = 0),\n",
    "          axis.title.x = element_text(margin = margin(15,0,0,0)),\n",
    "          axis.title.y = element_text(margin = margin(0,15,0,0)))\n",
    "\n",
    "ggsave(filename = paste0(wd, '/figures_v2', '/', 'SAGA_TIL_MC38_Interferon_Alpha_Response_Score_VlnPlot.pdf'), device = 'pdf', width = 18, height = 9, bg = 'transparent')"
   ]
  },
  {
   "cell_type": "code",
   "execution_count": null,
   "id": "4d4691b9-d676-48a5-ad4f-55d892e41cb3",
   "metadata": {},
   "outputs": [],
   "source": []
  },
  {
   "cell_type": "code",
   "execution_count": null,
   "id": "4cd51feb-8038-41e3-87a6-b4834d4c05d1",
   "metadata": {},
   "outputs": [],
   "source": []
  },
  {
   "cell_type": "code",
   "execution_count": null,
   "id": "fc902688-abbf-4c47-8465-bc3b05776148",
   "metadata": {},
   "outputs": [],
   "source": [
    "#SAGA_TIL_MC38_SeuratObj; HALLMARK_INTERFERON_GAMMA_RESPONSE_1\n",
    "options(repr.plot.width = 20, repr.plot.height = 8)\n",
    "cell_types <- c('CD8T', 'CD4T', 'gdT', 'NKT', 'NK', 'B_Cell', 'cDC1', 'cDC2', 'mregDC', 'pDC', 'Monocyte', 'Macrophage','Neutrophil', 'Basophil')\n",
    "SAGA_TIL_MC38_SeuratObj$`Maincluster_res0.3` <- factor(SAGA_TIL_MC38_SeuratObj$`Maincluster_res0.3`, levels = cell_types)\n",
    "\n",
    "\n",
    "FetchData(SAGA_TIL_MC38_SeuratObj, vars = c('Maincluster_res0.3', 'sgRNA', 'HALLMARK_INTERFERON_ALPHA_RESPONSE_1', 'HALLMARK_INTERFERON_GAMMA_RESPONSE_1')) %>%\n",
    "    ggplot(mapping = aes(x = sgRNA, y = HALLMARK_INTERFERON_GAMMA_RESPONSE_1, fill = sgRNA)) +\n",
    "    geom_violin(linewidth=0, alpha = 0.5, position = position_dodge(0.85)) +\n",
    "    geom_boxplot(notch=F, width=0.2, linewidth=0.2, alpha = 0.5, position = position_dodge(0.85), outlier.size = 0) +\n",
    "    facet_wrap(~ Maincluster_res0.3, nrow = 1, strip.position = \"top\", labeller = custom_labeller) +\n",
    "    stat_compare_means(mapping = aes(group = sgRNA), label = 'p.signif', method = 'wilcox.test', size = 8, comparisons = list(c(\"sgC\", \"sgNT\"))) +\n",
    "    scale_x_discrete(labels = NULL) +\n",
    "    scale_fill_manual(values = sgRNA_color) +\n",
    "    xlab(label = NULL) +\n",
    "    ylab(label = 'Interferon Gamma Response Score') +\n",
    "    theme_classic(base_size = 25, base_family = 'Helvetica', base_line_size = 0.5, base_rect_size = 0) +\n",
    "    transparent_bg +\n",
    "    theme(legend.position = 'top',\n",
    "          axis.text = element_text(colour = 'black'),\n",
    "          axis.text.x = element_text(angle = 0),\n",
    "          axis.title.x = element_text(margin = margin(15,0,0,0)),\n",
    "          axis.title.y = element_text(margin = margin(0,15,0,0)))\n",
    "\n",
    "ggsave(filename = paste0(wd, '/figures_v2', '/', 'SAGA_TIL_MC38_Interferon_Gamma_Response_Score_VlnPlot.pdf'), device = 'pdf', width = 18, height = 9, bg = 'transparent')"
   ]
  },
  {
   "cell_type": "code",
   "execution_count": null,
   "id": "eb7ce17e-b89d-498d-9efd-14e24c2811b6",
   "metadata": {},
   "outputs": [],
   "source": []
  },
  {
   "cell_type": "markdown",
   "id": "073b833f-cf7b-4794-bf89-d63c273d1d15",
   "metadata": {},
   "source": [
    "##### IFN GSEA"
   ]
  },
  {
   "cell_type": "code",
   "execution_count": null,
   "id": "3ec6bbcc-6960-433a-b96e-af5dc7eb1b4d",
   "metadata": {},
   "outputs": [],
   "source": [
    "##find DEGs between sgC,sgS and sgNT with wilcox_test; SAGA_TIL_B16_SeuratObj\n",
    "Idents(SAGA_TIL_B16_SeuratObj) <- SAGA_TIL_B16_SeuratObj$`sgRNA`\n",
    "DEGs_B16_Imm_sgC_sgNT_wilcox <- FindMarkers(object = SAGA_TIL_B16_SeuratObj, ident.1 = \"sgC\", ident.2 = 'sgNT', test.use = \"wilcox\", logfc.threshold = 0, min.pct = 0.1)\n",
    "DEGs_B16_Imm_sgS_sgNT_wilcox <- FindMarkers(object = SAGA_TIL_B16_SeuratObj, ident.1 = \"sgS\", ident.2 = 'sgNT', test.use = \"wilcox\", logfc.threshold = 0, min.pct = 0.1)"
   ]
  },
  {
   "cell_type": "code",
   "execution_count": null,
   "id": "5e91700c-eaca-4c5a-8dc7-2eb902adfa63",
   "metadata": {},
   "outputs": [],
   "source": [
    "##find DEGs between sgC,sgS and sgNT with wilcox_test; SAGA_TIL_MC38_SeuratObj\n",
    "Idents(SAGA_TIL_MC38_SeuratObj) <- SAGA_TIL_MC38_SeuratObj$`sgRNA`\n",
    "DEGs_MC38_Imm_sgC_sgNT_wilcox <- FindMarkers(object = SAGA_TIL_MC38_SeuratObj, ident.1 = \"sgC\", ident.2 = 'sgNT', test.use = \"wilcox\", logfc.threshold = 0, min.pct = 0.1)"
   ]
  },
  {
   "cell_type": "code",
   "execution_count": null,
   "id": "96d692f5-0ac9-4dc0-a0b0-c8873d3e0b54",
   "metadata": {},
   "outputs": [],
   "source": [
    "saveRDS(DEGs_B16_Imm_sgC_sgNT_wilcox, paste0(wd, '/objects_v2/DEGs_B16_Imm_sgC_sgNT_wilcox.rds'))\n",
    "saveRDS(DEGs_B16_Imm_sgS_sgNT_wilcox, paste0(wd, '/objects_v2/DEGs_B16_Imm_sgS_sgNT_wilcox.rds'))\n",
    "saveRDS(DEGs_MC38_Imm_sgC_sgNT_wilcox, paste0(wd, '/objects_v2/DEGs_MC38_Imm_sgC_sgNT_wilcox.rds'))"
   ]
  },
  {
   "cell_type": "code",
   "execution_count": null,
   "id": "8defd392-5fa0-4237-bf68-cd9e3287cca9",
   "metadata": {},
   "outputs": [],
   "source": []
  },
  {
   "cell_type": "code",
   "execution_count": null,
   "id": "056925e8-c3ae-4c3f-b802-334b56f12f75",
   "metadata": {},
   "outputs": [],
   "source": []
  },
  {
   "cell_type": "code",
   "execution_count": null,
   "id": "1df82515-7b48-4e8f-8e7c-b97fcab9f9de",
   "metadata": {},
   "outputs": [],
   "source": []
  },
  {
   "cell_type": "code",
   "execution_count": null,
   "id": "9b0f127a-a16c-435f-891e-a2d74bf85187",
   "metadata": {},
   "outputs": [],
   "source": [
    "DEGs_B16_Imm_sgC_sgNT_wilcox <- readRDS(paste0(wd, '/objects_v2/DEGs_B16_Imm_sgC_sgNT_wilcox.rds'))\n",
    "DEGs_B16_Imm_sgS_sgNT_wilcox <- readRDS(paste0(wd, '/objects_v2/DEGs_B16_Imm_sgS_sgNT_wilcox.rds'))\n",
    "DEGs_MC38_Imm_sgC_sgNT_wilcox <- readRDS(paste0(wd, '/objects_v2/DEGs_MC38_Imm_sgC_sgNT_wilcox.rds'))"
   ]
  },
  {
   "cell_type": "code",
   "execution_count": null,
   "id": "92bf9eb8-b5ae-4852-992b-bc1ab3df6ad3",
   "metadata": {},
   "outputs": [],
   "source": [
    "#fgsea\n",
    "fgsea_B16_Imm_sgC_sgNT_wilcox <- fgsea(pathways = msigdb_Hallmark_list[Hallmark_GS_selected], stats = OrderGene_GSEA(DEGs_wilcox_df = DEGs_B16_Imm_sgC_sgNT_wilcox), nproc = 1)\n",
    "fgsea_B16_Imm_sgS_sgNT_wilcox <- fgsea(pathways = msigdb_Hallmark_list[Hallmark_GS_selected], stats = OrderGene_GSEA(DEGs_wilcox_df = DEGs_B16_Imm_sgS_sgNT_wilcox), nproc = 1)\n",
    "fgsea_MC38_Imm_sgC_sgNT_wilcox <- fgsea(pathways = msigdb_Hallmark_list[Hallmark_GS_selected], stats = OrderGene_GSEA(DEGs_wilcox_df = DEGs_MC38_Imm_sgC_sgNT_wilcox), nproc = 1)"
   ]
  },
  {
   "cell_type": "code",
   "execution_count": null,
   "id": "4c20d57f-eec2-46a1-aab9-b2f7ab850818",
   "metadata": {},
   "outputs": [],
   "source": [
    "fgsea_B16_Imm_sgC_sgNT_wilcox"
   ]
  },
  {
   "cell_type": "code",
   "execution_count": null,
   "id": "6c0731e0-5a5e-4e97-8d84-4a623225e237",
   "metadata": {},
   "outputs": [],
   "source": [
    "fgsea_B16_Imm_sgS_sgNT_wilcox"
   ]
  },
  {
   "cell_type": "code",
   "execution_count": null,
   "id": "cd40fdcd-db4e-44df-8218-4ad212c49a64",
   "metadata": {},
   "outputs": [],
   "source": [
    "fgsea_MC38_Imm_sgC_sgNT_wilcox"
   ]
  },
  {
   "cell_type": "code",
   "execution_count": null,
   "id": "3b9ae6b2-4199-40c9-90a5-4460508a2612",
   "metadata": {},
   "outputs": [],
   "source": []
  },
  {
   "cell_type": "code",
   "execution_count": null,
   "id": "f98cacec-5825-4ea6-b3a0-9627d37210af",
   "metadata": {},
   "outputs": [],
   "source": [
    "#INTERFERON_ALPHA\n",
    "EnrichData_B16_Imm_sgC_sgNT_IFNA <- plotEnrichment(pathway = msigdb_Hallmark_list[[Hallmark_GS_selected[1]]], stats = OrderGene_GSEA(DEGs_wilcox_df = DEGs_B16_Imm_sgC_sgNT_wilcox), ticksSize = 0)$`data` %>%\n",
    "    mutate(sgRNA = 'sgC', IFN = 'IFNA')\n",
    "\n",
    "EnrichData_B16_Imm_sgS_sgNT_IFNA <- plotEnrichment(pathway = msigdb_Hallmark_list[[Hallmark_GS_selected[1]]], stats = OrderGene_GSEA(DEGs_wilcox_df = DEGs_B16_Imm_sgS_sgNT_wilcox), ticksSize = 0)$`data` %>%\n",
    "    mutate(sgRNA = 'sgS', IFN = 'IFNA')\n",
    "\n",
    "EnrichData_MC38_Imm_sgC_sgNT_IFNA <- plotEnrichment(pathway = msigdb_Hallmark_list[[Hallmark_GS_selected[1]]], stats = OrderGene_GSEA(DEGs_wilcox_df = DEGs_MC38_Imm_sgC_sgNT_wilcox), ticksSize = 0)$`data` %>%\n",
    "    mutate(sgRNA = 'sgC', IFN = 'IFNA')\n",
    "\n",
    "\n",
    "\n",
    "#INTERFERON_GAMMA\n",
    "EnrichData_B16_Imm_sgC_sgNT_IFNG <- plotEnrichment(pathway = msigdb_Hallmark_list[[Hallmark_GS_selected[2]]], stats = OrderGene_GSEA(DEGs_wilcox_df = DEGs_B16_Imm_sgC_sgNT_wilcox), ticksSize = 0)$`data` %>%\n",
    "    mutate(sgRNA = 'sgC', IFN = 'IFNG')\n",
    "\n",
    "EnrichData_B16_Imm_sgS_sgNT_IFNG <- plotEnrichment(pathway = msigdb_Hallmark_list[[Hallmark_GS_selected[2]]], stats = OrderGene_GSEA(DEGs_wilcox_df = DEGs_B16_Imm_sgS_sgNT_wilcox), ticksSize = 0)$`data` %>%\n",
    "    mutate(sgRNA = 'sgS', IFN = 'IFNG')\n",
    "\n",
    "EnrichData_MC38_Imm_sgC_sgNT_IFNG <- plotEnrichment(pathway = msigdb_Hallmark_list[[Hallmark_GS_selected[2]]], stats = OrderGene_GSEA(DEGs_wilcox_df = DEGs_MC38_Imm_sgC_sgNT_wilcox), ticksSize = 0)$`data` %>%\n",
    "    mutate(sgRNA = 'sgC', IFN = 'IFNG')\n",
    "\n",
    "# combine\n",
    "EnrichData_B16_Imm_sgCS_sgNT <- rbind(EnrichData_B16_Imm_sgC_sgNT_IFNA, EnrichData_B16_Imm_sgS_sgNT_IFNA, EnrichData_B16_Imm_sgC_sgNT_IFNG, EnrichData_B16_Imm_sgS_sgNT_IFNG)\n",
    "EnrichData_MC38_Imm_sgC_sgNT <- rbind(EnrichData_MC38_Imm_sgC_sgNT_IFNA, EnrichData_MC38_Imm_sgC_sgNT_IFNG)"
   ]
  },
  {
   "cell_type": "code",
   "execution_count": null,
   "id": "9bc3cce5-c24d-4ade-bff9-602874bcca68",
   "metadata": {},
   "outputs": [],
   "source": [
    "# 使用 geom_point 代替 geom_line\n",
    "options(repr.plot.width = 8, repr.plot.height = 6)\n",
    "EnrichData_B16_Imm_sgCS_sgNT %>%\n",
    "    filter(IFN == 'IFNG') %>%\n",
    "    ggplot(aes(x = x, y = y, fill = sgRNA)) +\n",
    "    geom_point(size = 3, shape=21, alpha = 0.5, stroke = 0.2) +\n",
    "    labs(\n",
    "        title = paste0(\"Enrichment of Interferon Gamma Response\"),\n",
    "        x = \"Rank in Differential Expressed Genes\",\n",
    "        y = \"Enrichment Score\"\n",
    "    ) +\n",
    "    geom_hline(aes(yintercept = 0), linetype = 'dashed') +\n",
    "    annotate(\"text\", x = Inf, y = Inf, label = \"sgC: FDR < 0.012\", hjust = 1.287, vjust = 3.5, size = 6) +\n",
    "    annotate(\"text\", x = Inf, y = Inf, label = \"sgS: FDR < 2.369e-8\", hjust = 1.1, vjust = 5.5, size = 6) +\n",
    "    scale_fill_manual(values = sgRNA_color) +\n",
    "    theme_classic(base_size = 20, base_family = 'Helvetica', base_line_size = 0.5, base_rect_size = 0) +\n",
    "    transparent_bg +\n",
    "    theme(legend.position = 'top',\n",
    "          axis.text = element_text(colour = 'black'),\n",
    "          axis.text.x = element_text(angle = 0),\n",
    "          axis.title.x = element_text(margin = margin(15,0,0,0)),\n",
    "          axis.title.y = element_text(margin = margin(0,15,0,0)))\n",
    "\n",
    "ggsave(filename = paste0(wd, '/figures_v2', '/', 'SAGA_TIL_B16_Interferon_Gamma_Response_GSEA_ScatterPlot.pdf'), device = 'pdf', width = 8, height = 6, bg = 'transparent')"
   ]
  },
  {
   "cell_type": "code",
   "execution_count": null,
   "id": "673f8e2c-c064-42fc-b439-36bac3d522e1",
   "metadata": {},
   "outputs": [],
   "source": []
  },
  {
   "cell_type": "code",
   "execution_count": null,
   "id": "6a98d7a5-6c17-4540-8f27-76985544cd93",
   "metadata": {},
   "outputs": [],
   "source": [
    "options(repr.plot.width = 8, repr.plot.height = 6)\n",
    "ggplot(EnrichData_MC38_Imm_sgC_sgNT, aes(x = x, y = y, fill = sgRNA)) +\n",
    "    geom_point(size = 3, shape=21, alpha = 0.5, stroke = 0.2) +\n",
    "    labs(\n",
    "        title = paste0(\"Enrichment of Interferon Gamma Response\"),\n",
    "        x = \"Rank in Differential Expressed Genes\",\n",
    "        y = \"Enrichment Score\"\n",
    "    ) +\n",
    "    geom_hline(aes(yintercept = 0), linetype = 'dashed') +\n",
    "    annotate(\"text\", x = Inf, y = Inf, label = \"sgC: FDR < 6.260e-14\", hjust = 1.1, vjust = 5.5, size = 6) +\n",
    "    scale_fill_manual(values = sgRNA_color) +\n",
    "    theme_classic(base_size = 20, base_family = 'Helvetica', base_line_size = 0.5, base_rect_size = 0) +\n",
    "    transparent_bg +\n",
    "    theme(legend.position = 'top',\n",
    "          axis.text = element_text(colour = 'black'),\n",
    "          axis.text.x = element_text(angle = 0),\n",
    "          axis.title.x = element_text(margin = margin(15,0,0,0)),\n",
    "          axis.title.y = element_text(margin = margin(0,15,0,0)))\n",
    "\n",
    "ggsave(filename = paste0(wd, '/figures_v2', '/', 'SAGA_TIL_MC38_Interferon_Gamma_Response_GSEA_ScatterPlot.pdf'), device = 'pdf', width = 8, height = 6, bg = 'transparent')"
   ]
  },
  {
   "cell_type": "code",
   "execution_count": null,
   "id": "9c2fd4b6-ed19-41b5-8d74-d6cc2191b094",
   "metadata": {},
   "outputs": [],
   "source": [
    "saveRDS(SAGA_TIL_B16_SeuratObj, paste0(wd, '/objects/SAGA_TIL_B16_SeuratObj.rds'))\n",
    "saveRDS(SAGA_TIL_MC38_SeuratObj, paste0(wd, '/objects/SAGA_TIL_MC38_SeuratObj.rds'))"
   ]
  },
  {
   "cell_type": "code",
   "execution_count": null,
   "id": "26c39a30-87e2-4318-b28e-23ffded16473",
   "metadata": {},
   "outputs": [],
   "source": [
    "SAGA_TIL_B16_SeuratObj <- readRDS(paste0(wd, '/objects/SAGA_TIL_B16_SeuratObj.rds'))\n",
    "SAGA_TIL_MC38_SeuratObj <- readRDS(paste0(wd, '/objects/SAGA_TIL_MC38_SeuratObj.rds'))"
   ]
  },
  {
   "cell_type": "code",
   "execution_count": null,
   "id": "62350998-319d-4357-bceb-ecb50367d11b",
   "metadata": {},
   "outputs": [],
   "source": [
    "SAGA_TIL_B16_SeuratObj"
   ]
  },
  {
   "cell_type": "code",
   "execution_count": null,
   "id": "1d097473-285a-4ae3-aac0-08b444b9edc1",
   "metadata": {},
   "outputs": [],
   "source": [
    "SAGA_TIL_MC38_SeuratObj"
   ]
  },
  {
   "cell_type": "markdown",
   "id": "aaf2e66d-9ee6-4912-bb72-df401fec82a5",
   "metadata": {},
   "source": [
    "## CD8T Cell"
   ]
  },
  {
   "cell_type": "markdown",
   "id": "86de6c72-69ab-4863-bd8f-0dee64949e30",
   "metadata": {},
   "source": [
    "### Subset"
   ]
  },
  {
   "cell_type": "code",
   "execution_count": null,
   "id": "f0e50293-ea58-4480-aadd-683b1b2ff22e",
   "metadata": {},
   "outputs": [],
   "source": [
    "Idents(SAGA_TIL_MC38_SeuratObj) <- SAGA_TIL_MC38_SeuratObj$`Maincluster_res0.3`\n",
    "levels(SAGA_TIL_MC38_SeuratObj)\n",
    "\n",
    "Idents(SAGA_TIL_B16_SeuratObj) <- SAGA_TIL_B16_SeuratObj$`Maincluster_res0.3`\n",
    "levels(SAGA_TIL_B16_SeuratObj)"
   ]
  },
  {
   "cell_type": "code",
   "execution_count": null,
   "id": "471173a2-34c6-44fc-874d-1c383344d7c4",
   "metadata": {},
   "outputs": [],
   "source": [
    "# subset CD8T cells for B16\n",
    "Idents(SAGA_TIL_B16_SeuratObj) <- SAGA_TIL_B16_SeuratObj$`Maincluster_res0.3`\n",
    "SAGA_CD8T_B16_SeuratObj <- subset(SAGA_TIL_B16_SeuratObj, idents = c('CD8T'))\n",
    "SAGA_CD8T_B16_SeuratObj"
   ]
  },
  {
   "cell_type": "code",
   "execution_count": null,
   "id": "a385d36f-8816-462e-865c-3d507e756b53",
   "metadata": {},
   "outputs": [],
   "source": [
    "# subset CD8T cells for MC38\n",
    "Idents(SAGA_TIL_MC38_SeuratObj) <- SAGA_TIL_MC38_SeuratObj$`Maincluster_res0.3`\n",
    "SAGA_CD8T_MC38_SeuratObj <- subset(SAGA_TIL_MC38_SeuratObj, idents = c('CD8T'))\n",
    "SAGA_CD8T_MC38_SeuratObj"
   ]
  },
  {
   "cell_type": "markdown",
   "id": "71780c11-0ae0-4078-96bd-ffe27063558f",
   "metadata": {},
   "source": [
    "### Subclustering and annotation"
   ]
  },
  {
   "cell_type": "markdown",
   "id": "56589a64-76aa-4d7a-93d9-99abf987a6ff",
   "metadata": {},
   "source": [
    "#### B16"
   ]
  },
  {
   "cell_type": "code",
   "execution_count": null,
   "id": "0c25cd75-75ab-4c43-890f-6302665ce105",
   "metadata": {},
   "outputs": [],
   "source": [
    "# UMAP\n",
    "SAGA_CD8T_B16_SeuratObj <- RunUMAP(SAGA_CD8T_B16_SeuratObj, dims = 1:50, reduction = \"harmony\", verbose = F)"
   ]
  },
  {
   "cell_type": "code",
   "execution_count": null,
   "id": "6e494ad4-c394-4a4f-b468-aae54381ca97",
   "metadata": {},
   "outputs": [],
   "source": [
    "# FindNeighbors\n",
    "SAGA_CD8T_B16_SeuratObj <- FindNeighbors(SAGA_CD8T_B16_SeuratObj, dims = 1:50, reduction = \"harmony\", verbose = F)"
   ]
  },
  {
   "cell_type": "code",
   "execution_count": null,
   "id": "d118a611-8c63-490f-8ce7-ff491415e1a2",
   "metadata": {},
   "outputs": [],
   "source": [
    "# FindClusters\n",
    "options(repr.plot.width = 8, repr.plot.height = 8)\n",
    "for (i in c(0.1, 0.2, 0.3, 0.4, 0.5, 0.6, 0.7, 0.8, 0.9, 1)) {\n",
    "  SAGA_CD8T_B16_SeuratObj <- FindClusters(SAGA_CD8T_B16_SeuratObj, resolution = i, verbose = F)\n",
    "  print(DimPlot(SAGA_CD8T_B16_SeuratObj, reduction = \"umap\", label = T) + labs(title = paste0(\"resolution: \", i)))\n",
    "}"
   ]
  },
  {
   "cell_type": "code",
   "execution_count": null,
   "id": "748a5516-7253-428f-9fac-5507239f3df7",
   "metadata": {},
   "outputs": [],
   "source": [
    "options(repr.plot.height = 8, repr.plot.width = 8)\n",
    "FeaturePlot(object = SAGA_CD8T_B16_SeuratObj, features = c(\"Gzmb\"), reduction = 'umap')"
   ]
  },
  {
   "cell_type": "code",
   "execution_count": null,
   "id": "d89e6ce7-9b17-4868-9fa5-a3687ecc0c1a",
   "metadata": {},
   "outputs": [],
   "source": [
    "options(repr.plot.height = 28, repr.plot.width = 15)\n",
    "FeaturePlot(object = SAGA_CD8T_B16_SeuratObj, features = c(\"Cd4\", \"Cd8a\",'Sell', 'Ccr7', 'Tcf7','Lef1', \"Ifng\", \"Gzmb\", \"Prf1\", \"Nkg7\", \"Tox\",\"Pdcd1\", \"Ctla4\", \"Havcr2\", \"Lag3\", \"Foxp3\", \"Pclaf\", \"Mki67\"), reduction = 'umap', ncol = 3)"
   ]
  },
  {
   "cell_type": "code",
   "execution_count": null,
   "id": "81b85e1b-9efc-4025-9494-95f2e30b8b90",
   "metadata": {},
   "outputs": [],
   "source": [
    "# get the multiple_subcluster for c2_res0.1\n",
    "Idents(SAGA_CD8T_B16_SeuratObj) <- SAGA_CD8T_B16_SeuratObj$`RNA_snn_res.0.1`\n",
    "SAGA_CD8T_B16_SeuratObj <- FindSubCluster(object = SAGA_CD8T_B16_SeuratObj, cluster = '2', subcluster.name = 'RNA_snn_res.0.1_subclus', graph.name = 'RNA_snn', resolution = 0.1)\n"
   ]
  },
  {
   "cell_type": "code",
   "execution_count": null,
   "id": "e2959bdf-0e4a-4699-b0b5-7688eae4b0b1",
   "metadata": {},
   "outputs": [],
   "source": [
    "options(repr.plot.height = 8, repr.plot.width = 8)\n",
    "DimPlot(SAGA_CD8T_B16_SeuratObj, reduction = \"umap\", label = T, group.by = 'RNA_snn_res.0.1_subclus')"
   ]
  },
  {
   "cell_type": "code",
   "execution_count": null,
   "id": "73164f8c-1428-41fe-9cb9-b241c9f73b6f",
   "metadata": {},
   "outputs": [],
   "source": [
    "#find Tmarkers_B16_res0.1_presto with wilcox test in presto\n",
    "Tmarkers_B16_res0.1_presto <- wilcoxauc(X = SAGA_CD8T_B16_SeuratObj, group_by = 'RNA_snn_res.0.1_subclus')"
   ]
  },
  {
   "cell_type": "code",
   "execution_count": null,
   "id": "982bd253-4d93-45d6-b6d4-77307b2bf402",
   "metadata": {},
   "outputs": [],
   "source": [
    "Tmarkers_B16_res0.1_presto %>% filter(group=='3', pct_in > 10) %>% arrange(desc(logFC)) %>% slice_max(logFC, n = 50)"
   ]
  },
  {
   "cell_type": "code",
   "execution_count": null,
   "id": "0a6f4a30-2c63-432c-95aa-a125b00fb618",
   "metadata": {},
   "outputs": [],
   "source": [
    "##maincluster RNA_snn_res.0.1\n",
    "options(repr.plot.height = 10, repr.plot.width = 10)\n",
    "Idents(SAGA_CD8T_B16_SeuratObj) <- SAGA_CD8T_B16_SeuratObj$`RNA_snn_res.0.1_subclus`\n",
    "\n",
    "Tcluster_anno <- c('0' = 'CD8T_Ttd', '1' = 'CD8T_Teffector', '2_0' = 'CD8T_Tn', '2_1' = 'CD8T_Tstem', '3' = 'CD8T_Tex')\n",
    "\n",
    "\n",
    "SAGA_CD8T_B16_SeuratObj$Tcluster_res0.1 <- Tcluster_anno[ as.character(SAGA_CD8T_B16_SeuratObj$`RNA_snn_res.0.1_subclus`) ]\n",
    "\n",
    "\n",
    "DimPlot(SAGA_CD8T_B16_SeuratObj, label = T, pt.size = 0.5, label.size = 5, repel = T, reduction = 'umap', group.by = 'Tcluster_res0.1') +\n",
    "    theme(plot.title = element_text(size = 30),\n",
    "          legend.text = element_text(size = 20),\n",
    "          legend.key.size = unit(0.5, \"inches\")) +\n",
    "    guides(colour = guide_legend(override.aes = list(size = 5)))"
   ]
  },
  {
   "cell_type": "code",
   "execution_count": null,
   "id": "c132da10-2c16-43c2-abcb-096e13be8e6d",
   "metadata": {},
   "outputs": [],
   "source": [
    "saveRDS(SAGA_CD8T_B16_SeuratObj, paste0(wd, '/objects_v2/SAGA_CD8T_B16_SeuratObj.rds'))"
   ]
  },
  {
   "cell_type": "code",
   "execution_count": null,
   "id": "f445fc8c-cb6a-41f6-a469-2a4f7ce5ae4b",
   "metadata": {},
   "outputs": [],
   "source": [
    "options(repr.plot.height = 4, repr.plot.width = 8)\n",
    "CD8T_markers <- c('Ccr7', 'Sell', 'Tcf7', 'Lef1', 'Slamf6', 'Mki67', 'Ifng', 'Gzma', 'Gzmb', 'Prf1', 'Cd101', 'Cd38', 'Tox', 'Pdcd1', 'Lag3', 'Havcr2')\n",
    "DotPlot(SAGA_CD8T_B16_SeuratObj, features = CD8T_markers, group.by = 'Tcluster_res0.1', scale = T) + \n",
    "    scale_y_discrete(limits = c('CD8T_Tn', 'CD8T_Tstem', 'CD8T_Teffector', 'CD8T_Ttd', 'CD8T_Tex'), labels = c('Naive', 'Stem-like', 'Effector-like', 'Terminally \\ndifferentiated', 'Exhausted')) +\n",
    "    scale_color_gradient2(low = '#e0e0e0', mid = '#f7d94c', high = '#db2531') + #FF0000 #db2531 \n",
    "    xlab(label = NULL) +\n",
    "    ylab(label = NULL) +\n",
    "    theme_classic(base_size = 20, base_family = 'Helvetica', base_line_size = 0.5, base_rect_size = 0) +\n",
    "    transparent_bg +\n",
    "    theme(legend.position = 'right',\n",
    "          axis.text = element_text(colour = 'black'),\n",
    "          axis.text.x = element_text(angle = 270),\n",
    "          axis.title.x = element_text(margin = margin(15,0,0,0)),\n",
    "          axis.title.y = element_text(margin = margin(0,15,0,0)))\n",
    "\n",
    "ggsave(filename = paste0(wd, '/figures_v2', '/', 'SAGA_CD8T_B16_MarkerGene_DotPlot.pdf'), device = 'pdf', width = 8, height = 4, bg = 'transparent')"
   ]
  },
  {
   "cell_type": "code",
   "execution_count": null,
   "id": "8c152ab5-f7db-473e-9bb6-5d92319ed875",
   "metadata": {},
   "outputs": [],
   "source": [
    "options(repr.plot.height = 10, repr.plot.width = 12)\n",
    "DimPlot(SAGA_CD8T_B16_SeuratObj, label = T, pt.size = 0.5, label.size = 5, repel = T, reduction = 'umap', group.by = 'Tcluster_res0.1') +\n",
    "    scale_color_manual(values = imm_subcelltype_colors, limits = c('CD8T_Tn', 'CD8T_Tstem', 'CD8T_Teffector', 'CD8T_Ttd', 'CD8T_Tex'), labels = c('Naive', 'Stem-like', 'Effector-like', 'Terminally differentiated', 'Exhausted')) +\n",
    "    theme_classic(base_size = 25, base_family = 'Helvetica', base_line_size = 0.5, base_rect_size = 0) +\n",
    "    transparent_bg +\n",
    "    theme(legend.position = 'right',\n",
    "          axis.text = element_text(colour = 'black'),\n",
    "          axis.text.x = element_text(angle = 0),\n",
    "          axis.title.x = element_text(margin = margin(15,0,0,0)),\n",
    "          axis.title.y = element_text(margin = margin(0,15,0,0)))"
   ]
  },
  {
   "cell_type": "markdown",
   "id": "48146bbd-9a45-4ba4-8b46-628135009fb9",
   "metadata": {},
   "source": [
    "#### MC38"
   ]
  },
  {
   "cell_type": "code",
   "execution_count": null,
   "id": "5b0dbcc3-3902-44a7-b3cd-24aa05e9cc23",
   "metadata": {},
   "outputs": [],
   "source": [
    "# UMAP\n",
    "SAGA_CD8T_MC38_SeuratObj <- RunUMAP(SAGA_CD8T_MC38_SeuratObj, dims = 1:50, reduction = \"harmony\", verbose = F)"
   ]
  },
  {
   "cell_type": "code",
   "execution_count": null,
   "id": "61afdd1a-81af-48dd-8e26-607f8716fb59",
   "metadata": {},
   "outputs": [],
   "source": [
    "# FindNeighbors\n",
    "SAGA_CD8T_MC38_SeuratObj <- FindNeighbors(SAGA_CD8T_MC38_SeuratObj, dims = 1:50, reduction = \"harmony\", verbose = F)"
   ]
  },
  {
   "cell_type": "code",
   "execution_count": null,
   "id": "7451ee7b-9f30-4530-b15b-5c16502cbfd2",
   "metadata": {
    "scrolled": true
   },
   "outputs": [],
   "source": [
    "# FindClusters\n",
    "options(repr.plot.width = 8, repr.plot.height = 8)\n",
    "for (i in c(0.1, 0.2, 0.3, 0.4, 0.5, 0.6, 0.7, 0.8, 0.9, 1)) {\n",
    "  SAGA_CD8T_MC38_SeuratObj <- FindClusters(SAGA_CD8T_MC38_SeuratObj, resolution = i, verbose = F)\n",
    "  print(DimPlot(SAGA_CD8T_MC38_SeuratObj, reduction = \"umap\", label = T) + labs(title = paste0(\"resolution: \", i)))\n",
    "}"
   ]
  },
  {
   "cell_type": "code",
   "execution_count": null,
   "id": "4c36080b-e4ca-4596-a1fb-577061af0433",
   "metadata": {},
   "outputs": [],
   "source": [
    "options(repr.plot.height = 8, repr.plot.width = 8)\n",
    "FeaturePlot(object = SAGA_CD8T_MC38_SeuratObj, features = c(\"C1qb\"), reduction = 'umap')"
   ]
  },
  {
   "cell_type": "code",
   "execution_count": null,
   "id": "73746090-6064-4526-931c-288a4886365e",
   "metadata": {},
   "outputs": [],
   "source": [
    "options(repr.plot.height = 28, repr.plot.width = 15)\n",
    "FeaturePlot(object = SAGA_CD8T_MC38_SeuratObj, features = c(\"Cd4\", \"Cd8a\",'Sell', 'Ccr7', 'Tcf7','Lef1', \"Ifng\", \"Gzmb\", \"Prf1\", \"Nkg7\", \"Tox\",\"Pdcd1\", \"Ctla4\", \"Havcr2\", \"Lag3\", \"Foxp3\", \"Pclaf\", \"Mki67\"), reduction = 'umap', ncol = 3)"
   ]
  },
  {
   "cell_type": "code",
   "execution_count": null,
   "id": "2057e6a5-5015-4277-b342-d6d7689bf69e",
   "metadata": {},
   "outputs": [],
   "source": [
    "options(repr.plot.height = 8, repr.plot.width = 8)\n",
    "DimPlot(SAGA_CD8T_MC38_SeuratObj, reduction = \"umap\", label = T, group.by = 'RNA_snn_res.0.5')"
   ]
  },
  {
   "cell_type": "code",
   "execution_count": null,
   "id": "10150b50-b8bb-4032-9b63-f6aca4d4f161",
   "metadata": {},
   "outputs": [],
   "source": [
    "#find Tmarkers_MC38_res0.5_presto with wilcox test in presto\n",
    "Tmarkers_MC38_res0.5_presto <- wilcoxauc(X = SAGA_CD8T_MC38_SeuratObj, group_by = 'RNA_snn_res.0.5')"
   ]
  },
  {
   "cell_type": "code",
   "execution_count": null,
   "id": "1670d3a8-f768-4cf1-ba3d-d9837f87cd2d",
   "metadata": {},
   "outputs": [],
   "source": [
    "Tmarkers_MC38_res0.5_presto %>% filter(group=='0', pct_in > 10) %>% arrange(desc(logFC)) %>% slice_max(logFC, n = 50)"
   ]
  },
  {
   "cell_type": "code",
   "execution_count": null,
   "id": "d9c836a3-00b9-4c19-9487-d10661e628f2",
   "metadata": {},
   "outputs": [],
   "source": [
    "##maincluster RNA_snn_res.0.5\n",
    "options(repr.plot.height = 10, repr.plot.width = 10)\n",
    "Idents(SAGA_CD8T_MC38_SeuratObj) <- SAGA_CD8T_MC38_SeuratObj$`RNA_snn_res.0.5`\n",
    "\n",
    "Tcluster_anno <- c('0' = 'Contamination', '1' = 'CD8T_Ttd', '2' = 'CD8T_Ttd','3' = 'CD8T_Tstem', '4' = 'CD8T_Teffector')\n",
    "\n",
    "\n",
    "SAGA_CD8T_MC38_SeuratObj$Tcluster_res0.5 <- Tcluster_anno[ as.character(SAGA_CD8T_MC38_SeuratObj$`RNA_snn_res.0.5`) ]\n",
    "\n",
    "\n",
    "DimPlot(SAGA_CD8T_MC38_SeuratObj, label = T, pt.size = 0.5, label.size = 5, repel = T, reduction = 'umap', group.by = 'Tcluster_res0.5') +\n",
    "    theme(plot.title = element_text(size = 30),\n",
    "          legend.text = element_text(size = 20),\n",
    "          legend.key.size = unit(0.5, \"inches\")) +\n",
    "    guides(colour = guide_legend(override.aes = list(size = 5)))"
   ]
  },
  {
   "cell_type": "code",
   "execution_count": null,
   "id": "253702d1-1a5c-4862-8c5a-2a928484e3c1",
   "metadata": {},
   "outputs": [],
   "source": [
    "SAGA_CD8T_MC38_SeuratObj <- subset(SAGA_CD8T_MC38_SeuratObj, subset = CellLine == 'MC38' & Tcluster_res0.5 != 'Contamination')"
   ]
  },
  {
   "cell_type": "code",
   "execution_count": null,
   "id": "d2c6ba85-0879-42ea-85f6-5aa82a14ddf7",
   "metadata": {},
   "outputs": [],
   "source": [
    "DimPlot(SAGA_CD8T_MC38_SeuratObj, label = T, pt.size = 0.5, label.size = 5, repel = T, reduction = 'umap', group.by = 'Tcluster_res0.5') +\n",
    "    theme(plot.title = element_text(size = 30),\n",
    "          legend.text = element_text(size = 20),\n",
    "          legend.key.size = unit(0.5, \"inches\")) +\n",
    "    guides(colour = guide_legend(override.aes = list(size = 5)))"
   ]
  },
  {
   "cell_type": "code",
   "execution_count": null,
   "id": "b9d287f8-3a9c-4b6e-b7f0-a71eeb9b69e2",
   "metadata": {},
   "outputs": [],
   "source": [
    "saveRDS(SAGA_CD8T_MC38_SeuratObj, paste0(wd, '/objects_v2/(SAGA_CD8T_MC38_SeuratObj.rds'))"
   ]
  },
  {
   "cell_type": "code",
   "execution_count": null,
   "id": "cb454e0d-8899-4fe0-95ef-88cc707a6884",
   "metadata": {},
   "outputs": [],
   "source": []
  },
  {
   "cell_type": "code",
   "execution_count": null,
   "id": "7eb528ca-6af8-471c-a204-89c45712c769",
   "metadata": {},
   "outputs": [],
   "source": []
  },
  {
   "cell_type": "code",
   "execution_count": null,
   "id": "59250e5d-c9eb-4b05-b50b-c7fc94b57e1d",
   "metadata": {},
   "outputs": [],
   "source": [
    "options(repr.plot.height = 10, repr.plot.width = 12)\n",
    "DimPlot(SAGA_CD8T_MC38_SeuratObj, label = T, pt.size = 0.5, label.size = 5, repel = T, reduction = 'umap', group.by = 'Tcluster_res0.5') +\n",
    "    scale_color_manual(values = imm_subcelltype_colors, limits = c('CD8T_Tstem', 'CD8T_Teffector', 'CD8T_Ttd'), labels = c('Naive', 'Stem-like', 'Effector-like', 'Terminally differentiated')) +\n",
    "    theme_classic(base_size = 25, base_family = 'Helvetica', base_line_size = 0.5, base_rect_size = 0) +\n",
    "    transparent_bg +\n",
    "    theme(legend.position = 'right',\n",
    "          axis.text = element_text(colour = 'black'),\n",
    "          axis.text.x = element_text(angle = 0),\n",
    "          axis.title.x = element_text(margin = margin(15,0,0,0)),\n",
    "          axis.title.y = element_text(margin = margin(0,15,0,0)))"
   ]
  },
  {
   "cell_type": "code",
   "execution_count": null,
   "id": "eed1a076-cefc-444b-8d31-4c7b3d37dc9e",
   "metadata": {},
   "outputs": [],
   "source": [
    "options(repr.plot.height = 4, repr.plot.width = 8)\n",
    "CD8T_markers <- c('Ccr7', 'Sell', 'Tcf7', 'Lef1', 'Slamf6', 'Mki67', 'Ifng', 'Gzma', 'Gzmb', 'Prf1', 'Cd101', 'Cd38', 'Tox', 'Pdcd1', 'Lag3', 'Havcr2')\n",
    "DotPlot(SAGA_CD8T_MC38_SeuratObj, features = CD8T_markers, group.by = 'Tcluster_res0.5', scale = T) + \n",
    "    scale_y_discrete(limits = c('CD8T_Tstem', 'CD8T_Teffector', 'CD8T_Ttd'), labels = c('Stem-like', 'Effector-like', 'Terminally \\ndifferentiated')) +\n",
    "    scale_color_gradient2(low = '#e0e0e0', mid = '#f7d94c', high = '#db2531') + #FF0000 #db2531 \n",
    "    xlab(label = NULL) +\n",
    "    ylab(label = NULL) +\n",
    "    theme_classic(base_size = 20, base_family = 'Helvetica', base_line_size = 0.5, base_rect_size = 0) +\n",
    "    transparent_bg +\n",
    "    theme(legend.position = 'right',\n",
    "          axis.text = element_text(colour = 'black'),\n",
    "          axis.text.x = element_text(angle = 270),\n",
    "          axis.title.x = element_text(margin = margin(15,0,0,0)),\n",
    "          axis.title.y = element_text(margin = margin(0,15,0,0)))\n",
    "\n",
    "ggsave(filename = paste0(wd, '/figures_v2', '/', 'SAGA_CD8T_MC38_MarkerGene_DotPlot.pdf'), device = 'pdf', width = 8, height = 4, bg = 'transparent')"
   ]
  },
  {
   "cell_type": "markdown",
   "id": "777ab04d-6eba-4278-a189-9594dd859d62",
   "metadata": {},
   "source": [
    "### Differential abundance analysis"
   ]
  },
  {
   "cell_type": "markdown",
   "id": "0ccf9194-cdad-4a5d-80fa-f3caf9cfcc36",
   "metadata": {},
   "source": [
    "#### Direct ratio"
   ]
  },
  {
   "cell_type": "code",
   "execution_count": null,
   "id": "83493ebb-5b3f-4df4-bf7b-0089f93bab50",
   "metadata": {},
   "outputs": [],
   "source": [
    "options(repr.plot.height = 6, repr.plot.width = 16)\n",
    "SAGA_CD8T_B16_SeuratObj$`sgRNA` <-  factor(SAGA_CD8T_B16_SeuratObj$`sgRNA`, levels = c('sgNT', 'sgC', 'sgS'))\n",
    "DimPlot(object = SAGA_CD8T_B16_SeuratObj, reduction = 'umap', split.by = 'sgRNA', group.by = 'Tcluster_res0.1', pt.size = 0.0001) +\n",
    "    scale_color_manual(values = imm_subcelltype_colors, limits = c('CD8T_Tn', 'CD8T_Tstem', 'CD8T_Teffector', 'CD8T_Ttd', 'CD8T_Tex')) +\n",
    "    ggtitle(label = 'B16F10 Cell Line (Experiment1 + Experiment2)')\n",
    "\n",
    "ggsave(filename = paste0(wd, '/figures_v2', '/', 'SAGA_CD8T_B16_UMAP.pdf'), device = 'pdf', width = 12, height = 5, bg = 'transparent')\n",
    "ggsave(filename = paste0(wd, '/figures_v2', '/', 'SAGA_CD8T_B16_UMAP.png'), device = 'png', width = 12, height = 5, dpi = 300, bg = 'transparent')"
   ]
  },
  {
   "cell_type": "code",
   "execution_count": null,
   "id": "c6206048-ec54-499b-8e9b-3640587a0a1f",
   "metadata": {},
   "outputs": [],
   "source": [
    "options(repr.plot.height = 6, repr.plot.width = 16)\n",
    "SAGA_CD8T_B16_SeuratObj$`sgRNA` <-  factor(SAGA_CD8T_B16_SeuratObj$`sgRNA`, levels = c('sgNT', 'sgC', 'sgS'))\n",
    "DimPlot(object = SAGA_CD8T_B16_SeuratObj, reduction = 'umap', split.by = 'sgRNA', group.by = 'Tcluster_res0.1') +\n",
    "    ggtitle(label = 'B16F10 Cell Line CD8+ T Cells (Experiment1 + Experiment2)')"
   ]
  },
  {
   "cell_type": "code",
   "execution_count": null,
   "id": "1ed55f89-a3a0-415f-839d-8fc1f9cbe610",
   "metadata": {},
   "outputs": [],
   "source": [
    "options(repr.plot.height = 6, repr.plot.width = 16)\n",
    "SAGA_CD8T_B16_SeuratObj$`sgRNA` <-  factor(SAGA_CD8T_B16_SeuratObj$`sgRNA`, levels = c('sgNT', 'sgC', 'sgS'))\n",
    "DimPlot(object = SAGA_CD8T_B16_SeuratObj, reduction = 'umap', split.by = 'sgRNA', group.by = 'ExperimentID') +\n",
    "    ggtitle(label = 'B16F10 Cell Line CD8+ T Cells (Experiment1 + Experiment2)')"
   ]
  },
  {
   "cell_type": "code",
   "execution_count": null,
   "id": "bd7b631b-d0fe-497c-aa00-f466261a1a84",
   "metadata": {},
   "outputs": [],
   "source": [
    "#SAGA_CD8T_B16_SeuratObj; Proportion\n",
    "options(repr.plot.height = 5, repr.plot.width = 6)\n",
    "FetchData(SAGA_CD8T_B16_SeuratObj, vars = c('sgRNA', 'Tcluster_res0.1')) %>%\n",
    "    group_by(sgRNA, Tcluster_res0.1) %>%\n",
    "    summarise(n_cell_cluster = n()) %>%\n",
    "    mutate(n_cell_total = sum(n_cell_cluster), proportion = n_cell_cluster/n_cell_total) %>%\n",
    "    mutate(Cluster = factor(Tcluster_res0.1, levels = rev(c('CD8T_Tn', 'CD8T_Tstem', 'CD8T_Teffector', 'CD8T_Ttd', 'CD8T_Tex')))) %>%\n",
    "    ggplot(mapping = aes(x = sgRNA, y = proportion, fill = Cluster)) +\n",
    "    geom_col(position = 'stack', alpha = 1) +\n",
    "    scale_x_discrete(limits = c('sgNT', 'sgC', 'sgS')) +\n",
    "    scale_fill_manual(values = imm_subcelltype_colors, limits = c('CD8T_Tn', 'CD8T_Tstem', 'CD8T_Teffector', 'CD8T_Ttd', 'CD8T_Tex'), labels = c('Naive', 'Stem-like', 'Effector-like', 'Terminally \\ndifferentiated', 'Exhausted')) +\n",
    "    xlab(label = NULL) +\n",
    "    ylab(label = 'Fraction') +\n",
    "    theme_classic(base_size = 20, base_family = 'Helvetica', base_line_size = 0.5, base_rect_size = 0) +\n",
    "    transparent_bg +\n",
    "    theme(legend.position = 'right',\n",
    "          axis.text = element_text(colour = 'black'),\n",
    "          axis.text.x = element_text(angle = 0),\n",
    "          axis.title.x = element_text(margin = margin(15,0,0,0)),\n",
    "          axis.title.y = element_text(margin = margin(0,15,0,0)))\n",
    "\n",
    "ggsave(filename = paste0(wd, '/figures_v2', '/', 'SAGA_CD8T_B16_Proportion_BarPlot.pdf'), device = 'pdf', width = 6, height = 5, bg = 'transparent')"
   ]
  },
  {
   "cell_type": "code",
   "execution_count": null,
   "id": "95947392-ae4a-4114-9aea-ef380f1809b3",
   "metadata": {},
   "outputs": [],
   "source": []
  },
  {
   "cell_type": "code",
   "execution_count": null,
   "id": "63d6dfc9-c8e9-43a1-8dbf-6f1321f0eb1c",
   "metadata": {},
   "outputs": [],
   "source": []
  },
  {
   "cell_type": "code",
   "execution_count": null,
   "id": "6a376a17-ae03-43c9-a1db-8f69633bed2d",
   "metadata": {},
   "outputs": [],
   "source": [
    "options(repr.plot.height = 6, repr.plot.width = 16)\n",
    "SAGA_CD8T_MC38_SeuratObj$`sgRNA` <-  factor(SAGA_CD8T_MC38_SeuratObj$`sgRNA`, levels = c('sgNT', 'sgC'))\n",
    "DimPlot(object = SAGA_CD8T_MC38_SeuratObj, reduction = 'umap', split.by = 'sgRNA', group.by = 'Tcluster_res0.5', pt.size = 2) +\n",
    "    scale_color_manual(values = imm_subcelltype_colors, limits = c('CD8T_Tstem', 'CD8T_Teffector', 'CD8T_Ttd')) +\n",
    "    ggtitle(label = 'MC38 Cell Line (Experiment1 + Experiment2)')\n",
    "\n",
    "ggsave(filename = paste0(wd, '/figures_v2', '/', 'SAGA_CD8T_MC38_UMAP.pdf'), device = 'pdf', width = 12, height = 5, bg = 'transparent')\n",
    "ggsave(filename = paste0(wd, '/figures_v2', '/', 'SAGA_CD8T_MC38_UMAP.png'), device = 'png', width = 12, height = 5, dpi = 300, bg = 'transparent')"
   ]
  },
  {
   "cell_type": "code",
   "execution_count": null,
   "id": "e38b4834-1b73-4bf5-8c86-1888a02ab43a",
   "metadata": {},
   "outputs": [],
   "source": [
    "options(repr.plot.height = 6, repr.plot.width = 16)\n",
    "SAGA_CD8T_MC38_SeuratObj$`sgRNA` <-  factor(SAGA_CD8T_MC38_SeuratObj$`sgRNA`, levels = c('sgNT', 'sgC'))\n",
    "DimPlot(object = SAGA_CD8T_MC38_SeuratObj, reduction = 'umap', split.by = 'sgRNA', group.by = 'Tcluster_res0.5') +\n",
    "    ggtitle(label = 'MC38 Cell Line CD8+ T Cells (Experiment3 + Experiment4)')"
   ]
  },
  {
   "cell_type": "code",
   "execution_count": null,
   "id": "577a5c3b-3adb-41cd-9aa1-1ec1b0d81ea1",
   "metadata": {},
   "outputs": [],
   "source": [
    "options(repr.plot.height = 6, repr.plot.width = 16)\n",
    "SAGA_CD8T_MC38_SeuratObj$`sgRNA` <-  factor(SAGA_CD8T_MC38_SeuratObj$`sgRNA`, levels = c('sgNT', 'sgC'))\n",
    "DimPlot(object = SAGA_CD8T_MC38_SeuratObj, reduction = 'umap', split.by = 'sgRNA', group.by = 'ExperimentID') +\n",
    "    ggtitle(label = 'MC38 Cell Line CD8+ T Cells (Experiment3 + Experiment4)')"
   ]
  },
  {
   "cell_type": "code",
   "execution_count": null,
   "id": "f038e98e-70a2-4ad2-b191-333c1e70e5f4",
   "metadata": {},
   "outputs": [],
   "source": [
    "#SAGA_CD8T_MC38_SeuratObj; Proportion\n",
    "options(repr.plot.height = 5, repr.plot.width = 6)\n",
    "FetchData(SAGA_CD8T_MC38_SeuratObj, vars = c('sgRNA', 'Tcluster_res0.5')) %>%\n",
    "    group_by(sgRNA, Tcluster_res0.5) %>%\n",
    "    summarise(n_cell_cluster = n()) %>%\n",
    "    mutate(n_cell_total = sum(n_cell_cluster), proportion = n_cell_cluster/n_cell_total) %>%\n",
    "    mutate(Cluster = factor(Tcluster_res0.5, levels = rev(c('CD8T_Tstem', 'CD8T_Teffector', 'CD8T_Ttd')))) %>%\n",
    "    ggplot(mapping = aes(x = sgRNA, y = proportion, fill = Cluster)) +\n",
    "    geom_col(position = 'stack', alpha = 1) +\n",
    "    scale_x_discrete(limits = c('sgNT', 'sgC')) +\n",
    "    scale_fill_manual(values = imm_subcelltype_colors, limits = c('CD8T_Tstem', 'CD8T_Teffector', 'CD8T_Ttd'), labels = c('Stem-like', 'Effector-like', 'Terminally \\ndifferentiated')) +\n",
    "    xlab(label = NULL) +\n",
    "    ylab(label = 'Fraction') +\n",
    "    theme_classic(base_size = 20, base_family = 'Helvetica', base_line_size = 0.5, base_rect_size = 0) +\n",
    "    transparent_bg +\n",
    "    theme(legend.position = 'right',\n",
    "          axis.text = element_text(colour = 'black'),\n",
    "          axis.text.x = element_text(angle = 0),\n",
    "          axis.title.x = element_text(margin = margin(15,0,0,0)),\n",
    "          axis.title.y = element_text(margin = margin(0,15,0,0)))\n",
    "\n",
    "ggsave(filename = paste0(wd, '/figures_v2', '/', 'SAGA_CD8T_MC38_Proportion_BarPlot.pdf'), device = 'pdf', width = 6, height = 5, bg = 'transparent')"
   ]
  },
  {
   "cell_type": "markdown",
   "id": "c8d2eff8-b469-4ee3-8447-b84f213d407e",
   "metadata": {},
   "source": [
    "### Differential state analysis"
   ]
  },
  {
   "cell_type": "markdown",
   "id": "e6d42daa-f4c1-404d-857c-bf42a6e85dc7",
   "metadata": {},
   "source": [
    "#### Gene"
   ]
  },
  {
   "cell_type": "code",
   "execution_count": null,
   "id": "bd993883-cb16-4b6b-afa8-d137328309e3",
   "metadata": {},
   "outputs": [],
   "source": [
    "options(repr.plot.height = 4, repr.plot.width = 7)\n",
    "\n",
    "DotPlot(SAGA_CD8T_B16_SeuratObj, features = c('Ccl5', 'Ifng', 'Prf1', 'Gzmb'), group.by = 'sgRNA', scale = F) + \n",
    "    scale_y_discrete(limits = c('sgNT', 'sgC', 'sgS')) +\n",
    "    scale_color_gradient(low = '#fde9eb', high = '#db2531') + #FF0000 #db2531\n",
    "#    scale_size_area(max_size = 1) +\n",
    "    xlab(label = NULL) +\n",
    "    ylab(label = NULL) +\n",
    "    theme_classic(base_size = 20, base_family = 'Helvetica', base_line_size = 0.5, base_rect_size = 0) +\n",
    "    transparent_bg +\n",
    "    theme(legend.position = 'right',\n",
    "          axis.text = element_text(colour = 'black'),\n",
    "          axis.text.x = element_text(angle = 0),\n",
    "          axis.title.x = element_text(margin = margin(15,0,0,0)),\n",
    "          axis.title.y = element_text(margin = margin(0,15,0,0)))\n",
    "\n",
    "ggsave(filename = paste0(wd, '/figures_v2', '/', 'SAGA_CD8T_B16_GeneExpression_DotPlot.pdf'), device = 'pdf', width = 7, height = 4, bg = 'transparent')"
   ]
  },
  {
   "cell_type": "code",
   "execution_count": null,
   "id": "76469dbb-ed25-4586-bd81-9e5db0dc382e",
   "metadata": {},
   "outputs": [],
   "source": [
    "options(repr.plot.height = 4, repr.plot.width = 7)\n",
    "\n",
    "DotPlot(SAGA_CD8T_MC38_SeuratObj, features = c('Ccl5', 'Ifng', 'Prf1', 'Gzmb'), group.by = 'sgRNA', scale = F) + \n",
    "    scale_y_discrete(limits = c('sgNT', 'sgC')) +\n",
    "    scale_color_gradient(low = '#fde9eb', high = '#db2531') + #FF0000 #db2531\n",
    "#    scale_size_area(max_size = 1) +\n",
    "    xlab(label = NULL) +\n",
    "    ylab(label = NULL) +\n",
    "    theme_classic(base_size = 20, base_family = 'Helvetica', base_line_size = 0.5, base_rect_size = 0) +\n",
    "    transparent_bg +\n",
    "    theme(legend.position = 'right',\n",
    "          axis.text = element_text(colour = 'black'),\n",
    "          axis.text.x = element_text(angle = 0),\n",
    "          axis.title.x = element_text(margin = margin(15,0,0,0)),\n",
    "          axis.title.y = element_text(margin = margin(0,15,0,0)))\n",
    "\n",
    "ggsave(filename = paste0(wd, '/figures_v2', '/', 'SAGA_CD8T_MC38_GeneExpression_DotPlot.pdf'), device = 'pdf', width = 7, height = 4, bg = 'transparent')"
   ]
  },
  {
   "cell_type": "markdown",
   "id": "f21ab9df-5abd-441c-8ae5-840af638eab3",
   "metadata": {},
   "source": [
    "#### Gene set"
   ]
  },
  {
   "cell_type": "markdown",
   "id": "d47bec15-9b69-425a-8932-13055bfa83ff",
   "metadata": {},
   "source": [
    "##### CD8_Related"
   ]
  },
  {
   "cell_type": "code",
   "execution_count": null,
   "id": "8a17c1f4-80fc-4c33-b37c-1904ed5df1c9",
   "metadata": {},
   "outputs": [],
   "source": [
    "Effector_cytokine_genes <- c(\n",
    "  \"Ctla4\", \"Xcl1\", \"Gadd45b\", \"Ifng\", \"Lif\", \"Ccl4\", \"Il3\", \"Ccl3\", \n",
    "  \"Irf4\", \"Serpinb6b\", \"Serpinb9\", \"Gzmc\", \"Gzmb\", \"Nr4a1\", \"Cd200\", \n",
    "  \"Il2ra\", \"Il2\", \"Il21\", \"Nr4a3\", \"Tnfrsf9\", \"Mfsd2\", \"Cxcl10\", \n",
    "  \"Hk2\", \"Utf1\", \"Irf8\", \"Mela\", \"Sema7a\", \"Serpine2\"\n",
    ")\n",
    "\n",
    "Early_activation_genes_human <- c(\n",
    "    \"CXCL13\", \"HAVCR2\", \"CTLA4\", \"TOX\", \"TNFRSF9\", \"DTHD1\", \"NAB1\",\n",
    "    \"TTN\", \"PDCD1\", \"IPCEF1\", \"ITGAE\", \"FKBP5\", \"SIRPG\", \"FCRL3\", \"CD84\",\n",
    "    \"PAM\", \"CXCR6\", \"ETS1\", \"ATHL1\", \"CD27\", \"PYHIN1\", \"IL6ST\", \"SMAP2\",\n",
    "    \"LYST\", \"ERAP2\", \"KLRC4\", \"LRMP\", \"CCL4L2\", \"PRDM1\", \"AHI1\", \"PLCB2\",\n",
    "    \"EVL\", \"LPIN1\", \"PDE4D\", \"RBPJ\", \"TCIRG1\", \"OXNAD1\", \"CBLB\", \"HNRNPLL\",\n",
    "    \"DUSP4\", \"NAP1L4\", \"TXNIP\", \"RGS1\", \"CCL4L1\", \"RAP1GDS1\", \"TIGIT\",\n",
    "    \"PARK7\", \"CCL4\", \"IKZF3\", \"SH2D1A\", \"ATXN1\", \"ITK\")\n",
    "\n",
    "Early_activation_genes_mouse <- c(\n",
    "    \"Cxcl13\", \"Havcr2\", \"Ctla4\", \"Tox\", \"Tnfrsf9\", \"Dthd1\", \"Nab1\",\n",
    "    \"Ttn\", \"Pdcd1\", \"Ipcef1\", \"Itgae\", \"Fkbp5\", \"Sirpg\", \"Fcrl3\", \"Cd84\",\n",
    "    \"Pam\", \"Cxcr6\", \"Ets1\", \"Cd27\", \"Il6st\", \"Smap2\", \"Lyst\", \"Erap2\",\n",
    "    \"Klrc4\", \"Lrmp\", \"Ccl4\", \"Prdm1\", \"Ahi1\", \"Plcb2\", \"Evl\", \"Lpin1\",\n",
    "    \"Pde4d\", \"Rbpj\", \"Tcirg1\", \"Oxnad1\", \"Cblb\", \"Hnrnpll\", \"Dusp4\",\n",
    "    \"Nap1l4\", \"Txnip\", \"Rgs1\", \"Rap1gds1\", \"Tigit\", \"Park7\", \"Ikzf3\",\n",
    "    \"Sh2d1a\", \"Atxn1\", \"Itk\"\n",
    ")"
   ]
  },
  {
   "cell_type": "code",
   "execution_count": null,
   "id": "b9150bc0-dc6a-4734-9546-0761c27db396",
   "metadata": {},
   "outputs": [],
   "source": []
  },
  {
   "cell_type": "code",
   "execution_count": null,
   "id": "2c0afdf3-497b-4c3f-91b9-7667560ef149",
   "metadata": {},
   "outputs": [],
   "source": [
    "Curated_GS <- c('Effector_or_cytokine_production', 'Early_activation', 'Program_A', 'Program_B', 'Program_C', 'Program_D')\n",
    "Curated_GS_list <- list('Effector_or_cytokine_production' = Effector_cytokine_genes, 'Early_activation' = Early_activation_genes_mouse)"
   ]
  },
  {
   "cell_type": "code",
   "execution_count": null,
   "id": "7828f5c2-4bc0-4bc3-922b-d7c632f81b1e",
   "metadata": {},
   "outputs": [],
   "source": [
    "for (GS in Curated_GS) {\n",
    "    SAGA_CD8T_B16_SeuratObj <- AddModuleScore(object = SAGA_CD8T_B16_SeuratObj, features = list(Curated_GS_list[[GS]] %>% unique()), name = paste0(GS, '_'))\n",
    "    SAGA_CD8T_MC38_SeuratObj <- AddModuleScore(object = SAGA_CD8T_MC38_SeuratObj, features = list(Curated_GS_list[[GS]] %>% unique()), name = paste0(GS, '_'))\n",
    "}"
   ]
  },
  {
   "cell_type": "code",
   "execution_count": null,
   "id": "b7be24d1-a535-4b6e-a39c-054cb148aaf1",
   "metadata": {},
   "outputs": [],
   "source": [
    "SAGA_CD8T_B16_SeuratObj[[]] %>% colnames()"
   ]
  },
  {
   "cell_type": "code",
   "execution_count": null,
   "id": "26bbea89-0c59-4b1f-ad5b-32f3ba97d9a0",
   "metadata": {},
   "outputs": [],
   "source": [
    "options(repr.plot.height = 6, repr.plot.width = 8)\n",
    "\n",
    "FetchData(SAGA_CD8T_B16_SeuratObj, vars = c('sgRNA', 'Early_activation_1', 'Effector_or_cytokine_production_1')) %>%\n",
    "    pivot_longer(cols = c('Early_activation_1', 'Effector_or_cytokine_production_1'), names_to = 'geneset', values_to = 'score') %>%\n",
    "    ggplot(mapping = aes(x = sgRNA, y = score, fill = sgRNA)) +\n",
    "    geom_violin(linewidth=0.2, alpha = 0.5, position = position_dodge(0.85)) +\n",
    "    geom_boxplot(notch=T, width=0.2, linewidth=0.2, alpha = 0.5, position = position_dodge(0.85), outlier.size = 0) +\n",
    "    facet_wrap(~ geneset, nrow = 1, strip.position = 'top', scales = 'free', labeller = as_labeller(c(Early_activation_1 = 'Early activation', Effector_or_cytokine_production_1 = 'Effector/cytokine \\nproduction'))) +\n",
    "    stat_compare_means(mapping = aes(group = sgRNA), label = 'p.signif', method = 'wilcox.test', size = 6, comparisons = list(c(\"sgC\", \"sgNT\"), c(\"sgS\", \"sgNT\"))) +\n",
    "    scale_x_discrete(limits = c('sgNT', 'sgC', 'sgS')) +\n",
    "    scale_fill_manual(values = sgRNA_color, limits = c('sgNT', 'sgC', 'sgS')) +\n",
    "    xlab(label = NULL) +\n",
    "    ylab(label = 'Activity Score') +\n",
    "    theme_classic(base_size = 25, base_family = 'Helvetica', base_line_size = 0.5, base_rect_size = 0) +\n",
    "    transparent_bg +\n",
    "    theme(legend.position = 'none',\n",
    "          axis.text = element_text(colour = 'black'),\n",
    "          axis.text.x = element_text(angle = 0),\n",
    "          axis.title.x = element_text(margin = margin(15,0,0,0)),\n",
    "          axis.title.y = element_text(margin = margin(0,15,0,0)))\n",
    "\n",
    "ggsave(filename = paste0(wd, '/figures_v2', '/', 'SAGA_CD8T_B16_Activity_Score_VlnPlot.pdf'), device = 'pdf', width = 8, height = 6, bg = 'transparent')"
   ]
  },
  {
   "cell_type": "code",
   "execution_count": null,
   "id": "2032cbea-d2cb-4088-8f75-7b555b47d56b",
   "metadata": {},
   "outputs": [],
   "source": []
  },
  {
   "cell_type": "code",
   "execution_count": null,
   "id": "e160e8fc-d888-4d59-90af-b25033f248f8",
   "metadata": {},
   "outputs": [],
   "source": [
    "options(repr.plot.height = 6, repr.plot.width = 8)\n",
    "\n",
    "FetchData(SAGA_CD8T_MC38_SeuratObj, vars = c('sgRNA', 'Early_activation_1', 'Effector_or_cytokine_production_1')) %>%\n",
    "    pivot_longer(cols = c('Early_activation_1', 'Effector_or_cytokine_production_1'), names_to = 'geneset', values_to = 'score') %>%\n",
    "    ggplot(mapping = aes(x = sgRNA, y = score, fill = sgRNA)) +\n",
    "    geom_violin(linewidth=0.2, alpha = 0.5, position = position_dodge(0.85)) +\n",
    "    geom_boxplot(notch=T, width=0.2, linewidth=0.2, alpha = 0.5, position = position_dodge(0.85), outlier.size = 0) +\n",
    "    facet_wrap(~ geneset, nrow = 1, strip.position = 'top', scales = 'free', labeller = as_labeller(c(Early_activation_1 = 'Early activation', Effector_or_cytokine_production_1 = 'Effector/cytokine \\nproduction'))) +\n",
    "    stat_compare_means(mapping = aes(group = sgRNA), label = 'p.signif', method = 'wilcox.test', size = 6, comparisons = list(c(\"sgC\", \"sgNT\"))) +\n",
    "    scale_x_discrete(limits = c('sgNT', 'sgC')) +\n",
    "    scale_fill_manual(values = sgRNA_color, limits = c('sgNT', 'sgC')) +\n",
    "    xlab(label = NULL) +\n",
    "    ylab(label = 'Activity Score') +\n",
    "    theme_classic(base_size = 25, base_family = 'Helvetica', base_line_size = 0.5, base_rect_size = 0) +\n",
    "    transparent_bg +\n",
    "    theme(legend.position = 'none',\n",
    "          axis.text = element_text(colour = 'black'),\n",
    "          axis.text.x = element_text(angle = 0),\n",
    "          axis.title.x = element_text(margin = margin(15,0,0,0)),\n",
    "          axis.title.y = element_text(margin = margin(0,15,0,0)))\n",
    "\n",
    "ggsave(filename = paste0(wd, '/figures_v2', '/', 'SAGA_CD8T_MC38_Activity_Score_VlnPlot.pdf'), device = 'pdf', width = 8, height = 6, bg = 'transparent')"
   ]
  },
  {
   "cell_type": "code",
   "execution_count": null,
   "id": "6781e20b-e51b-494c-894a-1ef370403d8e",
   "metadata": {},
   "outputs": [],
   "source": [
    "saveRDS(SAGA_CD8T_B16_SeuratObj, paste0(wd, '/objects/SAGA_CD8T_B16_SeuratObj.rds'))\n",
    "saveRDS(SAGA_CD8T_MC38_SeuratObj, paste0(wd, '/objects/SAGA_CD8T_MC38_SeuratObj.rds'))"
   ]
  },
  {
   "cell_type": "code",
   "execution_count": null,
   "id": "03d3e6a8-9d88-41e5-b848-92588a4cbe6e",
   "metadata": {},
   "outputs": [],
   "source": [
    "SAGA_CD8T_B16_SeuratObj <- readRDS(paste0(wd, '/objects/SAGA_CD8T_B16_SeuratObj.rds'))\n",
    "SAGA_CD8T_MC38_SeuratObj <- readRDS(paste0(wd, '/objects/SAGA_CD8T_MC38_SeuratObj.rds'))"
   ]
  },
  {
   "cell_type": "code",
   "execution_count": null,
   "id": "9c9df5fe-8ea6-4ef8-a3fc-b24cd844bac6",
   "metadata": {},
   "outputs": [],
   "source": []
  }
 ],
 "metadata": {
  "@deathbeds/jupyterlab-fonts": {
   "fontLicenses": {
    "Anonymous Pro Bold": {
     "holders": [
      "Copyright (c) 2009, Mark Simonson (http://www.ms-studio.com, mark@marksimonson.com), with Reserved Font Name Anonymous Pro Minus."
     ],
     "name": "SIL Open Font License 1.1",
     "spdx": "OFL-1.1",
     "text": "Copyright (c) 2009, Mark Simonson (http://www.ms-studio.com, mark@marksimonson.com),\nwith Reserved Font Name Anonymous Pro Minus.\n\nThis Font Software is licensed under the SIL Open Font License, Version 1.1.\nThis license is copied below, and is also available with a FAQ at:\nhttp://scripts.sil.org/OFL\n\n\n-----------------------------------------------------------\nSIL OPEN FONT LICENSE Version 1.1 - 26 February 2007\n-----------------------------------------------------------\n\nPREAMBLE\nThe goals of the Open Font License (OFL) are to stimulate worldwide\ndevelopment of collaborative font projects, to support the font creation\nefforts of academic and linguistic communities, and to provide a free and\nopen framework in which fonts may be shared and improved in partnership\nwith others.\n\nThe OFL allows the licensed fonts to be used, studied, modified and\nredistributed freely as long as they are not sold by themselves. The\nfonts, including any derivative works, can be bundled, embedded,\nredistributed and/or sold with any software provided that any reserved\nnames are not used by derivative works. The fonts and derivatives,\nhowever, cannot be released under any other type of license. The\nrequirement for fonts to remain under this license does not apply\nto any document created using the fonts or their derivatives.\n\nDEFINITIONS\n\"Font Software\" refers to the set of files released by the Copyright\nHolder(s) under this license and clearly marked as such. This may\ninclude source files, build scripts and documentation.\n\n\"Reserved Font Name\" refers to any names specified as such after the\ncopyright statement(s).\n\n\"Original Version\" refers to the collection of Font Software components as\ndistributed by the Copyright Holder(s).\n\n\"Modified Version\" refers to any derivative made by adding to, deleting,\nor substituting -- in part or in whole -- any of the components of the\nOriginal Version, by changing formats or by porting the Font Software to a\nnew environment.\n\n\"Author\" refers to any designer, engineer, programmer, technical\nwriter or other person who contributed to the Font Software.\n\nPERMISSION & CONDITIONS\nPermission is hereby granted, free of charge, to any person obtaining\na copy of the Font Software, to use, study, copy, merge, embed, modify,\nredistribute, and sell modified and unmodified copies of the Font\nSoftware, subject to the following conditions:\n\n1) Neither the Font Software nor any of its individual components,\nin Original or Modified Versions, may be sold by itself.\n\n2) Original or Modified Versions of the Font Software may be bundled,\nredistributed and/or sold with any software, provided that each copy\ncontains the above copyright notice and this license. These can be\nincluded either as stand-alone text files, human-readable headers or\nin the appropriate machine-readable metadata fields within text or\nbinary files as long as those fields can be easily viewed by the user.\n\n3) No Modified Version of the Font Software may use the Reserved Font\nName(s) unless explicit written permission is granted by the corresponding\nCopyright Holder. This restriction only applies to the primary font name as\npresented to the users.\n\n4) The name(s) of the Copyright Holder(s) or the Author(s) of the Font\nSoftware shall not be used to promote, endorse or advertise any\nModified Version, except to acknowledge the contribution(s) of the\nCopyright Holder(s) and the Author(s) or with their explicit written\npermission.\n\n5) The Font Software, modified or unmodified, in part or in whole,\nmust be distributed entirely under this license, and must not be\ndistributed under any other license. The requirement for fonts to\nremain under this license does not apply to any document created\nusing the Font Software.\n\nTERMINATION\nThis license becomes null and void if any of the above conditions are\nnot met.\n\nDISCLAIMER\nTHE FONT SOFTWARE IS PROVIDED \"AS IS\", WITHOUT WARRANTY OF ANY KIND,\nEXPRESS OR IMPLIED, INCLUDING BUT NOT LIMITED TO ANY WARRANTIES OF\nMERCHANTABILITY, FITNESS FOR A PARTICULAR PURPOSE AND NONINFRINGEMENT\nOF COPYRIGHT, PATENT, TRADEMARK, OR OTHER RIGHT. IN NO EVENT SHALL THE\nCOPYRIGHT HOLDER BE LIABLE FOR ANY CLAIM, DAMAGES OR OTHER LIABILITY,\nINCLUDING ANY GENERAL, SPECIAL, INDIRECT, INCIDENTAL, OR CONSEQUENTIAL\nDAMAGES, WHETHER IN AN ACTION OF CONTRACT, TORT OR OTHERWISE, ARISING\nFROM, OUT OF THE USE OR INABILITY TO USE THE FONT SOFTWARE OR FROM\nOTHER DEALINGS IN THE FONT SOFTWARE.\n"
    }
   },
   "fonts": {
    "Anonymous Pro Bold": [
     {
      "font-family": "Anonymous Pro Bold",
      "src": "url('data:font/woff2;charset=utf-8;base64,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') format('woff2')"
     }
    ]
   },
   "styles": {
    ":root": {
     "--jp-code-font-family": "'Anonymous Pro Bold'",
     "--jp-code-font-size": "16px"
    }
   }
  },
  "kernelspec": {
   "display_name": "R-4.2.0",
   "language": "R",
   "name": "ir-4.2.0"
  },
  "language_info": {
   "codemirror_mode": "r",
   "file_extension": ".r",
   "mimetype": "text/x-r-source",
   "name": "R",
   "pygments_lexer": "r",
   "version": "4.2.3"
  }
 },
 "nbformat": 4,
 "nbformat_minor": 5
}
